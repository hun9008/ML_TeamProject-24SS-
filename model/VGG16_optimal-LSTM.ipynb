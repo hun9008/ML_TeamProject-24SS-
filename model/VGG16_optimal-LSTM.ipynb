{
  "nbformat": 4,
  "nbformat_minor": 0,
  "metadata": {
    "colab": {
      "provenance": [],
      "machine_shape": "hm",
      "gpuType": "A100",
      "include_colab_link": true
    },
    "kernelspec": {
      "name": "python3",
      "display_name": "Python 3"
    },
    "language_info": {
      "name": "python"
    },
    "accelerator": "GPU"
  },
  "cells": [
    {
      "cell_type": "markdown",
      "metadata": {
        "id": "view-in-github",
        "colab_type": "text"
      },
      "source": [
        "<a href=\"https://colab.research.google.com/github/hun9008/ML_TeamProject_24SS/blob/main/VGG16_optimal-LSTM.ipynb\" target=\"_parent\"><img src=\"https://colab.research.google.com/assets/colab-badge.svg\" alt=\"Open In Colab\"/></a>"
      ]
    },
    {
      "cell_type": "code",
      "source": [
        "from google.colab import drive\n",
        "drive.mount('/content/drive')"
      ],
      "metadata": {
        "id": "i6So7_tYHkP5",
        "outputId": "626630e8-77e3-4f00-dd78-57e7548221ca",
        "colab": {
          "base_uri": "https://localhost:8080/"
        }
      },
      "execution_count": 30,
      "outputs": [
        {
          "output_type": "stream",
          "name": "stdout",
          "text": [
            "Drive already mounted at /content/drive; to attempt to forcibly remount, call drive.mount(\"/content/drive\", force_remount=True).\n"
          ]
        }
      ]
    },
    {
      "cell_type": "code",
      "source": [
        "cd /content/drive/MyDrive/data/"
      ],
      "metadata": {
        "id": "qPH0SO-qGzjY",
        "colab": {
          "base_uri": "https://localhost:8080/"
        },
        "outputId": "5262b499-247f-4520-aa60-732d78e277f1"
      },
      "execution_count": 31,
      "outputs": [
        {
          "output_type": "stream",
          "name": "stdout",
          "text": [
            "/content/drive/.shortcut-targets-by-id/1G6SgIRKCYt5sUkkaCAiAmdP0_hZA-rFs/data\n"
          ]
        }
      ]
    },
    {
      "cell_type": "code",
      "execution_count": 32,
      "metadata": {
        "colab": {
          "base_uri": "https://localhost:8080/"
        },
        "id": "MaQi2LTwPNco",
        "outputId": "0b738e7a-dfb9-4fbe-de6d-1c1ad5c98d58"
      },
      "outputs": [
        {
          "output_type": "stream",
          "name": "stdout",
          "text": [
            "\u001b[0m\u001b[01;34mblurr_cut_png\u001b[0m/   data_2000.zip     \u001b[01;34mimages_cut_jpg\u001b[0m/      \u001b[01;34mimages_gray_png\u001b[0m/     images_jpg.zip\n",
            "\u001b[01;34mcut_resize_jpg\u001b[0m/  \u001b[01;34mgray_cut_jpg\u001b[0m/     \u001b[01;34mimages_gray_jpg\u001b[0m/     images_gray_png.zip  \u001b[01;34mimages_png\u001b[0m/\n",
            "\u001b[01;34mcut_resize_png\u001b[0m/  \u001b[01;34mimages_cut2_png\u001b[0m/  images_gray_jpg.zip  \u001b[01;34mimages_jpg\u001b[0m/          images_png.zip\n"
          ]
        }
      ],
      "source": [
        "ls"
      ]
    },
    {
      "cell_type": "code",
      "source": [
        "!pip install optuna"
      ],
      "metadata": {
        "colab": {
          "base_uri": "https://localhost:8080/"
        },
        "id": "_O_T_aU6PdD1",
        "outputId": "dddeed91-41f7-4238-ab1d-68c082d8422d"
      },
      "execution_count": 33,
      "outputs": [
        {
          "output_type": "stream",
          "name": "stdout",
          "text": [
            "Requirement already satisfied: optuna in /usr/local/lib/python3.10/dist-packages (3.6.1)\n",
            "Requirement already satisfied: alembic>=1.5.0 in /usr/local/lib/python3.10/dist-packages (from optuna) (1.13.1)\n",
            "Requirement already satisfied: colorlog in /usr/local/lib/python3.10/dist-packages (from optuna) (6.8.2)\n",
            "Requirement already satisfied: numpy in /usr/local/lib/python3.10/dist-packages (from optuna) (1.25.2)\n",
            "Requirement already satisfied: packaging>=20.0 in /usr/local/lib/python3.10/dist-packages (from optuna) (24.0)\n",
            "Requirement already satisfied: sqlalchemy>=1.3.0 in /usr/local/lib/python3.10/dist-packages (from optuna) (2.0.30)\n",
            "Requirement already satisfied: tqdm in /usr/local/lib/python3.10/dist-packages (from optuna) (4.66.4)\n",
            "Requirement already satisfied: PyYAML in /usr/local/lib/python3.10/dist-packages (from optuna) (6.0.1)\n",
            "Requirement already satisfied: Mako in /usr/local/lib/python3.10/dist-packages (from alembic>=1.5.0->optuna) (1.3.5)\n",
            "Requirement already satisfied: typing-extensions>=4 in /usr/local/lib/python3.10/dist-packages (from alembic>=1.5.0->optuna) (4.11.0)\n",
            "Requirement already satisfied: greenlet!=0.4.17 in /usr/local/lib/python3.10/dist-packages (from sqlalchemy>=1.3.0->optuna) (3.0.3)\n",
            "Requirement already satisfied: MarkupSafe>=0.9.2 in /usr/local/lib/python3.10/dist-packages (from Mako->alembic>=1.5.0->optuna) (2.1.5)\n"
          ]
        }
      ]
    },
    {
      "cell_type": "code",
      "source": [
        "import tensorflow as tf\n",
        "import os\n",
        "import pickle\n",
        "import optuna\n",
        "import pandas as pd\n",
        "import numpy as np\n",
        "from tensorflow.keras.callbacks import EarlyStopping\n",
        "import matplotlib.pyplot as plt\n",
        "from optuna.visualization import plot_optimization_history\n",
        "from sklearn.model_selection import train_test_split\n",
        "from tensorflow.keras.applications import VGG16\n",
        "from tensorflow.keras.models import Sequential\n",
        "from tensorflow.keras.layers import Dense, Flatten, Conv2D, MaxPooling2D, Dropout\n",
        "from tensorflow.keras.optimizers import Adam\n",
        "from tensorflow.keras.utils import to_categorical\n",
        "\n",
        "gpus = tf.config.experimental.list_physical_devices('GPU')\n",
        "if gpus:\n",
        "  try:\n",
        "    # Currently, memory growth needs to be the same across GPUs\n",
        "    for gpu in gpus:\n",
        "      tf.config.experimental.set_memory_growth(gpu, True)\n",
        "    logical_gpus = tf.config.experimental.list_logical_devices('GPU')\n",
        "    print(len(gpus), \"Physical GPUs,\", len(logical_gpus), \"Logical GPUs\")\n",
        "  except RuntimeError as e:\n",
        "    # Memory growth must be set before GPUs have been initialized\n",
        "    print(e)\n"
      ],
      "metadata": {
        "colab": {
          "base_uri": "https://localhost:8080/"
        },
        "id": "_3zfoxPtPjlS",
        "outputId": "532f4945-d232-4c87-ce8b-32626b0dc33c"
      },
      "execution_count": 34,
      "outputs": [
        {
          "output_type": "stream",
          "name": "stdout",
          "text": [
            "1 Physical GPUs, 1 Logical GPUs\n"
          ]
        }
      ]
    },
    {
      "cell_type": "code",
      "source": [
        "image_path = \"/content/drive/MyDrive/data/images_gray_jpg/\""
      ],
      "metadata": {
        "id": "KE16NJ5TPlN_"
      },
      "execution_count": 35,
      "outputs": []
    },
    {
      "cell_type": "code",
      "source": [
        "!ls"
      ],
      "metadata": {
        "id": "34-qwn4kPr92",
        "outputId": "cfad0d97-54c5-4e83-c333-9aafd0116910",
        "colab": {
          "base_uri": "https://localhost:8080/"
        }
      },
      "execution_count": 36,
      "outputs": [
        {
          "output_type": "stream",
          "name": "stdout",
          "text": [
            "blurr_cut_png\tdata_2000.zip\t images_cut_jpg       images_gray_png\t   images_jpg.zip\n",
            "cut_resize_jpg\tgray_cut_jpg\t images_gray_jpg      images_gray_png.zip  images_png\n",
            "cut_resize_png\timages_cut2_png  images_gray_jpg.zip  images_jpg\t   images_png.zip\n"
          ]
        }
      ]
    },
    {
      "cell_type": "code",
      "source": [
        "os.chdir(os.path.join(image_path, 'overripe'))\n",
        "with open('zero_centering.pkl', 'rb') as f:\n",
        "     overripe = pickle.load(f)\n",
        "     print('overripe : ', len(overripe))\n",
        "os.chdir(os.path.join(image_path, 'no'))\n",
        "with open('zero_centering.pkl', 'rb') as f:\n",
        "     no = pickle.load(f)\n",
        "     print('no : ', len(no))\n",
        "\n",
        "os.chdir(os.path.join(image_path, 'mature'))\n",
        "with open('zero_centering.pkl', 'rb') as f:\n",
        "     mature = pickle.load(f)\n",
        "     print('mature : ', len(mature))\n",
        "\n",
        "os.chdir(os.path.join(image_path, 'incipient'))\n",
        "with open('zero_centering.pkl', 'rb') as f:\n",
        "     incipient = pickle.load(f)\n",
        "     print('incipient : ', len(incipient))"
      ],
      "metadata": {
        "id": "fJHViDgyXvON",
        "colab": {
          "base_uri": "https://localhost:8080/"
        },
        "outputId": "9efed859-37cc-4ec3-b025-89526ff312bb"
      },
      "execution_count": 37,
      "outputs": [
        {
          "output_type": "stream",
          "name": "stdout",
          "text": [
            "overripe :  2000\n",
            "no :  2000\n",
            "mature :  2000\n",
            "incipient :  2000\n"
          ]
        }
      ]
    },
    {
      "cell_type": "code",
      "source": [
        "# overripe의 모든 사진에 대해 반복\n",
        "overripe_data_list = []\n",
        "\n",
        "for filename, data in overripe.items():\n",
        "    zero_centering_value = data.get('zero_centering')\n",
        "    overripe_data_list.append(np.array(zero_centering_value))\n",
        "\n",
        "# 리스트를 NumPy 배열로 변환\n",
        "overripe_data = np.array(overripe_data_list)\n",
        "\n",
        "# 확인을 위해 배열의 크기 출력\n",
        "print(\"overripe_data shape:\", overripe_data.shape)\n",
        "no_data_list = []\n",
        "\n",
        "for filename, data in no.items():\n",
        "    zero_centering_value = data.get('zero_centering')\n",
        "    no_data_list.append(np.array(zero_centering_value))\n",
        "\n",
        "# 리스트를 NumPy 배열로 변환\n",
        "no_data = np.array(no_data_list)\n",
        "\n",
        "# 확인을 위해 배열의 크기 출력\n",
        "print(\"no_data shape:\", no_data.shape)\n",
        "\n",
        "mature_data_list = []\n",
        "\n",
        "for filename, data in mature.items():\n",
        "    zero_centering_value = data.get('zero_centering')\n",
        "    mature_data_list.append(np.array(zero_centering_value))\n",
        "\n",
        "# 리스트를 NumPy 배열로 변환\n",
        "mature_data = np.array(mature_data_list)\n",
        "\n",
        "# 확인을 위해 배열의 크기 출력\n",
        "print(\"mature_data shape:\", mature_data.shape)\n",
        "\n",
        "incipient_data_list = []\n",
        "\n",
        "for filename, data in incipient.items():\n",
        "    zero_centering_value = data.get('zero_centering')\n",
        "    incipient_data_list.append(np.array(zero_centering_value))\n",
        "\n",
        "# 리스트를 NumPy 배열로 변환\n",
        "incipient_data = np.array(incipient_data_list)\n",
        "\n",
        "# 확인을 위해 배열의 크기 출력\n",
        "print(\"incipient_data shape:\", incipient_data.shape)"
      ],
      "metadata": {
        "id": "S416B45TYrTz",
        "colab": {
          "base_uri": "https://localhost:8080/"
        },
        "outputId": "435328e2-8c36-41d9-aa55-12ffc6151565"
      },
      "execution_count": 38,
      "outputs": [
        {
          "output_type": "stream",
          "name": "stdout",
          "text": [
            "overripe_data shape: (2000, 224, 224)\n",
            "no_data shape: (2000, 224, 224)\n",
            "mature_data shape: (2000, 224, 224)\n",
            "incipient_data shape: (2000, 224, 224)\n"
          ]
        }
      ]
    },
    {
      "cell_type": "code",
      "source": [
        "# 데이터를 train/validation/test로 나누기\n",
        "X = np.concatenate((overripe_data, no_data, mature_data, incipient_data), axis=0)\n",
        "y = np.concatenate((np.zeros(overripe_data.shape[0]), np.ones(no_data.shape[0]),\n",
        "                    2*np.ones(mature_data.shape[0]), 3*np.ones(incipient_data.shape[0])))\n",
        "\n",
        "X_train, X_temp, y_train, y_temp = train_test_split(X, y, test_size=0.3, random_state=42)\n",
        "X_val, X_test, y_val, y_test = train_test_split(X_temp, y_temp, test_size=0.5, random_state=42)\n",
        "\n",
        "print(X_train.shape)\n",
        "print(X_val.shape)\n",
        "print(X_test.shape)"
      ],
      "metadata": {
        "id": "YElpNyQEYyOP",
        "colab": {
          "base_uri": "https://localhost:8080/"
        },
        "outputId": "4de85df2-ca31-47c0-9dd1-b765b978456f"
      },
      "execution_count": 39,
      "outputs": [
        {
          "output_type": "stream",
          "name": "stdout",
          "text": [
            "(5600, 224, 224)\n",
            "(1200, 224, 224)\n",
            "(1200, 224, 224)\n"
          ]
        }
      ]
    },
    {
      "cell_type": "markdown",
      "source": [
        "y one-hot"
      ],
      "metadata": {
        "id": "fC5k-MspbVG3"
      }
    },
    {
      "cell_type": "code",
      "source": [
        "y_train_one_hot = to_categorical(y_train)\n",
        "y_val_one_hot = to_categorical(y_val)\n",
        "y_test_one_hot = to_categorical(y_test)"
      ],
      "metadata": {
        "id": "MPyh4QsebQm_"
      },
      "execution_count": 40,
      "outputs": []
    },
    {
      "cell_type": "markdown",
      "source": [
        "Training & Test"
      ],
      "metadata": {
        "id": "lhdB7e9DckDT"
      }
    },
    {
      "cell_type": "code",
      "source": [
        "X_train = np.repeat(X_train[..., np.newaxis], 3, axis=-1)\n",
        "X_val = np.repeat(X_val[..., np.newaxis], 3, axis=-1)\n",
        "X_test = np.repeat(X_test[..., np.newaxis], 3, axis=-1)\n",
        "\n",
        "def train_vgg16_model():\n",
        "  # Load pre-trained VGG16 model without top layers\n",
        "  base_model = VGG16(weights='imagenet', include_top=False, input_shape=(224, 224, 3))\n",
        "\n",
        "  # Freeze the base model layers\n",
        "  for layer in base_model.layers:\n",
        "      layer.trainable = False\n",
        "\n",
        "  # Add custom top layers for classification\n",
        "  model = Sequential([\n",
        "      base_model,\n",
        "      Flatten(),\n",
        "      Dense(512, activation='relu'),\n",
        "      Dropout(0.5),\n",
        "      Dense(4, activation='softmax')\n",
        "  ])\n",
        "\n",
        "  # Compile model\n",
        "  optimizer = Adam(lr=5.520238899015578e-05)\n",
        "  #optimizer = Adam(lr=study.best_params['lr'])\n",
        "  model.compile(optimizer=optimizer, loss='categorical_crossentropy', metrics=['accuracy'])\n",
        "\n",
        "  # Fine-tuning: Unfreeze some layers and train the entire model with new data\n",
        "  for layer in model.layers:\n",
        "      if 'block5' in layer.name:  # Unfreeze layers starting from 'block5'\n",
        "          layer.trainable = True\n",
        "\n",
        "  # Define early stopping callback\n",
        "  #early_stopping = EarlyStopping(monitor='val_loss', patience=3, restore_best_weights=True)\n",
        "\n",
        "  # Train the model with early stopping\n",
        "  #history = model.fit(X_train, y_train_one_hot, validation_data=(X_val, y_val_one_hot), batch_size=study.best_params['batch_size'], epochs=50, callbacks=[early_stopping])\n",
        "  # history = model.fit(X_train, y_train_one_hot, validation_data=(X_val, y_val_one_hot), batch_size=16, epochs=50, callbacks=[early_stopping])\n",
        "  history = model.fit(X_train, y_train_one_hot, validation_data=(X_val, y_val_one_hot), batch_size=16, epochs=50)\n",
        "\n",
        "  # Plot training history\n",
        "  plt.plot(history.history['loss'], label='Training Loss')\n",
        "  plt.plot(history.history['val_loss'], label='Validation Loss')\n",
        "  plt.xlabel('Epoch')\n",
        "  plt.ylabel('Loss')\n",
        "  plt.legend()\n",
        "  plt.title('Training and Validation Loss')\n",
        "  plt.show()\n",
        "\n",
        "  # Evaluate the model\n",
        "  model.summary()\n",
        "  test_loss, test_acc = model.evaluate(X_test, y_test_one_hot)\n",
        "  print('Test accuracy:', test_acc)\n"
      ],
      "metadata": {
        "id": "KwVGjPhQSsCr"
      },
      "execution_count": 41,
      "outputs": []
    },
    {
      "cell_type": "code",
      "source": [
        "train_vgg16_model()"
      ],
      "metadata": {
        "id": "-G7NJPuJSsj9",
        "outputId": "4ca45b82-a587-42a4-9267-bcc6e07f29af",
        "colab": {
          "base_uri": "https://localhost:8080/",
          "height": 1000
        }
      },
      "execution_count": 42,
      "outputs": [
        {
          "output_type": "stream",
          "name": "stderr",
          "text": [
            "WARNING:absl:`lr` is deprecated in Keras optimizer, please use `learning_rate` or use the legacy optimizer, e.g.,tf.keras.optimizers.legacy.Adam.\n"
          ]
        },
        {
          "output_type": "stream",
          "name": "stdout",
          "text": [
            "Epoch 1/50\n",
            "350/350 [==============================] - 9s 22ms/step - loss: 1.2416 - accuracy: 0.4923 - val_loss: 0.8771 - val_accuracy: 0.5317\n",
            "Epoch 2/50\n",
            "350/350 [==============================] - 6s 16ms/step - loss: 0.8965 - accuracy: 0.5293 - val_loss: 0.8416 - val_accuracy: 0.5725\n",
            "Epoch 3/50\n",
            "350/350 [==============================] - 6s 16ms/step - loss: 0.8774 - accuracy: 0.5402 - val_loss: 0.8406 - val_accuracy: 0.5875\n",
            "Epoch 4/50\n",
            "350/350 [==============================] - 6s 16ms/step - loss: 0.8608 - accuracy: 0.5570 - val_loss: 0.8386 - val_accuracy: 0.5492\n",
            "Epoch 5/50\n",
            "350/350 [==============================] - 6s 16ms/step - loss: 0.8438 - accuracy: 0.5618 - val_loss: 0.8057 - val_accuracy: 0.5950\n",
            "Epoch 6/50\n",
            "350/350 [==============================] - 6s 17ms/step - loss: 0.8013 - accuracy: 0.5886 - val_loss: 0.7871 - val_accuracy: 0.6192\n",
            "Epoch 7/50\n",
            "350/350 [==============================] - 6s 16ms/step - loss: 0.7970 - accuracy: 0.5936 - val_loss: 0.7923 - val_accuracy: 0.5933\n",
            "Epoch 8/50\n",
            "350/350 [==============================] - 6s 16ms/step - loss: 0.7850 - accuracy: 0.5986 - val_loss: 0.8391 - val_accuracy: 0.5500\n",
            "Epoch 9/50\n",
            "350/350 [==============================] - 6s 16ms/step - loss: 0.7754 - accuracy: 0.5998 - val_loss: 0.7598 - val_accuracy: 0.6217\n",
            "Epoch 10/50\n",
            "350/350 [==============================] - 6s 16ms/step - loss: 0.7499 - accuracy: 0.6273 - val_loss: 0.7570 - val_accuracy: 0.6392\n",
            "Epoch 11/50\n",
            "350/350 [==============================] - 6s 16ms/step - loss: 0.7337 - accuracy: 0.6357 - val_loss: 0.7562 - val_accuracy: 0.6508\n",
            "Epoch 12/50\n",
            "350/350 [==============================] - 6s 16ms/step - loss: 0.7197 - accuracy: 0.6352 - val_loss: 0.7412 - val_accuracy: 0.6475\n",
            "Epoch 13/50\n",
            "350/350 [==============================] - 6s 16ms/step - loss: 0.7245 - accuracy: 0.6445 - val_loss: 0.7383 - val_accuracy: 0.6525\n",
            "Epoch 14/50\n",
            "350/350 [==============================] - 6s 16ms/step - loss: 0.7041 - accuracy: 0.6484 - val_loss: 0.7713 - val_accuracy: 0.6183\n",
            "Epoch 15/50\n",
            "350/350 [==============================] - 6s 16ms/step - loss: 0.7035 - accuracy: 0.6523 - val_loss: 0.7703 - val_accuracy: 0.6367\n",
            "Epoch 16/50\n",
            "350/350 [==============================] - 6s 16ms/step - loss: 0.6961 - accuracy: 0.6582 - val_loss: 0.7460 - val_accuracy: 0.6408\n",
            "Epoch 17/50\n",
            "350/350 [==============================] - 6s 16ms/step - loss: 0.6657 - accuracy: 0.6746 - val_loss: 0.7735 - val_accuracy: 0.6383\n",
            "Epoch 18/50\n",
            "350/350 [==============================] - 6s 16ms/step - loss: 0.6732 - accuracy: 0.6682 - val_loss: 0.7569 - val_accuracy: 0.6192\n",
            "Epoch 19/50\n",
            "350/350 [==============================] - 6s 16ms/step - loss: 0.6485 - accuracy: 0.6805 - val_loss: 0.7438 - val_accuracy: 0.6450\n",
            "Epoch 20/50\n",
            "350/350 [==============================] - 6s 16ms/step - loss: 0.6791 - accuracy: 0.6652 - val_loss: 0.7778 - val_accuracy: 0.6217\n",
            "Epoch 21/50\n",
            "350/350 [==============================] - 6s 16ms/step - loss: 0.7270 - accuracy: 0.6145 - val_loss: 0.8036 - val_accuracy: 0.6150\n",
            "Epoch 22/50\n",
            "350/350 [==============================] - 6s 16ms/step - loss: 0.6963 - accuracy: 0.6463 - val_loss: 0.7799 - val_accuracy: 0.6000\n",
            "Epoch 23/50\n",
            "350/350 [==============================] - 6s 16ms/step - loss: 0.6987 - accuracy: 0.6479 - val_loss: 0.7443 - val_accuracy: 0.6342\n",
            "Epoch 24/50\n",
            "350/350 [==============================] - 6s 16ms/step - loss: 0.6853 - accuracy: 0.6646 - val_loss: 0.7496 - val_accuracy: 0.6558\n",
            "Epoch 25/50\n",
            "350/350 [==============================] - 6s 16ms/step - loss: 0.6438 - accuracy: 0.6795 - val_loss: 0.7754 - val_accuracy: 0.6508\n",
            "Epoch 26/50\n",
            "350/350 [==============================] - 6s 16ms/step - loss: 0.6184 - accuracy: 0.6895 - val_loss: 0.7696 - val_accuracy: 0.6483\n",
            "Epoch 27/50\n",
            "350/350 [==============================] - 6s 16ms/step - loss: 0.6601 - accuracy: 0.6530 - val_loss: 0.7857 - val_accuracy: 0.5675\n",
            "Epoch 28/50\n",
            "350/350 [==============================] - 6s 16ms/step - loss: 0.6542 - accuracy: 0.6650 - val_loss: 0.8257 - val_accuracy: 0.6358\n",
            "Epoch 29/50\n",
            "350/350 [==============================] - 6s 16ms/step - loss: 0.6091 - accuracy: 0.6963 - val_loss: 0.8337 - val_accuracy: 0.6275\n",
            "Epoch 30/50\n",
            "350/350 [==============================] - 6s 16ms/step - loss: 0.5840 - accuracy: 0.7096 - val_loss: 0.8436 - val_accuracy: 0.6283\n",
            "Epoch 31/50\n",
            "350/350 [==============================] - 6s 16ms/step - loss: 0.5759 - accuracy: 0.7227 - val_loss: 0.8190 - val_accuracy: 0.6408\n",
            "Epoch 32/50\n",
            "350/350 [==============================] - 6s 16ms/step - loss: 0.5750 - accuracy: 0.7261 - val_loss: 0.8709 - val_accuracy: 0.6408\n",
            "Epoch 33/50\n",
            "350/350 [==============================] - 6s 16ms/step - loss: 0.6023 - accuracy: 0.7068 - val_loss: 0.8251 - val_accuracy: 0.6367\n",
            "Epoch 34/50\n",
            "350/350 [==============================] - 6s 16ms/step - loss: 0.5632 - accuracy: 0.7282 - val_loss: 0.8720 - val_accuracy: 0.6275\n",
            "Epoch 35/50\n",
            "350/350 [==============================] - 6s 16ms/step - loss: 0.5437 - accuracy: 0.7441 - val_loss: 0.8167 - val_accuracy: 0.6358\n",
            "Epoch 36/50\n",
            "350/350 [==============================] - 6s 16ms/step - loss: 0.6034 - accuracy: 0.7230 - val_loss: 0.7999 - val_accuracy: 0.6333\n",
            "Epoch 37/50\n",
            "350/350 [==============================] - 6s 16ms/step - loss: 0.5523 - accuracy: 0.7350 - val_loss: 0.8791 - val_accuracy: 0.6483\n",
            "Epoch 38/50\n",
            "350/350 [==============================] - 6s 16ms/step - loss: 0.5445 - accuracy: 0.7437 - val_loss: 0.8491 - val_accuracy: 0.6542\n",
            "Epoch 39/50\n",
            "350/350 [==============================] - 6s 16ms/step - loss: 0.5467 - accuracy: 0.7418 - val_loss: 0.9318 - val_accuracy: 0.6475\n",
            "Epoch 40/50\n",
            "350/350 [==============================] - 6s 16ms/step - loss: 0.5188 - accuracy: 0.7564 - val_loss: 0.9581 - val_accuracy: 0.6575\n",
            "Epoch 41/50\n",
            "350/350 [==============================] - 6s 16ms/step - loss: 0.5165 - accuracy: 0.7561 - val_loss: 0.9093 - val_accuracy: 0.6483\n",
            "Epoch 42/50\n",
            "350/350 [==============================] - 6s 16ms/step - loss: 0.5273 - accuracy: 0.7482 - val_loss: 0.8509 - val_accuracy: 0.6408\n",
            "Epoch 43/50\n",
            "350/350 [==============================] - 6s 16ms/step - loss: 0.5022 - accuracy: 0.7623 - val_loss: 0.9232 - val_accuracy: 0.6450\n",
            "Epoch 44/50\n",
            "350/350 [==============================] - 6s 16ms/step - loss: 0.5209 - accuracy: 0.7341 - val_loss: 0.9263 - val_accuracy: 0.6383\n",
            "Epoch 45/50\n",
            "350/350 [==============================] - 6s 16ms/step - loss: 0.4947 - accuracy: 0.7605 - val_loss: 0.8701 - val_accuracy: 0.6150\n",
            "Epoch 46/50\n",
            "350/350 [==============================] - 6s 16ms/step - loss: 0.5716 - accuracy: 0.7098 - val_loss: 1.0251 - val_accuracy: 0.6442\n",
            "Epoch 47/50\n",
            "350/350 [==============================] - 6s 16ms/step - loss: 0.4790 - accuracy: 0.7695 - val_loss: 0.8424 - val_accuracy: 0.6325\n",
            "Epoch 48/50\n",
            "350/350 [==============================] - 6s 16ms/step - loss: 0.4905 - accuracy: 0.7673 - val_loss: 0.9690 - val_accuracy: 0.6358\n",
            "Epoch 49/50\n",
            "350/350 [==============================] - 6s 16ms/step - loss: 0.5162 - accuracy: 0.7393 - val_loss: 0.9420 - val_accuracy: 0.6342\n",
            "Epoch 50/50\n",
            "350/350 [==============================] - 6s 16ms/step - loss: 0.5453 - accuracy: 0.7084 - val_loss: 1.0824 - val_accuracy: 0.6425\n"
          ]
        },
        {
          "output_type": "display_data",
          "data": {
            "text/plain": [
              "<Figure size 640x480 with 1 Axes>"
            ],
            "image/png": "[encoded data removed]"
          },
          "metadata": {}
        },
        {
          "output_type": "stream",
          "name": "stdout",
          "text": [
            "Model: \"sequential_2\"\n",
            "_________________________________________________________________\n",
            " Layer (type)                Output Shape              Param #   \n",
            "=================================================================\n",
            " vgg16 (Functional)          (None, 7, 7, 512)         14714688  \n",
            "                                                                 \n",
            " flatten_3 (Flatten)         (None, 25088)             0         \n",
            "                                                                 \n",
            " dense_7 (Dense)             (None, 512)               12845568  \n",
            "                                                                 \n",
            " dropout_6 (Dropout)         (None, 512)               0         \n",
            "                                                                 \n",
            " dense_8 (Dense)             (None, 4)                 2052      \n",
            "                                                                 \n",
            "=================================================================\n",
            "Total params: 27562308 (105.14 MB)\n",
            "Trainable params: 12847620 (49.01 MB)\n",
            "Non-trainable params: 14714688 (56.13 MB)\n",
            "_________________________________________________________________\n",
            "38/38 [==============================] - 1s 23ms/step - loss: 1.0354 - accuracy: 0.6383\n",
            "Test accuracy: 0.6383333206176758\n"
          ]
        }
      ]
    },
    {
      "cell_type": "markdown",
      "source": [
        "# VGG-LSTM"
      ],
      "metadata": {
        "id": "uvFQIZ33mu7u"
      }
    },
    {
      "cell_type": "code",
      "source": [
        "from tensorflow.keras.models import Sequential, Model\n",
        "from tensorflow.keras.layers import Conv2D, MaxPooling2D, Flatten, Dense, LSTM, Dropout, BatchNormalization, Reshape\n",
        "from tensorflow.keras.optimizers import Adam\n",
        "from tensorflow.keras.applications import VGG16\n",
        "from tensorflow.keras.callbacks import EarlyStopping\n",
        "from tensorflow.keras.utils import to_categorical\n",
        "from tensorflow.keras.regularizers import l2\n",
        "import matplotlib.pyplot as plt\n",
        "from tensorflow.keras.preprocessing.image import ImageDataGenerator\n",
        "\n",
        "def train_vgg16_cnn_lstm_model():\n",
        "    # Load pre-trained VGG16 model without top layers\n",
        "    base_model = VGG16(weights='imagenet', include_top=False, input_shape=(224, 224, 3))\n",
        "\n",
        "    # Freeze the base model layers\n",
        "    for layer in base_model.layers:\n",
        "        layer.trainable = False\n",
        "\n",
        "    # Add custom top layers for classification\n",
        "    vgg16_model = base_model.output\n",
        "    vgg16_model = Flatten()(vgg16_model)\n",
        "    vgg16_model = Dense(1024, activation='relu', kernel_regularizer=l2(0.01))(vgg16_model)\n",
        "    vgg16_model = Dropout(0.6)(vgg16_model)\n",
        "    vgg16_model = Dense(512, activation='relu', kernel_regularizer=l2(0.01))(vgg16_model)\n",
        "    vgg16_model = Dropout(0.6)(vgg16_model)\n",
        "\n",
        "    # Add CNN-LSTM layers\n",
        "    cnn_lstm_model = Reshape((1, 512))(vgg16_model)\n",
        "    cnn_lstm_model = LSTM(256, return_sequences=True, kernel_regularizer=l2(0.01))(cnn_lstm_model) #L2\n",
        "    cnn_lstm_model = Dropout(0.6)(cnn_lstm_model)\n",
        "    cnn_lstm_model = LSTM(256, kernel_regularizer=l2(0.01))(cnn_lstm_model)\n",
        "    cnn_lstm_model = Dropout(0.6)(cnn_lstm_model)\n",
        "\n",
        "    # Add output layer\n",
        "    num_classes = 4  # 클래스 개수 설정\n",
        "    output = Dense(num_classes, activation='softmax')(cnn_lstm_model)\n",
        "\n",
        "    # Create the final model\n",
        "    model = Model(inputs=base_model.input, outputs=output)\n",
        "\n",
        "    # Compile model\n",
        "    optimizer = Adam(lr=5.520238899015578e-05)\n",
        "    model.compile(optimizer=optimizer, loss='categorical_crossentropy', metrics=['accuracy'])\n",
        "\n",
        "    # Fine-tuning: Unfreeze some layers and train the entire model with new data\n",
        "    for layer in model.layers:\n",
        "        if 'block4' in layer.name or 'block5' in layer.name:  # Unfreeze layers starting from 'block4'\n",
        "            layer.trainable = True\n",
        "\n",
        "    # Define early stopping callback\n",
        "    #early_stopping = EarlyStopping(monitor='val_loss', patience=5, restore_best_weights=True)\n",
        "\n",
        "    # Data augmentation\n",
        "    train_datagen = ImageDataGenerator(\n",
        "        rescale=1./255,\n",
        "        rotation_range=20,\n",
        "        width_shift_range=0.2,\n",
        "        height_shift_range=0.2,\n",
        "        shear_range=0.2,\n",
        "        zoom_range=0.2,\n",
        "        horizontal_flip=True,\n",
        "        fill_mode='nearest'\n",
        "    )\n",
        "\n",
        "    # Train the model with early stopping and data augmentation\n",
        "    batch_size = 16\n",
        "    train_generator = train_datagen.flow(X_train, y_train_one_hot, batch_size=batch_size)\n",
        "    steps_per_epoch = len(X_train) // batch_size\n",
        "\n",
        "    history = model.fit(\n",
        "        train_generator,\n",
        "        steps_per_epoch=steps_per_epoch,\n",
        "        validation_data=(X_val, y_val_one_hot),\n",
        "        epochs=50\n",
        "    )\n",
        "\n",
        "    # Plot training history\n",
        "    plt.plot(history.history['loss'], label='Training Loss')\n",
        "    plt.plot(history.history['val_loss'], label='Validation Loss')\n",
        "    plt.xlabel('Epoch')\n",
        "    plt.ylabel('Loss')\n",
        "    plt.legend()\n",
        "    plt.title('Training and Validation Loss')\n",
        "    plt.show()\n",
        "\n",
        "    # Evaluate the model\n",
        "    model.summary()\n",
        "    val_loss, val_acc = model.evaluate(X_val, y_val_one_hot)\n",
        "    print('val accuracy:', val_acc)\n",
        "    test_loss, test_acc = model.evaluate(X_test, y_test_one_hot)\n",
        "    print('Test accuracy:', test_acc)"
      ],
      "metadata": {
        "id": "G6Cei5K9cgft"
      },
      "execution_count": 43,
      "outputs": []
    },
    {
      "cell_type": "code",
      "source": [
        "train_vgg16_cnn_lstm_model()"
      ],
      "metadata": {
        "colab": {
          "base_uri": "https://localhost:8080/",
          "height": 1000
        },
        "id": "gf6q3umTkcMR",
        "outputId": "789b76aa-7ccf-43da-b2fc-85996d8463f8"
      },
      "execution_count": 44,
      "outputs": [
        {
          "metadata": {
            "tags": null
          },
          "name": "stderr",
          "output_type": "stream",
          "text": [
            "WARNING:absl:`lr` is deprecated in Keras optimizer, please use `learning_rate` or use the legacy optimizer, e.g.,tf.keras.optimizers.legacy.Adam.\n"
          ]
        },
        {
          "output_type": "stream",
          "name": "stdout",
          "text": [
            "Epoch 1/50\n",
            "350/350 [==============================] - 64s 169ms/step - loss: 3.4843 - accuracy: 0.2495 - val_loss: 1.4711 - val_accuracy: 0.2358\n",
            "Epoch 2/50\n",
            "350/350 [==============================] - 57s 164ms/step - loss: 1.4120 - accuracy: 0.2484 - val_loss: 1.3920 - val_accuracy: 0.2358\n",
            "Epoch 3/50\n",
            "350/350 [==============================] - 57s 164ms/step - loss: 1.3885 - accuracy: 0.2550 - val_loss: 1.3876 - val_accuracy: 0.2358\n",
            "Epoch 4/50\n",
            "350/350 [==============================] - 58s 165ms/step - loss: 1.3870 - accuracy: 0.2504 - val_loss: 1.3869 - val_accuracy: 0.2383\n",
            "Epoch 5/50\n",
            "350/350 [==============================] - 58s 164ms/step - loss: 1.3867 - accuracy: 0.2516 - val_loss: 1.3872 - val_accuracy: 0.2358\n",
            "Epoch 6/50\n",
            "350/350 [==============================] - 58s 165ms/step - loss: 1.3867 - accuracy: 0.2502 - val_loss: 1.3886 - val_accuracy: 0.2358\n",
            "Epoch 7/50\n",
            "350/350 [==============================] - 58s 164ms/step - loss: 1.3867 - accuracy: 0.2543 - val_loss: 1.3880 - val_accuracy: 0.2358\n",
            "Epoch 8/50\n",
            "350/350 [==============================] - 57s 164ms/step - loss: 1.3868 - accuracy: 0.2498 - val_loss: 1.3880 - val_accuracy: 0.2358\n",
            "Epoch 9/50\n",
            "350/350 [==============================] - 57s 164ms/step - loss: 1.3869 - accuracy: 0.2525 - val_loss: 1.3870 - val_accuracy: 0.2608\n",
            "Epoch 10/50\n",
            "350/350 [==============================] - 58s 165ms/step - loss: 1.3867 - accuracy: 0.2498 - val_loss: 1.3876 - val_accuracy: 0.2358\n",
            "Epoch 11/50\n",
            "350/350 [==============================] - 58s 164ms/step - loss: 1.3868 - accuracy: 0.2475 - val_loss: 1.3878 - val_accuracy: 0.2358\n",
            "Epoch 12/50\n",
            "350/350 [==============================] - 57s 164ms/step - loss: 1.3867 - accuracy: 0.2562 - val_loss: 1.3879 - val_accuracy: 0.2358\n",
            "Epoch 13/50\n",
            "350/350 [==============================] - 58s 165ms/step - loss: 1.3868 - accuracy: 0.2512 - val_loss: 1.3872 - val_accuracy: 0.2358\n",
            "Epoch 14/50\n",
            "350/350 [==============================] - 57s 163ms/step - loss: 1.3867 - accuracy: 0.2534 - val_loss: 1.3871 - val_accuracy: 0.2608\n",
            "Epoch 15/50\n",
            "350/350 [==============================] - 58s 165ms/step - loss: 1.3869 - accuracy: 0.2473 - val_loss: 1.3875 - val_accuracy: 0.2358\n",
            "Epoch 16/50\n",
            "350/350 [==============================] - 59s 168ms/step - loss: 1.3871 - accuracy: 0.2559 - val_loss: 1.3874 - val_accuracy: 0.2358\n",
            "Epoch 17/50\n",
            "350/350 [==============================] - 59s 168ms/step - loss: 1.3865 - accuracy: 0.2521 - val_loss: 1.3876 - val_accuracy: 0.2358\n",
            "Epoch 18/50\n",
            "350/350 [==============================] - 60s 170ms/step - loss: 1.3868 - accuracy: 0.2518 - val_loss: 1.3883 - val_accuracy: 0.2358\n",
            "Epoch 19/50\n",
            "350/350 [==============================] - 59s 169ms/step - loss: 1.3871 - accuracy: 0.2571 - val_loss: 1.3871 - val_accuracy: 0.2608\n",
            "Epoch 20/50\n",
            "350/350 [==============================] - 60s 171ms/step - loss: 1.3869 - accuracy: 0.2582 - val_loss: 1.3890 - val_accuracy: 0.2358\n",
            "Epoch 21/50\n",
            "350/350 [==============================] - 59s 169ms/step - loss: 1.3878 - accuracy: 0.2568 - val_loss: 1.3886 - val_accuracy: 0.2358\n",
            "Epoch 22/50\n",
            "350/350 [==============================] - 59s 169ms/step - loss: 1.3879 - accuracy: 0.2473 - val_loss: 1.3891 - val_accuracy: 0.2358\n",
            "Epoch 23/50\n",
            "350/350 [==============================] - 59s 169ms/step - loss: 1.3888 - accuracy: 0.2511 - val_loss: 1.3898 - val_accuracy: 0.2358\n",
            "Epoch 24/50\n",
            "350/350 [==============================] - 59s 169ms/step - loss: 1.3880 - accuracy: 0.2432 - val_loss: 1.3898 - val_accuracy: 0.2358\n",
            "Epoch 25/50\n",
            "350/350 [==============================] - 59s 168ms/step - loss: 1.3876 - accuracy: 0.2516 - val_loss: 1.3878 - val_accuracy: 0.2358\n",
            "Epoch 26/50\n",
            "350/350 [==============================] - 59s 168ms/step - loss: 1.3882 - accuracy: 0.2491 - val_loss: 1.3885 - val_accuracy: 0.2358\n",
            "Epoch 27/50\n",
            "350/350 [==============================] - 60s 170ms/step - loss: 1.3880 - accuracy: 0.2486 - val_loss: 1.3885 - val_accuracy: 0.2358\n",
            "Epoch 28/50\n",
            "350/350 [==============================] - 59s 169ms/step - loss: 1.3877 - accuracy: 0.2500 - val_loss: 1.3894 - val_accuracy: 0.2358\n",
            "Epoch 29/50\n",
            "350/350 [==============================] - 59s 168ms/step - loss: 1.3878 - accuracy: 0.2507 - val_loss: 1.3891 - val_accuracy: 0.2358\n",
            "Epoch 30/50\n",
            "350/350 [==============================] - 59s 169ms/step - loss: 1.3876 - accuracy: 0.2564 - val_loss: 1.3879 - val_accuracy: 0.2358\n",
            "Epoch 31/50\n",
            "350/350 [==============================] - 60s 170ms/step - loss: 1.3876 - accuracy: 0.2529 - val_loss: 1.3890 - val_accuracy: 0.2358\n",
            "Epoch 32/50\n",
            "350/350 [==============================] - 60s 170ms/step - loss: 1.3878 - accuracy: 0.2541 - val_loss: 1.3885 - val_accuracy: 0.2383\n",
            "Epoch 33/50\n",
            "350/350 [==============================] - 59s 168ms/step - loss: 1.3881 - accuracy: 0.2470 - val_loss: 1.3877 - val_accuracy: 0.2608\n",
            "Epoch 34/50\n",
            "350/350 [==============================] - 59s 168ms/step - loss: 1.3881 - accuracy: 0.2446 - val_loss: 1.3870 - val_accuracy: 0.2608\n",
            "Epoch 35/50\n",
            "350/350 [==============================] - 59s 169ms/step - loss: 1.3880 - accuracy: 0.2530 - val_loss: 1.3892 - val_accuracy: 0.2358\n",
            "Epoch 36/50\n",
            "350/350 [==============================] - 60s 171ms/step - loss: 1.3878 - accuracy: 0.2498 - val_loss: 1.3888 - val_accuracy: 0.2358\n",
            "Epoch 37/50\n",
            "350/350 [==============================] - 59s 169ms/step - loss: 1.3885 - accuracy: 0.2484 - val_loss: 1.3894 - val_accuracy: 0.2358\n",
            "Epoch 38/50\n",
            "350/350 [==============================] - 59s 168ms/step - loss: 1.3881 - accuracy: 0.2518 - val_loss: 1.3878 - val_accuracy: 0.2358\n",
            "Epoch 39/50\n",
            "350/350 [==============================] - 59s 168ms/step - loss: 1.3875 - accuracy: 0.2548 - val_loss: 1.3890 - val_accuracy: 0.2358\n",
            "Epoch 40/50\n",
            "350/350 [==============================] - 59s 168ms/step - loss: 1.3875 - accuracy: 0.2539 - val_loss: 1.3882 - val_accuracy: 0.2358\n",
            "Epoch 41/50\n",
            "350/350 [==============================] - 58s 166ms/step - loss: 1.3877 - accuracy: 0.2521 - val_loss: 1.3883 - val_accuracy: 0.2358\n",
            "Epoch 42/50\n",
            "350/350 [==============================] - 58s 165ms/step - loss: 1.3877 - accuracy: 0.2475 - val_loss: 1.3889 - val_accuracy: 0.2358\n",
            "Epoch 43/50\n",
            "350/350 [==============================] - 58s 164ms/step - loss: 1.3878 - accuracy: 0.2598 - val_loss: 1.3881 - val_accuracy: 0.2358\n",
            "Epoch 44/50\n",
            "350/350 [==============================] - 57s 164ms/step - loss: 1.3884 - accuracy: 0.2443 - val_loss: 1.3884 - val_accuracy: 0.2358\n",
            "Epoch 45/50\n",
            "350/350 [==============================] - 58s 165ms/step - loss: 1.3876 - accuracy: 0.2570 - val_loss: 1.3886 - val_accuracy: 0.2358\n",
            "Epoch 46/50\n",
            "350/350 [==============================] - 57s 164ms/step - loss: 1.3879 - accuracy: 0.2495 - val_loss: 1.3909 - val_accuracy: 0.2358\n",
            "Epoch 47/50\n",
            "350/350 [==============================] - 57s 164ms/step - loss: 1.3885 - accuracy: 0.2562 - val_loss: 1.3903 - val_accuracy: 0.2358\n",
            "Epoch 48/50\n",
            "350/350 [==============================] - 58s 164ms/step - loss: 1.3883 - accuracy: 0.2523 - val_loss: 1.3896 - val_accuracy: 0.2358\n",
            "Epoch 49/50\n",
            "350/350 [==============================] - 57s 164ms/step - loss: 1.3876 - accuracy: 0.2579 - val_loss: 1.3886 - val_accuracy: 0.2358\n",
            "Epoch 50/50\n",
            "350/350 [==============================] - 57s 164ms/step - loss: 1.3883 - accuracy: 0.2514 - val_loss: 1.3885 - val_accuracy: 0.2608\n"
          ]
        },
        {
          "output_type": "display_data",
          "data": {
            "text/plain": [
              "<Figure size 640x480 with 1 Axes>"
            ],
            "image/png": "[encoded data removed]"
          },
          "metadata": {}
        },
        {
          "output_type": "stream",
          "name": "stdout",
          "text": [
            "Model: \"model_1\"\n",
            "_________________________________________________________________\n",
            " Layer (type)                Output Shape              Param #   \n",
            "=================================================================\n",
            " input_5 (InputLayer)        [(None, 224, 224, 3)]     0         \n",
            "                                                                 \n",
            " block1_conv1 (Conv2D)       (None, 224, 224, 64)      1792      \n",
            "                                                                 \n",
            " block1_conv2 (Conv2D)       (None, 224, 224, 64)      36928     \n",
            "                                                                 \n",
            " block1_pool (MaxPooling2D)  (None, 112, 112, 64)      0         \n",
            "                                                                 \n",
            " block2_conv1 (Conv2D)       (None, 112, 112, 128)     73856     \n",
            "                                                                 \n",
            " block2_conv2 (Conv2D)       (None, 112, 112, 128)     147584    \n",
            "                                                                 \n",
            " block2_pool (MaxPooling2D)  (None, 56, 56, 128)       0         \n",
            "                                                                 \n",
            " block3_conv1 (Conv2D)       (None, 56, 56, 256)       295168    \n",
            "                                                                 \n",
            " block3_conv2 (Conv2D)       (None, 56, 56, 256)       590080    \n",
            "                                                                 \n",
            " block3_conv3 (Conv2D)       (None, 56, 56, 256)       590080    \n",
            "                                                                 \n",
            " block3_pool (MaxPooling2D)  (None, 28, 28, 256)       0         \n",
            "                                                                 \n",
            " block4_conv1 (Conv2D)       (None, 28, 28, 512)       1180160   \n",
            "                                                                 \n",
            " block4_conv2 (Conv2D)       (None, 28, 28, 512)       2359808   \n",
            "                                                                 \n",
            " block4_conv3 (Conv2D)       (None, 28, 28, 512)       2359808   \n",
            "                                                                 \n",
            " block4_pool (MaxPooling2D)  (None, 14, 14, 512)       0         \n",
            "                                                                 \n",
            " block5_conv1 (Conv2D)       (None, 14, 14, 512)       2359808   \n",
            "                                                                 \n",
            " block5_conv2 (Conv2D)       (None, 14, 14, 512)       2359808   \n",
            "                                                                 \n",
            " block5_conv3 (Conv2D)       (None, 14, 14, 512)       2359808   \n",
            "                                                                 \n",
            " block5_pool (MaxPooling2D)  (None, 7, 7, 512)         0         \n",
            "                                                                 \n",
            " flatten_4 (Flatten)         (None, 25088)             0         \n",
            "                                                                 \n",
            " dense_9 (Dense)             (None, 1024)              25691136  \n",
            "                                                                 \n",
            " dropout_7 (Dropout)         (None, 1024)              0         \n",
            "                                                                 \n",
            " dense_10 (Dense)            (None, 512)               524800    \n",
            "                                                                 \n",
            " dropout_8 (Dropout)         (None, 512)               0         \n",
            "                                                                 \n",
            " reshape_1 (Reshape)         (None, 1, 512)            0         \n",
            "                                                                 \n",
            " lstm_2 (LSTM)               (None, 1, 256)            787456    \n",
            "                                                                 \n",
            " dropout_9 (Dropout)         (None, 1, 256)            0         \n",
            "                                                                 \n",
            " lstm_3 (LSTM)               (None, 256)               525312    \n",
            "                                                                 \n",
            " dropout_10 (Dropout)        (None, 256)               0         \n",
            "                                                                 \n",
            " dense_11 (Dense)            (None, 4)                 1028      \n",
            "                                                                 \n",
            "=================================================================\n",
            "Total params: 42244420 (161.15 MB)\n",
            "Trainable params: 40508932 (154.53 MB)\n",
            "Non-trainable params: 1735488 (6.62 MB)\n",
            "_________________________________________________________________\n",
            "38/38 [==============================] - 1s 24ms/step - loss: 1.3885 - accuracy: 0.2608\n",
            "val accuracy: 0.2608333230018616\n",
            "38/38 [==============================] - 1s 24ms/step - loss: 1.3902 - accuracy: 0.2342\n",
            "Test accuracy: 0.23416666686534882\n"
          ]
        }
      ]
    },
    {
      "cell_type": "markdown",
      "source": [],
      "metadata": {
        "id": "HwmMHTMOaPIk"
      }
    }
  ]
}

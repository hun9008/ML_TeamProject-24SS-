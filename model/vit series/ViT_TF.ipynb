{
  "nbformat": 4,
  "nbformat_minor": 0,
  "metadata": {
    "colab": {
      "provenance": [],
      "machine_shape": "hm",
      "gpuType": "A100",
      "authorship_tag": "ABX9TyNbkTtqzls9y8gPeaYOPP8k",
      "include_colab_link": true
    },
    "kernelspec": {
      "name": "python3",
      "display_name": "Python 3"
    },
    "language_info": {
      "name": "python"
    },
    "accelerator": "GPU"
  },
  "cells": [
    {
      "cell_type": "markdown",
      "metadata": {
        "id": "view-in-github",
        "colab_type": "text"
      },
      "source": [
        "<a href=\"https://colab.research.google.com/github/hun9008/ML_TeamProject_24SS/blob/main/ViT_TF.ipynb\" target=\"_parent\"><img src=\"https://colab.research.google.com/assets/colab-badge.svg\" alt=\"Open In Colab\"/></a>"
      ]
    },
    {
      "cell_type": "code",
      "execution_count": 1,
      "metadata": {
        "colab": {
          "base_uri": "https://localhost:8080/"
        },
        "id": "MaQi2LTwPNco",
        "outputId": "64f10d39-3f8e-4d2b-fcb4-0e6f20ffe9fe"
      },
      "outputs": [
        {
          "output_type": "stream",
          "name": "stdout",
          "text": [
            "Mounted at /content/drive\n"
          ]
        }
      ],
      "source": [
        "from google.colab import drive\n",
        "drive.mount('/content/drive')"
      ]
    },
    {
      "cell_type": "code",
      "source": [
        "cd /content/drive/MyDrive/ML_TeamProject/"
      ],
      "metadata": {
        "colab": {
          "base_uri": "https://localhost:8080/"
        },
        "id": "_O_T_aU6PdD1",
        "outputId": "e0b09934-d4f4-4561-c32d-bdcadf6a4561"
      },
      "execution_count": 2,
      "outputs": [
        {
          "output_type": "stream",
          "name": "stdout",
          "text": [
            "/content/drive/MyDrive/ML_TeamProject\n"
          ]
        }
      ]
    },
    {
      "cell_type": "code",
      "source": [
        "ls"
      ],
      "metadata": {
        "colab": {
          "base_uri": "https://localhost:8080/"
        },
        "id": "_3zfoxPtPjlS",
        "outputId": "31c47eb6-aa79-47be-e055-6c1ec86dfcd8"
      },
      "execution_count": 3,
      "outputs": [
        {
          "output_type": "stream",
          "name": "stdout",
          "text": [
            "\u001b[0m\u001b[01;34mdata\u001b[0m/             \u001b[01;34mimages_png\u001b[0m/                                        VGG.ipynb\n",
            "\u001b[01;34mimages_gray_jpg\u001b[0m/  \u001b[01;34mpreprocessed_images_40\u001b[0m/                            \u001b[01;34m무_train_labeled_2000\u001b[0m/\n",
            "\u001b[01;34mimages_gray_png\u001b[0m/  PreTest.ipynb\n",
            "\u001b[01;34mimages_jpg\u001b[0m/       vgg16_weights_tf_dim_ordering_tf_kernels_notop.h5\n"
          ]
        }
      ]
    },
    {
      "cell_type": "code",
      "source": [
        "import tensorflow as tf\n",
        "import os\n",
        "import pickle\n",
        "import optuna\n",
        "import pandas as pd\n",
        "import numpy as np\n",
        "from tensorflow.keras.callbacks import EarlyStopping\n",
        "import matplotlib.pyplot as plt\n",
        "from optuna.visualization import plot_optimization_history\n",
        "from sklearn.model_selection import train_test_split\n",
        "from tensorflow.keras.applications import VGG16\n",
        "from tensorflow.keras.models import Sequential\n",
        "from tensorflow.keras.layers import Dense, Flatten, Conv2D, MaxPooling2D\n",
        "from tensorflow.keras.optimizers import Adam\n",
        "from tensorflow.keras.utils import to_categorical\n",
        "from sklearn.metrics import confusion_matrix, classification_report\n",
        "import tensorflow_addons as tfa\n",
        "from vit_keras import vit\n",
        "from vit_keras import visualize\n",
        "\n",
        "\n",
        "gpus = tf.config.experimental.list_physical_devices('GPU')\n",
        "if gpus:\n",
        "  try:\n",
        "    # Currently, memory growth needs to be the same across GPUs\n",
        "    for gpu in gpus:\n",
        "      tf.config.experimental.set_memory_growth(gpu, True)\n",
        "    logical_gpus = tf.config.experimental.list_logical_devices('GPU')\n",
        "    print(len(gpus), \"Physical GPUs,\", len(logical_gpus), \"Logical GPUs\")\n",
        "  except RuntimeError as e:\n",
        "    # Memory growth must be set before GPUs have been initialized\n",
        "    print(e)\n"
      ],
      "metadata": {
        "colab": {
          "base_uri": "https://localhost:8080/"
        },
        "id": "KE16NJ5TPlN_",
        "outputId": "349413d2-e86c-40de-a7d2-3c5dfcb326ba"
      },
      "execution_count": 29,
      "outputs": [
        {
          "output_type": "stream",
          "name": "stdout",
          "text": [
            "1 Physical GPUs, 1 Logical GPUs\n"
          ]
        }
      ]
    },
    {
      "cell_type": "code",
      "source": [
        "image_jpg_path = \"/content/drive/My Drive/ML_TeamProject/images_jpg\"\n",
        "image_png_path = \"/content/drive/My Drive/ML_TeamProject/images_png\"\n",
        "image_gray_jpg_path = \"/content/drive/My Drive/ML_TeamProject/images_gray_jpg\"\n",
        "image_gray_png_path = \"/content/drive/My Drive/ML_TeamProject/images_gray_png\""
      ],
      "metadata": {
        "id": "34-qwn4kPr92"
      },
      "execution_count": 9,
      "outputs": []
    },
    {
      "cell_type": "code",
      "source": [
        "os.chdir(\"/content/drive/My Drive/ML_TeamProject/images_png\")\n",
        "!ls"
      ],
      "metadata": {
        "colab": {
          "base_uri": "https://localhost:8080/"
        },
        "id": "fJHViDgyXvON",
        "outputId": "3cc883e6-d01a-4f23-fb42-1a9245aeec47"
      },
      "execution_count": 10,
      "outputs": [
        {
          "output_type": "stream",
          "name": "stdout",
          "text": [
            "images_png.zip\tincipient  mature  no  overripe\n"
          ]
        }
      ]
    },
    {
      "cell_type": "code",
      "source": [
        "# !unzip -q images_gray_jpg.zip"
      ],
      "metadata": {
        "id": "mviidsa8f6d_"
      },
      "execution_count": null,
      "outputs": []
    },
    {
      "cell_type": "code",
      "source": [
        "!ls"
      ],
      "metadata": {
        "colab": {
          "base_uri": "https://localhost:8080/"
        },
        "id": "2-7FLrXEgifM",
        "outputId": "51f7626e-816f-4fd8-8d70-750dc036537e"
      },
      "execution_count": null,
      "outputs": [
        {
          "output_type": "stream",
          "name": "stdout",
          "text": [
            "images_png.zip\tincipient  mature  no  overripe\n"
          ]
        }
      ]
    },
    {
      "cell_type": "code",
      "source": [
        "image_path = image_png_path"
      ],
      "metadata": {
        "id": "DVt1LWReYSTP"
      },
      "execution_count": 11,
      "outputs": []
    },
    {
      "cell_type": "code",
      "source": [
        "# os.rename('overripe_train_labeled_2000','overripe')\n",
        "# os.rename('no_train_labeled_2000','no')\n",
        "# os.rename('mature_train_labeled_2000','mature')\n",
        "# os.rename('incipient_train_labeled_2000','incipient')"
      ],
      "metadata": {
        "id": "0ieRIPFVa0O2"
      },
      "execution_count": null,
      "outputs": []
    },
    {
      "cell_type": "code",
      "source": [
        "!ls"
      ],
      "metadata": {
        "colab": {
          "base_uri": "https://localhost:8080/"
        },
        "id": "SnrQQu92guqG",
        "outputId": "bd206f5f-4b43-4e04-bc1c-d3730de43782"
      },
      "execution_count": 12,
      "outputs": [
        {
          "output_type": "stream",
          "name": "stdout",
          "text": [
            "images_png.zip\tincipient  mature  no  overripe\n"
          ]
        }
      ]
    },
    {
      "cell_type": "markdown",
      "source": [
        "Pickle load to variable"
      ],
      "metadata": {
        "id": "dNicedTHaWLX"
      }
    },
    {
      "cell_type": "code",
      "source": [
        "os.chdir(os.path.join(image_path, 'overripe'))\n",
        "with open('zero_centering.pkl', 'rb') as f:\n",
        "     overripe = pickle.load(f)\n",
        "     print('overripe : ', len(overripe))\n",
        "os.chdir(os.path.join(image_path, 'no'))\n",
        "with open('zero_centering.pkl', 'rb') as f:\n",
        "     no = pickle.load(f)\n",
        "     print('no : ', len(no))\n",
        "\n",
        "os.chdir(os.path.join(image_path, 'mature'))\n",
        "with open('zero_centering.pkl', 'rb') as f:\n",
        "     mature = pickle.load(f)\n",
        "     print('mature : ', len(mature))\n",
        "\n",
        "os.chdir(os.path.join(image_path, 'incipient'))\n",
        "with open('zero_centering.pkl', 'rb') as f:\n",
        "     incipient = pickle.load(f)\n",
        "     print('incipient : ', len(incipient))"
      ],
      "metadata": {
        "colab": {
          "base_uri": "https://localhost:8080/"
        },
        "id": "Gxkl8HkPXz1y",
        "outputId": "3277f395-ebf0-444b-9f0b-6e2976863e3a"
      },
      "execution_count": 13,
      "outputs": [
        {
          "output_type": "stream",
          "name": "stdout",
          "text": [
            "overripe :  2000\n",
            "no :  2000\n",
            "mature :  2000\n",
            "incipient :  2000\n"
          ]
        }
      ]
    },
    {
      "cell_type": "markdown",
      "source": [
        "Dictionary to numpy array"
      ],
      "metadata": {
        "id": "LIY8mkCtabv1"
      }
    },
    {
      "cell_type": "code",
      "source": [
        "# overripe의 모든 사진에 대해 반복\n",
        "overripe_data_list = []\n",
        "\n",
        "for filename, data in overripe.items():\n",
        "    zero_centering_value = data.get('zero_centering')\n",
        "    overripe_data_list.append(np.array(zero_centering_value))\n",
        "\n",
        "# 리스트를 NumPy 배열로 변환\n",
        "overripe_data = np.array(overripe_data_list)\n",
        "\n",
        "# 확인을 위해 배열의 크기 출력\n",
        "print(\"overripe_data shape:\", overripe_data.shape)\n",
        "no_data_list = []\n",
        "\n",
        "for filename, data in no.items():\n",
        "    zero_centering_value = data.get('zero_centering')\n",
        "    no_data_list.append(np.array(zero_centering_value))\n",
        "\n",
        "# 리스트를 NumPy 배열로 변환\n",
        "no_data = np.array(no_data_list)\n",
        "\n",
        "# 확인을 위해 배열의 크기 출력\n",
        "print(\"no_data shape:\", no_data.shape)\n",
        "\n",
        "mature_data_list = []\n",
        "\n",
        "for filename, data in mature.items():\n",
        "    zero_centering_value = data.get('zero_centering')\n",
        "    mature_data_list.append(np.array(zero_centering_value))\n",
        "\n",
        "# 리스트를 NumPy 배열로 변환\n",
        "mature_data = np.array(mature_data_list)\n",
        "\n",
        "# 확인을 위해 배열의 크기 출력\n",
        "print(\"mature_data shape:\", mature_data.shape)\n",
        "\n",
        "incipient_data_list = []\n",
        "\n",
        "for filename, data in incipient.items():\n",
        "    zero_centering_value = data.get('zero_centering')\n",
        "    incipient_data_list.append(np.array(zero_centering_value))\n",
        "\n",
        "# 리스트를 NumPy 배열로 변환\n",
        "incipient_data = np.array(incipient_data_list)\n",
        "\n",
        "# 확인을 위해 배열의 크기 출력\n",
        "print(\"incipient_data shape:\", incipient_data.shape)"
      ],
      "metadata": {
        "colab": {
          "base_uri": "https://localhost:8080/"
        },
        "id": "yxMGqb3NYVh1",
        "outputId": "8deea05f-7d25-4423-eb3f-bcd5e1ed6d11"
      },
      "execution_count": 14,
      "outputs": [
        {
          "output_type": "stream",
          "name": "stdout",
          "text": [
            "overripe_data shape: (2000, 224, 224, 3)\n",
            "no_data shape: (2000, 224, 224, 3)\n",
            "mature_data shape: (2000, 224, 224, 3)\n",
            "incipient_data shape: (2000, 224, 224, 3)\n"
          ]
        }
      ]
    },
    {
      "cell_type": "markdown",
      "source": [
        "Train Val Test split (0.75:0.15:0.15)"
      ],
      "metadata": {
        "id": "6QXUwoi-akaH"
      }
    },
    {
      "cell_type": "code",
      "source": [
        "# 데이터를 train/validation/test로 나누기\n",
        "X = np.concatenate((overripe_data, no_data, mature_data, incipient_data), axis=0)\n",
        "y = np.concatenate((np.zeros(overripe_data.shape[0]), np.ones(no_data.shape[0]),\n",
        "                    2*np.ones(mature_data.shape[0]), 3*np.ones(incipient_data.shape[0])))\n",
        "\n",
        "X_train, X_temp, y_train, y_temp = train_test_split(X, y, test_size=0.3, random_state=42)\n",
        "X_val, X_test, y_val, y_test = train_test_split(X_temp, y_temp, test_size=0.5, random_state=42)\n",
        "\n",
        "print(X_train.shape)\n",
        "print(X_val.shape)\n",
        "print(X_test.shape)"
      ],
      "metadata": {
        "colab": {
          "base_uri": "https://localhost:8080/"
        },
        "id": "bsXIqEfraDw-",
        "outputId": "2f42f216-79ec-4a1c-88d4-150773639574"
      },
      "execution_count": 15,
      "outputs": [
        {
          "output_type": "stream",
          "name": "stdout",
          "text": [
            "(5600, 224, 224, 3)\n",
            "(1200, 224, 224, 3)\n",
            "(1200, 224, 224, 3)\n"
          ]
        }
      ]
    },
    {
      "cell_type": "markdown",
      "source": [
        "y one-hot"
      ],
      "metadata": {
        "id": "fC5k-MspbVG3"
      }
    },
    {
      "cell_type": "code",
      "source": [
        "y_train_one_hot = to_categorical(y_train)\n",
        "y_val_one_hot = to_categorical(y_val)\n",
        "y_test_one_hot = to_categorical(y_test)"
      ],
      "metadata": {
        "id": "MPyh4QsebQm_"
      },
      "execution_count": 16,
      "outputs": []
    },
    {
      "cell_type": "code",
      "source": [
        "# memory reduce\n",
        "del overripe, no, mature, incipient\n",
        "del overripe_data, no_data, mature_data, incipient_data\n",
        "del overripe_data_list, no_data_list, mature_data_list, incipient_data_list\n",
        "del X, y\n",
        "del y_train, y_temp, y_val, y_test"
      ],
      "metadata": {
        "id": "1LZA8OcqbdZm"
      },
      "execution_count": 17,
      "outputs": []
    },
    {
      "cell_type": "markdown",
      "source": [
        "Training & Test"
      ],
      "metadata": {
        "id": "lhdB7e9DckDT"
      }
    },
    {
      "cell_type": "code",
      "source": [
        "vit_model = vit.vit_b32(\n",
        "        image_size = 224,\n",
        "        activation = 'softmax',\n",
        "        pretrained = True,\n",
        "        include_top = False,\n",
        "        pretrained_top = False,\n",
        "        classes = 4)"
      ],
      "metadata": {
        "colab": {
          "base_uri": "https://localhost:8080/"
        },
        "id": "pMC5meL0UMjy",
        "outputId": "3eecf436-920f-45f9-d40a-52e30e42ea2a"
      },
      "execution_count": 28,
      "outputs": [
        {
          "output_type": "stream",
          "name": "stdout",
          "text": [
            "Downloading data from https://github.com/faustomorales/vit-keras/releases/download/dl/ViT-B_32_imagenet21k+imagenet2012.npz\n",
            "353253686/353253686 [==============================] - 1s 0us/step\n"
          ]
        },
        {
          "output_type": "stream",
          "name": "stderr",
          "text": [
            "/usr/local/lib/python3.10/dist-packages/vit_keras/utils.py:81: UserWarning: Resizing position embeddings from 12, 12 to 7, 7\n",
            "  warnings.warn(\n"
          ]
        }
      ]
    },
    {
      "cell_type": "code",
      "source": [
        "print(X_train.shape)\n",
        "print(X_val.shape)\n",
        "print(X_test.shape)"
      ],
      "metadata": {
        "colab": {
          "base_uri": "https://localhost:8080/"
        },
        "id": "jYFoqkEeXQ1o",
        "outputId": "8b242ec8-af5b-408c-abb0-869c9abca924"
      },
      "execution_count": 31,
      "outputs": [
        {
          "output_type": "stream",
          "name": "stdout",
          "text": [
            "(5600, 224, 224, 3)\n",
            "(1200, 224, 224, 3)\n",
            "(1200, 224, 224, 3)\n"
          ]
        }
      ]
    },
    {
      "cell_type": "code",
      "source": [
        "X_train.all()"
      ],
      "metadata": {
        "colab": {
          "base_uri": "https://localhost:8080/"
        },
        "id": "1salmoP_XgH4",
        "outputId": "14299191-2432-49fd-830c-899a627552bf"
      },
      "execution_count": 34,
      "outputs": [
        {
          "output_type": "execute_result",
          "data": {
            "text/plain": [
              "True"
            ]
          },
          "metadata": {},
          "execution_count": 34
        }
      ]
    },
    {
      "cell_type": "code",
      "source": [
        "# def train_vgg16_model():\n",
        "\n",
        "  # Freeze the base model layers\n",
        "  # for layer in base_model.layers:\n",
        "  #     layer.trainable = False\n",
        "\n",
        "# Add custom top layers for classification\n",
        "model = tf.keras.Sequential([\n",
        "        vit_model,\n",
        "        tf.keras.layers.Flatten(),\n",
        "        tf.keras.layers.BatchNormalization(),\n",
        "        tf.keras.layers.Dense(11, activation = tfa.activations.gelu),\n",
        "        tf.keras.layers.BatchNormalization(),\n",
        "        tf.keras.layers.Dense(4, 'softmax')\n",
        "    ],\n",
        "    name = 'vision_transformer')\n",
        "\n",
        "model.summary()\n",
        "\n",
        "  # Compile model\n",
        "  # optimizer = Adam(lr=5.520238899015578e-05)\n",
        "learning_rate = 1e-4\n",
        "\n",
        "optimizer = tfa.optimizers.RectifiedAdam(learning_rate = learning_rate)\n",
        "\n",
        "model.compile(optimizer = optimizer,\n",
        "                loss = tf.keras.losses.CategoricalCrossentropy(label_smoothing = 0.2),\n",
        "                metrics = ['accuracy'])\n",
        "batch_size = 16\n",
        "\n",
        "reduce_lr = tf.keras.callbacks.ReduceLROnPlateau(monitor = 'val_accuracy',\n",
        "                                                factor = 0.2,\n",
        "                                                patience = 2,\n",
        "                                                verbose = 1,\n",
        "                                                min_delta = 1e-4,\n",
        "                                                min_lr = 1e-6,\n",
        "                                                mode = 'max')\n",
        "\n",
        "earlystopping = tf.keras.callbacks.EarlyStopping(monitor = 'val_accuracy',\n",
        "                                                min_delta = 1e-4,\n",
        "                                                patience = 5,\n",
        "                                                mode = 'max',\n",
        "                                                restore_best_weights = True,\n",
        "                                                verbose = 1)\n",
        "\n",
        "checkpointer = tf.keras.callbacks.ModelCheckpoint(filepath = './model.hdf5',\n",
        "                                                  monitor = 'val_accuracy',\n",
        "                                                  verbose = 1,\n",
        "                                                  save_best_only = True,\n",
        "                                                  save_weights_only = True,\n",
        "                                                  mode = 'max')\n",
        "\n",
        "callbacks = [earlystopping, reduce_lr, checkpointer]\n",
        "\n",
        "model.fit(x = X_train,\n",
        "          y = y_train_one_hot,\n",
        "          # steps_per_epoch = batch_size,\n",
        "          validation_data = (X_val, y_val_one_hot),\n",
        "          # validation_steps = batch_size,\n",
        "          epochs = 50,\n",
        "          callbacks = callbacks)\n"
      ],
      "metadata": {
        "id": "G6Cei5K9cgft",
        "colab": {
          "base_uri": "https://localhost:8080/"
        },
        "outputId": "43c458b1-9789-418f-fd20-b2a65082691a"
      },
      "execution_count": 36,
      "outputs": [
        {
          "output_type": "stream",
          "name": "stdout",
          "text": [
            "Model: \"vision_transformer\"\n",
            "_________________________________________________________________\n",
            " Layer (type)                Output Shape              Param #   \n",
            "=================================================================\n",
            " vit-b32 (Functional)        (None, 768)               87455232  \n",
            "                                                                 \n",
            " flatten_2 (Flatten)         (None, 768)               0         \n",
            "                                                                 \n",
            " batch_normalization_4 (Bat  (None, 768)               3072      \n",
            " chNormalization)                                                \n",
            "                                                                 \n",
            " dense_4 (Dense)             (None, 11)                8459      \n",
            "                                                                 \n",
            " batch_normalization_5 (Bat  (None, 11)                44        \n",
            " chNormalization)                                                \n",
            "                                                                 \n",
            " dense_5 (Dense)             (None, 4)                 48        \n",
            "                                                                 \n",
            "=================================================================\n",
            "Total params: 87466855 (333.66 MB)\n",
            "Trainable params: 87465297 (333.65 MB)\n",
            "Non-trainable params: 1558 (6.09 KB)\n",
            "_________________________________________________________________\n",
            "Epoch 1/50\n",
            "175/175 [==============================] - ETA: 0s - loss: 1.2840 - accuracy: 0.5370\n",
            "Epoch 1: val_accuracy improved from -inf to 0.68750, saving model to ./model.hdf5\n",
            "175/175 [==============================] - 52s 152ms/step - loss: 1.2840 - accuracy: 0.5370 - val_loss: 1.0841 - val_accuracy: 0.6875 - lr: 1.0000e-04\n",
            "Epoch 2/50\n",
            "175/175 [==============================] - ETA: 0s - loss: 1.0147 - accuracy: 0.6950\n",
            "Epoch 2: val_accuracy improved from 0.68750 to 0.69333, saving model to ./model.hdf5\n",
            "175/175 [==============================] - 22s 123ms/step - loss: 1.0147 - accuracy: 0.6950 - val_loss: 1.0278 - val_accuracy: 0.6933 - lr: 1.0000e-04\n",
            "Epoch 3/50\n",
            "175/175 [==============================] - ETA: 0s - loss: 0.9536 - accuracy: 0.7450\n",
            "Epoch 3: val_accuracy improved from 0.69333 to 0.74000, saving model to ./model.hdf5\n",
            "175/175 [==============================] - 21s 123ms/step - loss: 0.9536 - accuracy: 0.7450 - val_loss: 0.9609 - val_accuracy: 0.7400 - lr: 1.0000e-04\n",
            "Epoch 4/50\n",
            "175/175 [==============================] - ETA: 0s - loss: 0.9022 - accuracy: 0.7873\n",
            "Epoch 4: val_accuracy did not improve from 0.74000\n",
            "175/175 [==============================] - 20s 116ms/step - loss: 0.9022 - accuracy: 0.7873 - val_loss: 0.9973 - val_accuracy: 0.7250 - lr: 1.0000e-04\n",
            "Epoch 5/50\n",
            "175/175 [==============================] - ETA: 0s - loss: 0.8743 - accuracy: 0.8089\n",
            "Epoch 5: val_accuracy improved from 0.74000 to 0.75833, saving model to ./model.hdf5\n",
            "175/175 [==============================] - 25s 145ms/step - loss: 0.8743 - accuracy: 0.8089 - val_loss: 0.9523 - val_accuracy: 0.7583 - lr: 1.0000e-04\n",
            "Epoch 6/50\n",
            "175/175 [==============================] - ETA: 0s - loss: 0.8245 - accuracy: 0.8523\n",
            "Epoch 6: val_accuracy improved from 0.75833 to 0.77000, saving model to ./model.hdf5\n",
            "175/175 [==============================] - 22s 123ms/step - loss: 0.8245 - accuracy: 0.8523 - val_loss: 0.9352 - val_accuracy: 0.7700 - lr: 1.0000e-04\n",
            "Epoch 7/50\n",
            "175/175 [==============================] - ETA: 0s - loss: 0.7887 - accuracy: 0.8791\n",
            "Epoch 7: val_accuracy did not improve from 0.77000\n",
            "175/175 [==============================] - 20s 116ms/step - loss: 0.7887 - accuracy: 0.8791 - val_loss: 0.9593 - val_accuracy: 0.7625 - lr: 1.0000e-04\n",
            "Epoch 8/50\n",
            "175/175 [==============================] - ETA: 0s - loss: 0.7552 - accuracy: 0.9020\n",
            "Epoch 8: ReduceLROnPlateau reducing learning rate to 1.9999999494757503e-05.\n",
            "\n",
            "Epoch 8: val_accuracy did not improve from 0.77000\n",
            "175/175 [==============================] - 20s 116ms/step - loss: 0.7552 - accuracy: 0.9020 - val_loss: 0.9383 - val_accuracy: 0.7700 - lr: 1.0000e-04\n",
            "Epoch 9/50\n",
            "175/175 [==============================] - ETA: 0s - loss: 0.7011 - accuracy: 0.9475\n",
            "Epoch 9: val_accuracy improved from 0.77000 to 0.79333, saving model to ./model.hdf5\n",
            "175/175 [==============================] - 25s 143ms/step - loss: 0.7011 - accuracy: 0.9475 - val_loss: 0.9345 - val_accuracy: 0.7933 - lr: 2.0000e-05\n",
            "Epoch 10/50\n",
            "175/175 [==============================] - ETA: 0s - loss: 0.6797 - accuracy: 0.9605\n",
            "Epoch 10: val_accuracy did not improve from 0.79333\n",
            "175/175 [==============================] - 20s 116ms/step - loss: 0.6797 - accuracy: 0.9605 - val_loss: 0.9493 - val_accuracy: 0.7700 - lr: 2.0000e-05\n",
            "Epoch 11/50\n",
            "175/175 [==============================] - ETA: 0s - loss: 0.6629 - accuracy: 0.9709\n",
            "Epoch 11: ReduceLROnPlateau reducing learning rate to 3.999999898951501e-06.\n",
            "\n",
            "Epoch 11: val_accuracy did not improve from 0.79333\n",
            "175/175 [==============================] - 20s 115ms/step - loss: 0.6629 - accuracy: 0.9709 - val_loss: 0.9389 - val_accuracy: 0.7842 - lr: 2.0000e-05\n",
            "Epoch 12/50\n",
            "175/175 [==============================] - ETA: 0s - loss: 0.6564 - accuracy: 0.9768\n",
            "Epoch 12: val_accuracy did not improve from 0.79333\n",
            "175/175 [==============================] - 20s 116ms/step - loss: 0.6564 - accuracy: 0.9768 - val_loss: 0.9382 - val_accuracy: 0.7867 - lr: 4.0000e-06\n",
            "Epoch 13/50\n",
            "175/175 [==============================] - ETA: 0s - loss: 0.6529 - accuracy: 0.9796\n",
            "Epoch 13: ReduceLROnPlateau reducing learning rate to 1e-06.\n",
            "\n",
            "Epoch 13: val_accuracy did not improve from 0.79333\n",
            "175/175 [==============================] - 20s 115ms/step - loss: 0.6529 - accuracy: 0.9796 - val_loss: 0.9390 - val_accuracy: 0.7825 - lr: 4.0000e-06\n",
            "Epoch 14/50\n",
            "175/175 [==============================] - ETA: 0s - loss: 0.6511 - accuracy: 0.9812Restoring model weights from the end of the best epoch: 9.\n",
            "\n",
            "Epoch 14: val_accuracy did not improve from 0.79333\n",
            "175/175 [==============================] - 20s 116ms/step - loss: 0.6511 - accuracy: 0.9812 - val_loss: 0.9369 - val_accuracy: 0.7892 - lr: 1.0000e-06\n",
            "Epoch 14: early stopping\n"
          ]
        },
        {
          "output_type": "execute_result",
          "data": {
            "text/plain": [
              "<keras.src.callbacks.History at 0x7cf1d83c1630>"
            ]
          },
          "metadata": {},
          "execution_count": 36
        }
      ]
    },
    {
      "cell_type": "code",
      "source": [
        "test_loss, test_acc = model.evaluate(X_test, y_test_one_hot)\n",
        "print('Test accuracy:', test_acc)"
      ],
      "metadata": {
        "colab": {
          "base_uri": "https://localhost:8080/"
        },
        "id": "SZbr4a9fcdg7",
        "outputId": "828eb7c1-d1e1-4432-a784-c07e3948a1f5"
      },
      "execution_count": 38,
      "outputs": [
        {
          "output_type": "stream",
          "name": "stdout",
          "text": [
            "38/38 [==============================] - 2s 50ms/step - loss: 0.9365 - accuracy: 0.7958\n",
            "Test accuracy: 0.7958333492279053\n"
          ]
        }
      ]
    }
  ]
}

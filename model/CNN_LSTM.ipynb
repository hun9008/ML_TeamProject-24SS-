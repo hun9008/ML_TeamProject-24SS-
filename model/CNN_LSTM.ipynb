{
  "nbformat": 4,
  "nbformat_minor": 0,
  "metadata": {
    "colab": {
      "provenance": [],
      "machine_shape": "hm",
      "gpuType": "A100",
      "mount_file_id": "1QESJdkxF-j4grZqibOtWguBbEL9f3oM2",
      "authorship_tag": "ABX9TyMQsG8ZVDMSptVxzMJl3nFS",
      "include_colab_link": true
    },
    "kernelspec": {
      "name": "python3",
      "display_name": "Python 3"
    },
    "language_info": {
      "name": "python"
    },
    "accelerator": "GPU"
  },
  "cells": [
    {
      "cell_type": "markdown",
      "metadata": {
        "id": "view-in-github",
        "colab_type": "text"
      },
      "source": [
        "<a href=\"https://colab.research.google.com/github/hun9008/ML_TeamProject_24SS/blob/main/CNN_LSTM.ipynb\" target=\"_parent\"><img src=\"https://colab.research.google.com/assets/colab-badge.svg\" alt=\"Open In Colab\"/></a>"
      ]
    },
    {
      "cell_type": "code",
      "source": [
        "from google.colab import drive\n",
        "drive.mount('/content/drive')"
      ],
      "metadata": {
        "colab": {
          "base_uri": "https://localhost:8080/"
        },
        "id": "Do79NjoWnznw",
        "outputId": "dba97b83-a344-405c-820a-1d3aaa9496b4"
      },
      "execution_count": null,
      "outputs": [
        {
          "output_type": "stream",
          "name": "stdout",
          "text": [
            "Mounted at /gdrive\n"
          ]
        }
      ]
    },
    {
      "cell_type": "code",
      "source": [
        "cd /content/drive/MyDrive"
      ],
      "metadata": {
        "id": "MUpCstPII9Sq"
      },
      "execution_count": null,
      "outputs": []
    },
    {
      "cell_type": "code",
      "source": [
        "import os\n",
        "os.getcwd()\n",
        "os.chdir('..')"
      ],
      "metadata": {
        "id": "xyR7ZSYFI-BY"
      },
      "execution_count": null,
      "outputs": []
    },
    {
      "cell_type": "code",
      "source": [
        "os.listdir()"
      ],
      "metadata": {
        "id": "U4SFrUDYJBQe"
      },
      "execution_count": null,
      "outputs": []
    },
    {
      "cell_type": "code",
      "source": [
        "os.chdir('ML_TeamProject_24SS')"
      ],
      "metadata": {
        "id": "bShcNzNWJDRh"
      },
      "execution_count": null,
      "outputs": []
    },
    {
      "cell_type": "code",
      "source": [
        "from tensorflow.keras.models import Sequential\n",
        "from tensorflow.keras.layers import Conv2D, MaxPooling2D, Flatten, Dense, LSTM, Dropout, BatchNormalization, Reshape\n",
        "from tensorflow.keras.optimizers import Adam\n",
        "from tensorflow.keras.layers import Input\n",
        "from tensorflow.keras.preprocessing.image import img_to_array\n",
        "from tensorflow.keras.preprocessing.image import ImageDataGenerator\n",
        "from tensorflow.keras.utils import to_categorical\n",
        "import numpy as np\n",
        "from sklearn.model_selection import train_test_split\n",
        "from tensorflow.keras.callbacks import EarlyStopping"
      ],
      "metadata": {
        "id": "0Cp9F5hGJc3X"
      },
      "execution_count": 21,
      "outputs": []
    },
    {
      "cell_type": "code",
      "source": [
        "import pickle\n",
        "#os.chdir('images_gray_jpg')\n",
        "\n",
        "os.chdir('overripe_train_labeled_2000')\n",
        "with open('zero_centering.pkl', 'rb') as f:\n",
        "     overripe = pickle.load(f)\n",
        "     print('overripe : ', len(overripe))\n",
        "os.chdir(\"..\")\n",
        "os.chdir('no_train_labeled_2000')\n",
        "with open('zero_centering.pkl', 'rb') as f:\n",
        "     no = pickle.load(f)\n",
        "     print('no : ', len(no))\n",
        "os.chdir(\"..\")\n",
        "os.chdir('mature_train_labeled_2000')\n",
        "with open('zero_centering.pkl', 'rb') as f:\n",
        "     mature = pickle.load(f)\n",
        "     print('mature : ', len(mature))\n",
        "os.chdir(\"..\")\n",
        "os.chdir('incipient_train_labeled_2000')\n",
        "with open('zero_centering.pkl', 'rb') as f:\n",
        "     incipient = pickle.load(f)\n",
        "     print('incipient : ', len(incipient))"
      ],
      "metadata": {
        "colab": {
          "base_uri": "https://localhost:8080/"
        },
        "id": "BLwoDJ1pn3xe",
        "outputId": "ae3a877f-6e47-4637-c226-d64e4ec30262"
      },
      "execution_count": null,
      "outputs": [
        {
          "output_type": "stream",
          "name": "stdout",
          "text": [
            "mature :  2000\n"
          ]
        }
      ]
    },
    {
      "cell_type": "code",
      "source": [
        "# overripe의 모든 사진에 대해 반복\n",
        "overripe_data_list = []\n",
        "\n",
        "for filename, data in overripe.items():\n",
        "    zero_centering_value = data.get('zero_centering')\n",
        "    overripe_data_list.append(np.array(zero_centering_value))\n",
        "\n",
        "# 리스트를 NumPy 배열로 변환\n",
        "overripe_data = np.array(overripe_data_list)\n",
        "\n",
        "# 확인을 위해 배열의 크기 출력\n",
        "print(\"overripe_data shape:\", overripe_data.shape)\n",
        "no_data_list = []\n",
        "\n",
        "for filename, data in no.items():\n",
        "    zero_centering_value = data.get('zero_centering')\n",
        "    no_data_list.append(np.array(zero_centering_value))\n",
        "\n",
        "# 리스트를 NumPy 배열로 변환\n",
        "no_data = np.array(no_data_list)\n",
        "\n",
        "# 확인을 위해 배열의 크기 출력\n",
        "print(\"no_data shape:\", no_data.shape)\n",
        "\n",
        "mature_data_list = []\n",
        "\n",
        "for filename, data in mature.items():\n",
        "    zero_centering_value = data.get('zero_centering')\n",
        "    mature_data_list.append(np.array(zero_centering_value))\n",
        "\n",
        "# 리스트를 NumPy 배열로 변환\n",
        "mature_data = np.array(mature_data_list)\n",
        "\n",
        "# 확인을 위해 배열의 크기 출력\n",
        "print(\"mature_data shape:\", mature_data.shape)\n",
        "\n",
        "incipient_data_list = []\n",
        "\n",
        "for filename, data in incipient.items():\n",
        "    zero_centering_value = data.get('zero_centering')\n",
        "    incipient_data_list.append(np.array(zero_centering_value))\n",
        "\n",
        "# 리스트를 NumPy 배열로 변환\n",
        "incipient_data = np.array(incipient_data_list)\n",
        "\n",
        "# 확인을 위해 배열의 크기 출력\n",
        "print(\"incipient_data shape:\", incipient_data.shape)"
      ],
      "metadata": {
        "colab": {
          "base_uri": "https://localhost:8080/"
        },
        "id": "S9R81IdIpCHh",
        "outputId": "da8c7095-d255-40e2-9648-cff21baba815"
      },
      "execution_count": null,
      "outputs": [
        {
          "output_type": "stream",
          "name": "stdout",
          "text": [
            "incipient :  2000\n"
          ]
        }
      ]
    },
    {
      "cell_type": "code",
      "source": [
        "# 데이터를 train/validation/test로 나누기\n",
        "from sklearn.model_selection import train_test_split\n",
        "X = np.concatenate((overripe_data, no_data, mature_data, incipient_data), axis=0)\n",
        "y = np.concatenate((np.zeros(overripe_data.shape[0]), np.ones(no_data.shape[0]),\n",
        "                    2*np.ones(mature_data.shape[0]), 3*np.ones(incipient_data.shape[0])))\n",
        "\n",
        "X_train, X_temp, y_train, y_temp = train_test_split(X, y, test_size=0.3, random_state=42)\n",
        "X_val, X_test, y_val, y_test = train_test_split(X_temp, y_temp, test_size=0.5, random_state=42)\n",
        "\n",
        "print(X_train.shape)\n",
        "print(X_val.shape)\n",
        "print(X_test.shape)"
      ],
      "metadata": {
        "colab": {
          "base_uri": "https://localhost:8080/"
        },
        "id": "HaW0GKWSqKQK",
        "outputId": "9b553830-5435-4a2a-8d17-6575f1b05b4a"
      },
      "execution_count": null,
      "outputs": [
        {
          "output_type": "stream",
          "name": "stdout",
          "text": [
            "mature_train_labeled_value shape: (2000, 224, 224, 3)\n"
          ]
        }
      ]
    },
    {
      "cell_type": "code",
      "source": [
        "y_train_one_hot = to_categorical(y_train)\n",
        "y_val_one_hot = to_categorical(y_val)\n",
        "y_test_one_hot = to_categorical(y_test)"
      ],
      "metadata": {
        "colab": {
          "base_uri": "https://localhost:8080/"
        },
        "id": "qRmQFO6zvZbC",
        "outputId": "ca3cedab-e153-4310-b442-22e51b4cae2e"
      },
      "execution_count": null,
      "outputs": [
        {
          "output_type": "stream",
          "name": "stdout",
          "text": [
            "incipient_train_labeled_value shape: (2000, 224, 224, 3)\n"
          ]
        }
      ]
    },
    {
      "cell_type": "code",
      "execution_count": null,
      "metadata": {
        "id": "SMBkaJCGD_ZW",
        "colab": {
          "base_uri": "https://localhost:8080/"
        },
        "outputId": "17e76faa-da6f-4022-fc70-2fc2a3df0579"
      },
      "outputs": [
        {
          "output_type": "stream",
          "name": "stdout",
          "text": [
            "Epoch 1/30\n",
            "88/88 [==============================] - 7s 36ms/step - loss: 6.3371 - accuracy: 0.4950 - val_loss: 11.7527 - val_accuracy: 0.5017\n",
            "Epoch 2/30\n",
            "88/88 [==============================] - 2s 22ms/step - loss: 0.7325 - accuracy: 0.4814 - val_loss: 1.8622 - val_accuracy: 0.4800\n",
            "Epoch 3/30\n",
            "88/88 [==============================] - 2s 23ms/step - loss: 0.7077 - accuracy: 0.5018 - val_loss: 0.9426 - val_accuracy: 0.5000\n",
            "Epoch 4/30\n",
            "88/88 [==============================] - 2s 23ms/step - loss: 0.7055 - accuracy: 0.5093 - val_loss: 0.7621 - val_accuracy: 0.4867\n",
            "Epoch 5/30\n",
            "88/88 [==============================] - 2s 23ms/step - loss: 0.6971 - accuracy: 0.5104 - val_loss: 0.7108 - val_accuracy: 0.4817\n",
            "Epoch 6/30\n",
            "88/88 [==============================] - 2s 23ms/step - loss: 0.6923 - accuracy: 0.5096 - val_loss: 0.7077 - val_accuracy: 0.4883\n",
            "Epoch 7/30\n",
            "88/88 [==============================] - 2s 23ms/step - loss: 0.6928 - accuracy: 0.5104 - val_loss: 0.6991 - val_accuracy: 0.5017\n",
            "Epoch 8/30\n",
            "88/88 [==============================] - 2s 23ms/step - loss: 0.6962 - accuracy: 0.5082 - val_loss: 0.7029 - val_accuracy: 0.4967\n",
            "Epoch 9/30\n",
            "88/88 [==============================] - 2s 22ms/step - loss: 0.6989 - accuracy: 0.5086 - val_loss: 0.6994 - val_accuracy: 0.4983\n",
            "Epoch 10/30\n",
            "88/88 [==============================] - 2s 23ms/step - loss: 0.6945 - accuracy: 0.5086 - val_loss: 0.6948 - val_accuracy: 0.5000\n",
            "Epoch 11/30\n",
            "88/88 [==============================] - 2s 22ms/step - loss: 0.6949 - accuracy: 0.5068 - val_loss: 0.6934 - val_accuracy: 0.5017\n",
            "Epoch 12/30\n",
            "88/88 [==============================] - 2s 23ms/step - loss: 0.6931 - accuracy: 0.5096 - val_loss: 0.6947 - val_accuracy: 0.5017\n",
            "Epoch 13/30\n",
            "88/88 [==============================] - 2s 23ms/step - loss: 0.7050 - accuracy: 0.5096 - val_loss: 0.7422 - val_accuracy: 0.4917\n",
            "Epoch 14/30\n",
            "88/88 [==============================] - 2s 22ms/step - loss: 0.7136 - accuracy: 0.5121 - val_loss: 0.6955 - val_accuracy: 0.4967\n",
            "Epoch 15/30\n",
            "88/88 [==============================] - 2s 23ms/step - loss: 0.6940 - accuracy: 0.5071 - val_loss: 0.6937 - val_accuracy: 0.5000\n",
            "Epoch 16/30\n",
            "88/88 [==============================] - 2s 22ms/step - loss: 0.6932 - accuracy: 0.5086 - val_loss: 0.6972 - val_accuracy: 0.4983\n",
            "Epoch 17/30\n",
            "88/88 [==============================] - 2s 23ms/step - loss: 0.6962 - accuracy: 0.5075 - val_loss: 0.6945 - val_accuracy: 0.5017\n",
            "Epoch 18/30\n",
            "88/88 [==============================] - 2s 22ms/step - loss: 0.6940 - accuracy: 0.5086 - val_loss: 0.6963 - val_accuracy: 0.5000\n",
            "Epoch 19/30\n",
            "88/88 [==============================] - 2s 23ms/step - loss: 0.6929 - accuracy: 0.5107 - val_loss: 0.7069 - val_accuracy: 0.4967\n",
            "Epoch 20/30\n",
            "88/88 [==============================] - 2s 23ms/step - loss: 0.6923 - accuracy: 0.5089 - val_loss: 0.6978 - val_accuracy: 0.5017\n",
            "Epoch 21/30\n",
            "88/88 [==============================] - 2s 22ms/step - loss: 0.6926 - accuracy: 0.5093 - val_loss: 0.6970 - val_accuracy: 0.4983\n",
            "Epoch 22/30\n",
            "88/88 [==============================] - 2s 23ms/step - loss: 0.6935 - accuracy: 0.5086 - val_loss: 0.6934 - val_accuracy: 0.5000\n",
            "Epoch 23/30\n",
            "88/88 [==============================] - 2s 23ms/step - loss: 0.6923 - accuracy: 0.5096 - val_loss: 0.6991 - val_accuracy: 0.4983\n",
            "Epoch 24/30\n",
            "88/88 [==============================] - 2s 23ms/step - loss: 0.6933 - accuracy: 0.5082 - val_loss: 0.6941 - val_accuracy: 0.4983\n",
            "Epoch 25/30\n",
            "88/88 [==============================] - 2s 23ms/step - loss: 0.6927 - accuracy: 0.5086 - val_loss: 0.6970 - val_accuracy: 0.4983\n",
            "Epoch 26/30\n",
            "88/88 [==============================] - 2s 23ms/step - loss: 0.6923 - accuracy: 0.5093 - val_loss: 0.7015 - val_accuracy: 0.4983\n",
            "Epoch 27/30\n",
            "88/88 [==============================] - 2s 22ms/step - loss: 0.6924 - accuracy: 0.5089 - val_loss: 0.7040 - val_accuracy: 0.4983\n",
            "Epoch 28/30\n",
            "88/88 [==============================] - 2s 23ms/step - loss: 0.6924 - accuracy: 0.5089 - val_loss: 0.7065 - val_accuracy: 0.4983\n",
            "Epoch 29/30\n",
            "88/88 [==============================] - 2s 22ms/step - loss: 0.6926 - accuracy: 0.5086 - val_loss: 0.7066 - val_accuracy: 0.4983\n",
            "Epoch 30/30\n",
            "88/88 [==============================] - 2s 23ms/step - loss: 0.6935 - accuracy: 0.5093 - val_loss: 0.6914 - val_accuracy: 0.5017\n"
          ]
        }
      ],
      "source": [
        "\n",
        "# 모델 설계\n",
        "input_shape = (224, 224, 3)  # 이미지 크기와 채널 수 지정\n",
        "\n",
        "# 모델 구성\n",
        "model = Sequential([\n",
        "    Conv2D(32, (3, 3), activation='relu', padding='same', input_shape=input_shape),\n",
        "    BatchNormalization(),\n",
        "    MaxPooling2D((2, 2)),\n",
        "\n",
        "    Conv2D(64, (3, 3), activation='relu', padding='same'),\n",
        "    BatchNormalization(),\n",
        "    MaxPooling2D((2, 2)),\n",
        "\n",
        "    Conv2D(128, (3, 3), activation='relu', padding='same'),\n",
        "    BatchNormalization(),\n",
        "    MaxPooling2D((2, 2)),\n",
        "\n",
        "    Flatten(),\n",
        "    Dense(256, activation='relu'),\n",
        "    Dropout(0.5),\n",
        "    Dense(4, activation='softmax')  # 4개의 클래스에 대한 출력\n",
        "])\n",
        "\n",
        "# Define early stopping callback\n",
        "early_stopping = EarlyStopping(monitor='val_loss', patience=5, restore_best_weights=True)\n",
        "\n",
        "# 모델 컴파일\n",
        "model.compile(optimizer=Adam(learning_rate=0.001), loss='categorical_crossentropy', metrics=['accuracy'])\n",
        "\n",
        "# 모델 학습\n",
        "history = model.fit(X_train, y_train_one_hot, batch_size=32, epochs=30, validation_data=(X_val, y_val_one_hot), callbacks=[early_stopping])"
      ]
    },
    {
      "cell_type": "code",
      "source": [
        "# 모델 평가\n",
        "test_loss, test_acc = model.evaluate(X_test, y_test_one_hot)\n",
        "val_acc = model.evaluate(X_val, y_val_one_hot)\n",
        "\n",
        "print('Val accuracy:', val_acc)\n",
        "print('Test accuracy:', test_acc)"
      ],
      "metadata": {
        "colab": {
          "base_uri": "https://localhost:8080/"
        },
        "id": "WP-m7R7Z3ReK",
        "outputId": "93c9f974-4004-4864-82ad-125d1e42d219"
      },
      "execution_count": null,
      "outputs": [
        {
          "output_type": "stream",
          "name": "stdout",
          "text": [
            "19/19 [==============================] - 0s 10ms/step - loss: 0.6927 - accuracy: 0.4633\n",
            "19/19 [==============================] - 0s 10ms/step - loss: 0.6914 - accuracy: 0.5017\n",
            "Val accuracy: [0.6914002299308777, 0.5016666650772095]\n",
            "Test accuracy: 0.4633333384990692\n"
          ]
        }
      ]
    },
    {
      "cell_type": "code",
      "source": [
        "model.summary()"
      ],
      "metadata": {
        "colab": {
          "base_uri": "https://localhost:8080/"
        },
        "id": "qjmbDxpdACge",
        "outputId": "dd380512-dce2-4da2-9cc7-48efcdadedab"
      },
      "execution_count": null,
      "outputs": [
        {
          "output_type": "stream",
          "name": "stdout",
          "text": [
            "Model: \"sequential_6\"\n",
            "_________________________________________________________________\n",
            " Layer (type)                Output Shape              Param #   \n",
            "=================================================================\n",
            " conv2d_78 (Conv2D)          (None, 224, 224, 64)      1792      \n",
            "                                                                 \n",
            " conv2d_79 (Conv2D)          (None, 224, 224, 64)      36928     \n",
            "                                                                 \n",
            " max_pooling2d_30 (MaxPooli  (None, 112, 112, 64)      0         \n",
            " ng2D)                                                           \n",
            "                                                                 \n",
            " conv2d_80 (Conv2D)          (None, 112, 112, 128)     73856     \n",
            "                                                                 \n",
            " conv2d_81 (Conv2D)          (None, 112, 112, 128)     147584    \n",
            "                                                                 \n",
            " max_pooling2d_31 (MaxPooli  (None, 56, 56, 128)       0         \n",
            " ng2D)                                                           \n",
            "                                                                 \n",
            " conv2d_82 (Conv2D)          (None, 56, 56, 256)       295168    \n",
            "                                                                 \n",
            " conv2d_83 (Conv2D)          (None, 56, 56, 256)       590080    \n",
            "                                                                 \n",
            " conv2d_84 (Conv2D)          (None, 56, 56, 256)       590080    \n",
            "                                                                 \n",
            " max_pooling2d_32 (MaxPooli  (None, 28, 28, 256)       0         \n",
            " ng2D)                                                           \n",
            "                                                                 \n",
            " conv2d_85 (Conv2D)          (None, 28, 28, 512)       1180160   \n",
            "                                                                 \n",
            " conv2d_86 (Conv2D)          (None, 28, 28, 512)       2359808   \n",
            "                                                                 \n",
            " conv2d_87 (Conv2D)          (None, 28, 28, 512)       2359808   \n",
            "                                                                 \n",
            " max_pooling2d_33 (MaxPooli  (None, 14, 14, 512)       0         \n",
            " ng2D)                                                           \n",
            "                                                                 \n",
            " conv2d_88 (Conv2D)          (None, 14, 14, 512)       2359808   \n",
            "                                                                 \n",
            " conv2d_89 (Conv2D)          (None, 14, 14, 512)       2359808   \n",
            "                                                                 \n",
            " conv2d_90 (Conv2D)          (None, 14, 14, 512)       2359808   \n",
            "                                                                 \n",
            " max_pooling2d_34 (MaxPooli  (None, 7, 7, 512)         0         \n",
            " ng2D)                                                           \n",
            "                                                                 \n",
            " flatten_6 (Flatten)         (None, 25088)             0         \n",
            "                                                                 \n",
            " dense_18 (Dense)            (None, 4096)              102764544 \n",
            "                                                                 \n",
            " dense_19 (Dense)            (None, 4096)              16781312  \n",
            "                                                                 \n",
            " reshape_6 (Reshape)         (None, 1, 4096)           0         \n",
            "                                                                 \n",
            " lstm_12 (LSTM)              (None, 1, 256)            4457472   \n",
            "                                                                 \n",
            " lstm_13 (LSTM)              (None, 256)               525312    \n",
            "                                                                 \n",
            " dense_20 (Dense)            (None, 2)                 514       \n",
            "                                                                 \n",
            "=================================================================\n",
            "Total params: 139243842 (531.17 MB)\n",
            "Trainable params: 139243842 (531.17 MB)\n",
            "Non-trainable params: 0 (0.00 Byte)\n",
            "_________________________________________________________________\n"
          ]
        }
      ]
    },
    {
      "cell_type": "markdown",
      "source": [
        "\n",
        "\n",
        "1.   softmax : 0.5 / 0.5\n",
        "2.   sigmoid : 0.51 / 0.498\n",
        "\n"
      ],
      "metadata": {
        "id": "2efKJx6KBm3M"
      }
    }
  ]
}

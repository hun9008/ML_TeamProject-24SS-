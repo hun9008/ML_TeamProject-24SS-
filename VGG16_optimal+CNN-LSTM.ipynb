{
  "nbformat": 4,
  "nbformat_minor": 0,
  "metadata": {
    "colab": {
      "provenance": [],
      "machine_shape": "hm",
      "gpuType": "A100",
      "include_colab_link": true
    },
    "kernelspec": {
      "name": "python3",
      "display_name": "Python 3"
    },
    "language_info": {
      "name": "python"
    },
    "accelerator": "GPU"
  },
  "cells": [
    {
      "cell_type": "markdown",
      "metadata": {
        "id": "view-in-github",
        "colab_type": "text"
      },
      "source": [
        "<a href=\"https://colab.research.google.com/github/hun9008/ML_TeamProject_24SS/blob/main/VGG16_optimal%2BCNN-LSTM.ipynb\" target=\"_parent\"><img src=\"https://colab.research.google.com/assets/colab-badge.svg\" alt=\"Open In Colab\"/></a>"
      ]
    },
    {
      "cell_type": "code",
      "source": [
        "pip install optuna"
      ],
      "metadata": {
        "id": "i6So7_tYHkP5",
        "outputId": "19bd686e-957d-47b7-b0d0-fd25f7ee283f",
        "colab": {
          "base_uri": "https://localhost:8080/"
        }
      },
      "execution_count": 1,
      "outputs": [
        {
          "output_type": "stream",
          "name": "stdout",
          "text": [
            "Collecting optuna\n",
            "  Downloading optuna-3.6.1-py3-none-any.whl (380 kB)\n",
            "\u001b[2K     \u001b[90m━━━━━━━━━━━━━━━━━━━━━━━━━━━━━━━━━━━━━━━━\u001b[0m \u001b[32m380.1/380.1 kB\u001b[0m \u001b[31m2.4 MB/s\u001b[0m eta \u001b[36m0:00:00\u001b[0m\n",
            "\u001b[?25hCollecting alembic>=1.5.0 (from optuna)\n",
            "  Downloading alembic-1.13.1-py3-none-any.whl (233 kB)\n",
            "\u001b[2K     \u001b[90m━━━━━━━━━━━━━━━━━━━━━━━━━━━━━━━━━━━━━━━━\u001b[0m \u001b[32m233.4/233.4 kB\u001b[0m \u001b[31m14.2 MB/s\u001b[0m eta \u001b[36m0:00:00\u001b[0m\n",
            "\u001b[?25hCollecting colorlog (from optuna)\n",
            "  Downloading colorlog-6.8.2-py3-none-any.whl (11 kB)\n",
            "Requirement already satisfied: numpy in /usr/local/lib/python3.10/dist-packages (from optuna) (1.25.2)\n",
            "Requirement already satisfied: packaging>=20.0 in /usr/local/lib/python3.10/dist-packages (from optuna) (24.0)\n",
            "Requirement already satisfied: sqlalchemy>=1.3.0 in /usr/local/lib/python3.10/dist-packages (from optuna) (2.0.30)\n",
            "Requirement already satisfied: tqdm in /usr/local/lib/python3.10/dist-packages (from optuna) (4.66.4)\n",
            "Requirement already satisfied: PyYAML in /usr/local/lib/python3.10/dist-packages (from optuna) (6.0.1)\n",
            "Collecting Mako (from alembic>=1.5.0->optuna)\n",
            "  Downloading Mako-1.3.5-py3-none-any.whl (78 kB)\n",
            "\u001b[2K     \u001b[90m━━━━━━━━━━━━━━━━━━━━━━━━━━━━━━━━━━━━━━━━\u001b[0m \u001b[32m78.6/78.6 kB\u001b[0m \u001b[31m10.9 MB/s\u001b[0m eta \u001b[36m0:00:00\u001b[0m\n",
            "\u001b[?25hRequirement already satisfied: typing-extensions>=4 in /usr/local/lib/python3.10/dist-packages (from alembic>=1.5.0->optuna) (4.11.0)\n",
            "Requirement already satisfied: greenlet!=0.4.17 in /usr/local/lib/python3.10/dist-packages (from sqlalchemy>=1.3.0->optuna) (3.0.3)\n",
            "Requirement already satisfied: MarkupSafe>=0.9.2 in /usr/local/lib/python3.10/dist-packages (from Mako->alembic>=1.5.0->optuna) (2.1.5)\n",
            "Installing collected packages: Mako, colorlog, alembic, optuna\n",
            "Successfully installed Mako-1.3.5 alembic-1.13.1 colorlog-6.8.2 optuna-3.6.1\n"
          ]
        }
      ]
    },
    {
      "cell_type": "code",
      "source": [
        "import tensorflow as tf\n",
        "import os\n",
        "import pickle\n",
        "import optuna\n",
        "import pandas as pd\n",
        "import numpy as np\n",
        "from tensorflow.keras.callbacks import EarlyStopping\n",
        "import matplotlib.pyplot as plt\n",
        "from optuna.visualization import plot_optimization_history\n",
        "from sklearn.model_selection import train_test_split\n",
        "from tensorflow.keras.applications import VGG16\n",
        "from tensorflow.keras.models import Sequential\n",
        "from tensorflow.keras.models import Model\n",
        "from tensorflow.keras.layers import Conv2D, MaxPooling2D, Flatten, Dense, LSTM, Dropout, BatchNormalization, Reshape\n",
        "from tensorflow.keras.optimizers import Adam\n",
        "from tensorflow.keras.utils import to_categorical"
      ],
      "metadata": {
        "id": "qPH0SO-qGzjY"
      },
      "execution_count": 25,
      "outputs": []
    },
    {
      "cell_type": "code",
      "execution_count": 3,
      "metadata": {
        "colab": {
          "base_uri": "https://localhost:8080/"
        },
        "id": "MaQi2LTwPNco",
        "outputId": "0c3d1158-825e-433e-fab0-1cf048e89a9f"
      },
      "outputs": [
        {
          "output_type": "stream",
          "name": "stdout",
          "text": [
            "Mounted at /gdrive\n"
          ]
        }
      ],
      "source": [
        "from google.colab import drive\n",
        "drive.mount('/gdrive', force_remount=True)"
      ]
    },
    {
      "cell_type": "code",
      "source": [
        "import pickle\n",
        "\n",
        "path = '/gdrive/My Drive/data/mature_train_labeled.pkl'\n",
        "\n",
        "with open(path, 'rb') as f:\n",
        "    mature = pickle.load(f)\n",
        "    print('mature : ', len(mature))"
      ],
      "metadata": {
        "colab": {
          "base_uri": "https://localhost:8080/"
        },
        "id": "_O_T_aU6PdD1",
        "outputId": "4eba3aec-7dad-41ea-89f6-8fd910a52f48"
      },
      "execution_count": 4,
      "outputs": [
        {
          "output_type": "stream",
          "name": "stdout",
          "text": [
            "mature :  2000\n"
          ]
        }
      ]
    },
    {
      "cell_type": "code",
      "source": [
        "import pickle\n",
        "\n",
        "path = '/gdrive/My Drive/data/incipient_train_labeled.pkl'\n",
        "\n",
        "with open(path, 'rb') as f:\n",
        "    incipient = pickle.load(f)\n",
        "    print('incipient : ', len(incipient))"
      ],
      "metadata": {
        "colab": {
          "base_uri": "https://localhost:8080/"
        },
        "id": "_3zfoxPtPjlS",
        "outputId": "b186b680-4c93-422e-f556-7acf51bf352f"
      },
      "execution_count": 5,
      "outputs": [
        {
          "output_type": "stream",
          "name": "stdout",
          "text": [
            "incipient :  2000\n"
          ]
        }
      ]
    },
    {
      "cell_type": "code",
      "source": [
        "import numpy as np\n",
        "from sklearn.model_selection import train_test_split\n",
        "\n",
        "mature_train_labeled_list = []\n",
        "for filename, data in mature.items():\n",
        "    zero_centering_value = data.get('zero_centering')\n",
        "    mature_train_labeled_list.append(np.array(zero_centering_value, dtype=np.float32))\n",
        "\n",
        "# 리스트를 NumPy 배열로 변환\n",
        "mature_train_labeled_value = np.array(mature_train_labeled_list)\n",
        "\n",
        "print(\"mature_train_labeled_value shape:\", mature_train_labeled_value.shape)"
      ],
      "metadata": {
        "colab": {
          "base_uri": "https://localhost:8080/"
        },
        "id": "KE16NJ5TPlN_",
        "outputId": "1c14dba5-4150-4ded-975e-0a57df097c81"
      },
      "execution_count": 6,
      "outputs": [
        {
          "output_type": "stream",
          "name": "stdout",
          "text": [
            "mature_train_labeled_value shape: (2000, 224, 224, 3)\n"
          ]
        }
      ]
    },
    {
      "cell_type": "code",
      "source": [
        "import numpy as np\n",
        "from sklearn.model_selection import train_test_split\n",
        "\n",
        "incipient_train_labeled_list = []\n",
        "for file, data in incipient.items():\n",
        "    zero_centering_value = data.get('zero_centering')\n",
        "    incipient_train_labeled_list.append(np.array(zero_centering_value, dtype=np.float32))\n",
        "\n",
        "\n",
        "# 리스트를 NumPy 배열로 변환\n",
        "incipient_train_labeled_value = np.array(incipient_train_labeled_list)\n",
        "\n",
        "print(\"incipient_train_labeled_value shape:\", incipient_train_labeled_value.shape)"
      ],
      "metadata": {
        "id": "34-qwn4kPr92",
        "outputId": "d6113054-99ba-4933-bd50-2b98ea03e233",
        "colab": {
          "base_uri": "https://localhost:8080/"
        }
      },
      "execution_count": 7,
      "outputs": [
        {
          "output_type": "stream",
          "name": "stdout",
          "text": [
            "incipient_train_labeled_value shape: (2000, 224, 224, 3)\n"
          ]
        }
      ]
    },
    {
      "cell_type": "code",
      "source": [
        "X = np.concatenate((incipient_train_labeled_value, incipient_train_labeled_value), axis=0)\n",
        "y = np.concatenate((np.zeros(incipient_train_labeled_value.shape[0]), np.ones(incipient_train_labeled_value.shape[0])))\n",
        "\n",
        "X_train, X_temp, y_train, y_temp = train_test_split(X, y, test_size=0.3, random_state=42)\n",
        "X_val, X_test, y_val, y_test = train_test_split(X_temp, y_temp, test_size=0.5, random_state=42)"
      ],
      "metadata": {
        "id": "fJHViDgyXvON"
      },
      "execution_count": 8,
      "outputs": []
    },
    {
      "cell_type": "code",
      "source": [
        "print(X_train.shape)\n",
        "print(X_val.shape)\n",
        "print(X_test.shape)"
      ],
      "metadata": {
        "id": "mviidsa8f6d_",
        "outputId": "6041a049-efbe-4ed0-ce14-f88dd1de00a2",
        "colab": {
          "base_uri": "https://localhost:8080/"
        }
      },
      "execution_count": 9,
      "outputs": [
        {
          "output_type": "stream",
          "name": "stdout",
          "text": [
            "(2800, 224, 224, 3)\n",
            "(600, 224, 224, 3)\n",
            "(600, 224, 224, 3)\n"
          ]
        }
      ]
    },
    {
      "cell_type": "markdown",
      "source": [
        "y one-hot"
      ],
      "metadata": {
        "id": "fC5k-MspbVG3"
      }
    },
    {
      "cell_type": "code",
      "source": [
        "y_train_one_hot = to_categorical(y_train, num_classes=2)\n",
        "y_val_one_hot = to_categorical(y_val, num_classes=2)\n",
        "y_test_one_hot = to_categorical(y_test)"
      ],
      "metadata": {
        "id": "MPyh4QsebQm_"
      },
      "execution_count": 10,
      "outputs": []
    },
    {
      "cell_type": "markdown",
      "source": [
        "# Hyperparameter tuning"
      ],
      "metadata": {
        "id": "BaftsMKqbdz4"
      }
    },
    {
      "cell_type": "code",
      "source": [
        "# memory reduce\n",
        "del mature, incipient\n",
        "del mature_train_labeled_value, incipient_train_labeled_value\n",
        "del mature_train_labeled_list, incipient_train_labeled_list\n",
        "del X, y\n",
        "del y_train, y_temp, y_val, y_test"
      ],
      "metadata": {
        "id": "1LZA8OcqbdZm"
      },
      "execution_count": 11,
      "outputs": []
    },
    {
      "cell_type": "code",
      "source": [
        "\n",
        "def objective(trial, X_train, y_train, X_val, y_val):\n",
        "    # Define parameters to be tuned\n",
        "    # 여기서 lr, epochs, batch_size가 하이퍼파라미터튜닝 대상입니다.\n",
        "    lr = trial.suggest_loguniform('lr', 1e-5, 1e-3)  # Learning rate\n",
        "    epochs = 10\n",
        "    batch_size = trial.suggest_categorical('batch_size', [16, 32, 64])  # Batch size\n",
        "\n",
        "    # Load pre-trained VGG16 model without top layers\n",
        "    base_model = VGG16(weights='imagenet', include_top=False, input_shape=(224, 224, 3))\n",
        "\n",
        "    # Freeze the base model layers\n",
        "    for layer in base_model.layers:\n",
        "        layer.trainable = False\n",
        "\n",
        "    # Add custom top layers for classification\n",
        "    model = Sequential([\n",
        "        base_model,\n",
        "        Flatten(),\n",
        "        Dense(4096, activation='relu'),\n",
        "        Dense(4096, activation='relu'),\n",
        "        Dense(2, activation='softmax')  # Assuming 2 classes for classification\n",
        "    ])\n",
        "\n",
        "    # Compile model\n",
        "    optimizer = Adam(lr=lr)\n",
        "    model.compile(optimizer=optimizer, loss='categorical_crossentropy', metrics=['accuracy'])\n",
        "\n",
        "    # Train the model\n",
        "    history = model.fit(X_train, y_train, validation_data=(X_val, y_val), epochs=epochs, batch_size=batch_size)\n",
        "\n",
        "    # Evaluate the model\n",
        "    val_loss = history.history['val_loss'][-1]\n",
        "    return val_loss\n"
      ],
      "metadata": {
        "id": "PJTgPAoecA5T"
      },
      "execution_count": 12,
      "outputs": []
    },
    {
      "cell_type": "code",
      "source": [
        "# Run Optuna optimization\n",
        "study = optuna.create_study(direction='minimize')\n",
        "study.optimize(lambda trial: objective(trial, X_train, y_train_one_hot, X_val, y_val_one_hot), n_trials=5)\n",
        "\n",
        "# Get the best parameters\n",
        "best_params = study.best_params\n",
        "print(\"Best parameters:\", best_params)"
      ],
      "metadata": {
        "colab": {
          "base_uri": "https://localhost:8080/"
        },
        "id": "btCcMsLwcP4z",
        "outputId": "e5933162-e6c6-41d6-8295-1dd7588f1462"
      },
      "execution_count": 13,
      "outputs": [
        {
          "output_type": "stream",
          "name": "stderr",
          "text": [
            "[I 2024-05-18 10:37:23,113] A new study created in memory with name: no-name-6ed843eb-2735-405a-9be8-69ae773476be\n",
            "<ipython-input-12-42a19bcb1f70>:4: FutureWarning: suggest_loguniform has been deprecated in v3.0.0. This feature will be removed in v6.0.0. See https://github.com/optuna/optuna/releases/tag/v3.0.0. Use suggest_float(..., log=True) instead.\n",
            "  lr = trial.suggest_loguniform('lr', 1e-5, 1e-3)  # Learning rate\n"
          ]
        },
        {
          "output_type": "stream",
          "name": "stdout",
          "text": [
            "Downloading data from https://storage.googleapis.com/tensorflow/keras-applications/vgg16/vgg16_weights_tf_dim_ordering_tf_kernels_notop.h5\n",
            "58889256/58889256 [==============================] - 0s 0us/step\n"
          ]
        },
        {
          "output_type": "stream",
          "name": "stderr",
          "text": [
            "WARNING:absl:`lr` is deprecated in Keras optimizer, please use `learning_rate` or use the legacy optimizer, e.g.,tf.keras.optimizers.legacy.Adam.\n"
          ]
        },
        {
          "output_type": "stream",
          "name": "stdout",
          "text": [
            "Epoch 1/10\n",
            "44/44 [==============================] - 12s 146ms/step - loss: 4.0052 - accuracy: 0.5029 - val_loss: 0.7049 - val_accuracy: 0.4983\n",
            "Epoch 2/10\n",
            "44/44 [==============================] - 3s 59ms/step - loss: 0.7003 - accuracy: 0.5036 - val_loss: 0.6942 - val_accuracy: 0.5033\n",
            "Epoch 3/10\n",
            "44/44 [==============================] - 3s 59ms/step - loss: 0.6940 - accuracy: 0.5107 - val_loss: 0.6951 - val_accuracy: 0.4983\n",
            "Epoch 4/10\n",
            "44/44 [==============================] - 3s 58ms/step - loss: 0.6955 - accuracy: 0.4982 - val_loss: 0.6967 - val_accuracy: 0.4683\n",
            "Epoch 5/10\n",
            "44/44 [==============================] - 3s 59ms/step - loss: 0.6944 - accuracy: 0.5104 - val_loss: 0.6925 - val_accuracy: 0.5217\n",
            "Epoch 6/10\n",
            "44/44 [==============================] - 3s 58ms/step - loss: 0.7013 - accuracy: 0.5007 - val_loss: 0.6978 - val_accuracy: 0.4983\n",
            "Epoch 7/10\n",
            "44/44 [==============================] - 3s 59ms/step - loss: 0.6954 - accuracy: 0.5093 - val_loss: 0.6989 - val_accuracy: 0.5017\n",
            "Epoch 8/10\n",
            "44/44 [==============================] - 3s 58ms/step - loss: 0.6942 - accuracy: 0.4896 - val_loss: 0.6932 - val_accuracy: 0.4983\n",
            "Epoch 9/10\n",
            "44/44 [==============================] - 3s 58ms/step - loss: 0.6931 - accuracy: 0.5075 - val_loss: 0.6946 - val_accuracy: 0.5017\n",
            "Epoch 10/10\n",
            "44/44 [==============================] - 3s 58ms/step - loss: 0.6931 - accuracy: 0.5079 - val_loss: 0.6933 - val_accuracy: 0.5017\n"
          ]
        },
        {
          "output_type": "stream",
          "name": "stderr",
          "text": [
            "[I 2024-05-18 10:38:02,548] Trial 0 finished with value: 0.6932610273361206 and parameters: {'lr': 0.00020882770424517013, 'batch_size': 64}. Best is trial 0 with value: 0.6932610273361206.\n",
            "WARNING:absl:`lr` is deprecated in Keras optimizer, please use `learning_rate` or use the legacy optimizer, e.g.,tf.keras.optimizers.legacy.Adam.\n"
          ]
        },
        {
          "output_type": "stream",
          "name": "stdout",
          "text": [
            "Epoch 1/10\n",
            "88/88 [==============================] - 7s 50ms/step - loss: 1.6684 - accuracy: 0.5068 - val_loss: 0.6979 - val_accuracy: 0.5017\n",
            "Epoch 2/10\n",
            "88/88 [==============================] - 3s 33ms/step - loss: 0.7075 - accuracy: 0.5132 - val_loss: 0.7011 - val_accuracy: 0.4983\n",
            "Epoch 3/10\n",
            "88/88 [==============================] - 3s 33ms/step - loss: 0.7020 - accuracy: 0.5068 - val_loss: 0.7048 - val_accuracy: 0.5000\n",
            "Epoch 4/10\n",
            "88/88 [==============================] - 3s 34ms/step - loss: 0.6972 - accuracy: 0.4979 - val_loss: 0.6936 - val_accuracy: 0.4967\n",
            "Epoch 5/10\n",
            "88/88 [==============================] - 3s 33ms/step - loss: 0.6935 - accuracy: 0.5075 - val_loss: 0.6932 - val_accuracy: 0.5017\n",
            "Epoch 6/10\n",
            "88/88 [==============================] - 3s 34ms/step - loss: 0.6932 - accuracy: 0.5046 - val_loss: 0.6932 - val_accuracy: 0.5017\n",
            "Epoch 7/10\n",
            "88/88 [==============================] - 3s 34ms/step - loss: 0.6934 - accuracy: 0.4971 - val_loss: 0.6932 - val_accuracy: 0.5017\n",
            "Epoch 8/10\n",
            "88/88 [==============================] - 3s 34ms/step - loss: 0.6930 - accuracy: 0.5082 - val_loss: 0.6932 - val_accuracy: 0.5017\n",
            "Epoch 9/10\n",
            "88/88 [==============================] - 3s 34ms/step - loss: 0.6929 - accuracy: 0.5086 - val_loss: 0.6931 - val_accuracy: 0.5033\n",
            "Epoch 10/10\n",
            "88/88 [==============================] - 3s 34ms/step - loss: 0.6933 - accuracy: 0.5086 - val_loss: 0.6932 - val_accuracy: 0.5017\n"
          ]
        },
        {
          "output_type": "stream",
          "name": "stderr",
          "text": [
            "[I 2024-05-18 10:38:38,671] Trial 1 finished with value: 0.693243145942688 and parameters: {'lr': 1.2519569422019126e-05, 'batch_size': 32}. Best is trial 1 with value: 0.693243145942688.\n",
            "WARNING:absl:`lr` is deprecated in Keras optimizer, please use `learning_rate` or use the legacy optimizer, e.g.,tf.keras.optimizers.legacy.Adam.\n"
          ]
        },
        {
          "output_type": "stream",
          "name": "stdout",
          "text": [
            "Epoch 1/10\n",
            "44/44 [==============================] - 5s 76ms/step - loss: 4.6909 - accuracy: 0.5036 - val_loss: 0.6962 - val_accuracy: 0.4950\n",
            "Epoch 2/10\n",
            "44/44 [==============================] - 3s 58ms/step - loss: 0.7062 - accuracy: 0.5025 - val_loss: 0.7150 - val_accuracy: 0.5017\n",
            "Epoch 3/10\n",
            "44/44 [==============================] - 3s 58ms/step - loss: 0.7001 - accuracy: 0.4875 - val_loss: 0.6964 - val_accuracy: 0.4983\n",
            "Epoch 4/10\n",
            "44/44 [==============================] - 3s 58ms/step - loss: 0.6950 - accuracy: 0.5032 - val_loss: 0.6957 - val_accuracy: 0.5017\n",
            "Epoch 5/10\n",
            "44/44 [==============================] - 3s 58ms/step - loss: 0.6944 - accuracy: 0.5075 - val_loss: 0.7024 - val_accuracy: 0.4983\n",
            "Epoch 6/10\n",
            "44/44 [==============================] - 3s 59ms/step - loss: 0.6950 - accuracy: 0.5025 - val_loss: 0.7093 - val_accuracy: 0.5017\n",
            "Epoch 7/10\n",
            "44/44 [==============================] - 3s 59ms/step - loss: 0.6935 - accuracy: 0.4968 - val_loss: 0.6934 - val_accuracy: 0.4967\n",
            "Epoch 8/10\n",
            "44/44 [==============================] - 3s 59ms/step - loss: 0.6932 - accuracy: 0.5079 - val_loss: 0.6936 - val_accuracy: 0.4967\n",
            "Epoch 9/10\n",
            "44/44 [==============================] - 3s 59ms/step - loss: 0.6941 - accuracy: 0.4979 - val_loss: 0.6935 - val_accuracy: 0.4933\n",
            "Epoch 10/10\n",
            "44/44 [==============================] - 3s 59ms/step - loss: 0.6931 - accuracy: 0.5075 - val_loss: 0.6937 - val_accuracy: 0.4983\n"
          ]
        },
        {
          "output_type": "stream",
          "name": "stderr",
          "text": [
            "[I 2024-05-18 10:39:08,954] Trial 2 finished with value: 0.69366055727005 and parameters: {'lr': 0.00011777781937719047, 'batch_size': 64}. Best is trial 1 with value: 0.693243145942688.\n",
            "WARNING:absl:`lr` is deprecated in Keras optimizer, please use `learning_rate` or use the legacy optimizer, e.g.,tf.keras.optimizers.legacy.Adam.\n"
          ]
        },
        {
          "output_type": "stream",
          "name": "stdout",
          "text": [
            "Epoch 1/10\n",
            "175/175 [==============================] - 6s 27ms/step - loss: 1.5448 - accuracy: 0.4961 - val_loss: 0.7047 - val_accuracy: 0.5017\n",
            "Epoch 2/10\n",
            "175/175 [==============================] - 4s 21ms/step - loss: 0.7017 - accuracy: 0.4911 - val_loss: 0.6932 - val_accuracy: 0.5017\n",
            "Epoch 3/10\n",
            "175/175 [==============================] - 4s 21ms/step - loss: 0.6939 - accuracy: 0.4932 - val_loss: 0.6932 - val_accuracy: 0.5017\n",
            "Epoch 4/10\n",
            "175/175 [==============================] - 4s 21ms/step - loss: 0.6932 - accuracy: 0.4950 - val_loss: 0.6946 - val_accuracy: 0.5017\n",
            "Epoch 5/10\n",
            "175/175 [==============================] - 4s 21ms/step - loss: 0.6930 - accuracy: 0.5079 - val_loss: 0.6962 - val_accuracy: 0.5017\n",
            "Epoch 6/10\n",
            "175/175 [==============================] - 4s 21ms/step - loss: 0.6929 - accuracy: 0.5079 - val_loss: 0.7032 - val_accuracy: 0.5017\n",
            "Epoch 7/10\n",
            "175/175 [==============================] - 4s 21ms/step - loss: 0.6931 - accuracy: 0.5079 - val_loss: 0.6932 - val_accuracy: 0.5017\n",
            "Epoch 8/10\n",
            "175/175 [==============================] - 4s 21ms/step - loss: 0.6931 - accuracy: 0.5079 - val_loss: 0.6932 - val_accuracy: 0.5017\n",
            "Epoch 9/10\n",
            "175/175 [==============================] - 4s 21ms/step - loss: 0.6931 - accuracy: 0.5079 - val_loss: 0.6932 - val_accuracy: 0.5017\n",
            "Epoch 10/10\n",
            "175/175 [==============================] - 4s 21ms/step - loss: 0.6931 - accuracy: 0.5079 - val_loss: 0.6932 - val_accuracy: 0.5017\n"
          ]
        },
        {
          "output_type": "stream",
          "name": "stderr",
          "text": [
            "[I 2024-05-18 10:39:50,291] Trial 3 finished with value: 0.6932090520858765 and parameters: {'lr': 2.396790266745027e-05, 'batch_size': 16}. Best is trial 3 with value: 0.6932090520858765.\n",
            "WARNING:absl:`lr` is deprecated in Keras optimizer, please use `learning_rate` or use the legacy optimizer, e.g.,tf.keras.optimizers.legacy.Adam.\n"
          ]
        },
        {
          "output_type": "stream",
          "name": "stdout",
          "text": [
            "Epoch 1/10\n",
            "88/88 [==============================] - 5s 40ms/step - loss: 2.3157 - accuracy: 0.5043 - val_loss: 0.6929 - val_accuracy: 0.5133\n",
            "Epoch 2/10\n",
            "88/88 [==============================] - 3s 33ms/step - loss: 0.6998 - accuracy: 0.5082 - val_loss: 0.6975 - val_accuracy: 0.5017\n",
            "Epoch 3/10\n",
            "88/88 [==============================] - 3s 34ms/step - loss: 0.7106 - accuracy: 0.5014 - val_loss: 0.7077 - val_accuracy: 0.4983\n",
            "Epoch 4/10\n",
            "88/88 [==============================] - 3s 34ms/step - loss: 0.6959 - accuracy: 0.4925 - val_loss: 0.6938 - val_accuracy: 0.5000\n",
            "Epoch 5/10\n",
            "88/88 [==============================] - 3s 33ms/step - loss: 0.6935 - accuracy: 0.5068 - val_loss: 0.6939 - val_accuracy: 0.5000\n",
            "Epoch 6/10\n",
            "88/88 [==============================] - 3s 33ms/step - loss: 0.6931 - accuracy: 0.5079 - val_loss: 0.6932 - val_accuracy: 0.5017\n",
            "Epoch 7/10\n",
            "88/88 [==============================] - 3s 34ms/step - loss: 0.6933 - accuracy: 0.4943 - val_loss: 0.6932 - val_accuracy: 0.5017\n",
            "Epoch 8/10\n",
            "88/88 [==============================] - 3s 33ms/step - loss: 0.6932 - accuracy: 0.5079 - val_loss: 0.6932 - val_accuracy: 0.5017\n",
            "Epoch 9/10\n",
            "88/88 [==============================] - 3s 33ms/step - loss: 0.6931 - accuracy: 0.5079 - val_loss: 0.6933 - val_accuracy: 0.5017\n",
            "Epoch 10/10\n",
            "88/88 [==============================] - 3s 33ms/step - loss: 0.6931 - accuracy: 0.5079 - val_loss: 0.6933 - val_accuracy: 0.5017\n"
          ]
        },
        {
          "output_type": "stream",
          "name": "stderr",
          "text": [
            "[I 2024-05-18 10:40:24,323] Trial 4 finished with value: 0.6933068633079529 and parameters: {'lr': 2.0924460694587156e-05, 'batch_size': 32}. Best is trial 3 with value: 0.6932090520858765.\n"
          ]
        },
        {
          "output_type": "stream",
          "name": "stdout",
          "text": [
            "Best parameters: {'lr': 2.396790266745027e-05, 'batch_size': 16}\n"
          ]
        }
      ]
    },
    {
      "cell_type": "markdown",
      "source": [
        "Training & Test"
      ],
      "metadata": {
        "id": "lhdB7e9DckDT"
      }
    },
    {
      "cell_type": "code",
      "source": [
        "print(study.best_params['lr'])\n",
        "print(study.best_params['batch_size'])\n"
      ],
      "metadata": {
        "colab": {
          "base_uri": "https://localhost:8080/"
        },
        "id": "Po2tObbljZuG",
        "outputId": "05d0755e-29d2-42b9-9a8e-e34c3a389f49"
      },
      "execution_count": 14,
      "outputs": [
        {
          "output_type": "stream",
          "name": "stdout",
          "text": [
            "2.396790266745027e-05\n",
            "16\n"
          ]
        }
      ]
    },
    {
      "cell_type": "code",
      "source": [
        "def train_vgg16_model():\n",
        "  # Load pre-trained VGG16 model without top layers\n",
        "  base_model = VGG16(weights='imagenet', include_top=False, input_shape=(224, 224, 3))\n",
        "\n",
        "  # Freeze the base model layers\n",
        "  for layer in base_model.layers:\n",
        "      layer.trainable = False\n",
        "\n",
        "  # Add custom top layers for classification\n",
        "  model = Sequential([\n",
        "      base_model,\n",
        "      Flatten(),\n",
        "      Dense(4096, activation='relu'),\n",
        "      Dense(4096, activation='relu'),\n",
        "      Dense(2, activation='softmax')\n",
        "  ])\n",
        "\n",
        "  # Compile model\n",
        "  # optimizer = Adam(lr=5.520238899015578e-05)\n",
        "  optimizer = Adam(lr=study.best_params['lr'])\n",
        "  model.compile(optimizer=optimizer, loss='categorical_crossentropy', metrics=['accuracy'])\n",
        "\n",
        "  # Fine-tuning: Unfreeze some layers and train the entire model with new data\n",
        "  for layer in model.layers:\n",
        "      if 'block5' in layer.name:  # Unfreeze layers starting from 'block5'\n",
        "          layer.trainable = True\n",
        "\n",
        "  # Define early stopping callback\n",
        "  early_stopping = EarlyStopping(monitor='val_loss', patience=3, restore_best_weights=True)\n",
        "\n",
        "  # Train the model with early stopping\n",
        "  history = model.fit(X_train, y_train_one_hot, validation_data=(X_val, y_val_one_hot), batch_size=study.best_params['batch_size'], epochs=50, callbacks=[early_stopping])\n",
        "  # history = model.fit(X_train, y_train_one_hot, validation_data=(X_val, y_val_one_hot), batch_size=16, epochs=50, callbacks=[early_stopping])\n",
        "  # history = model.fit(X_train, y_train_one_hot, validation_data=(X_val, y_val_one_hot), batch_size=16, epochs=50)\n",
        "\n",
        "  # Plot training history\n",
        "  plt.plot(history.history['loss'], label='Training Loss')\n",
        "  plt.plot(history.history['val_loss'], label='Validation Loss')\n",
        "  plt.xlabel('Epoch')\n",
        "  plt.ylabel('Loss')\n",
        "  plt.legend()\n",
        "  plt.title('Training and Validation Loss')\n",
        "  plt.show()\n",
        "\n",
        "  # Evaluate the model\n",
        "  model.summary()\n",
        "  test_loss, test_acc = model.evaluate(X_test, y_test_one_hot)\n",
        "  print('Test accuracy:', test_acc)\n",
        ""
      ],
      "metadata": {
        "id": "KwVGjPhQSsCr"
      },
      "execution_count": 27,
      "outputs": []
    },
    {
      "cell_type": "code",
      "source": [
        "train_vgg16_model()"
      ],
      "metadata": {
        "id": "-G7NJPuJSsj9",
        "outputId": "74f2773c-8b82-4b57-fd0e-11c84888ddb4",
        "colab": {
          "base_uri": "https://localhost:8080/",
          "height": 1000
        }
      },
      "execution_count": 28,
      "outputs": [
        {
          "output_type": "stream",
          "name": "stderr",
          "text": [
            "WARNING:absl:`lr` is deprecated in Keras optimizer, please use `learning_rate` or use the legacy optimizer, e.g.,tf.keras.optimizers.legacy.Adam.\n"
          ]
        },
        {
          "output_type": "stream",
          "name": "stdout",
          "text": [
            "Epoch 1/50\n",
            "175/175 [==============================] - 6s 26ms/step - loss: 1.5787 - accuracy: 0.5039 - val_loss: 0.7219 - val_accuracy: 0.4983\n",
            "Epoch 2/50\n",
            "175/175 [==============================] - 4s 22ms/step - loss: 0.7156 - accuracy: 0.5021 - val_loss: 0.7187 - val_accuracy: 0.4883\n",
            "Epoch 3/50\n",
            "175/175 [==============================] - 4s 22ms/step - loss: 0.6944 - accuracy: 0.5068 - val_loss: 0.6934 - val_accuracy: 0.5000\n",
            "Epoch 4/50\n",
            "175/175 [==============================] - 4s 22ms/step - loss: 0.6937 - accuracy: 0.5071 - val_loss: 0.6931 - val_accuracy: 0.5017\n",
            "Epoch 5/50\n",
            "175/175 [==============================] - 4s 21ms/step - loss: 0.6932 - accuracy: 0.5086 - val_loss: 0.6933 - val_accuracy: 0.5017\n",
            "Epoch 6/50\n",
            "175/175 [==============================] - 4s 21ms/step - loss: 0.6933 - accuracy: 0.4982 - val_loss: 0.6932 - val_accuracy: 0.5017\n",
            "Epoch 7/50\n",
            "175/175 [==============================] - 4s 22ms/step - loss: 0.6932 - accuracy: 0.5079 - val_loss: 0.6932 - val_accuracy: 0.5017\n"
          ]
        },
        {
          "output_type": "display_data",
          "data": {
            "text/plain": [
              "<Figure size 640x480 with 1 Axes>"
            ],
            "image/png": "[encoded data removed]"
          },
          "metadata": {}
        },
        {
          "output_type": "stream",
          "name": "stdout",
          "text": [
            "Model: \"sequential_8\"\n",
            "_________________________________________________________________\n",
            " Layer (type)                Output Shape              Param #   \n",
            "=================================================================\n",
            " vgg16 (Functional)          (None, 7, 7, 512)         14714688  \n",
            "                                                                 \n",
            " flatten_11 (Flatten)        (None, 25088)             0         \n",
            "                                                                 \n",
            " dense_32 (Dense)            (None, 4096)              102764544 \n",
            "                                                                 \n",
            " dense_33 (Dense)            (None, 4096)              16781312  \n",
            "                                                                 \n",
            " dense_34 (Dense)            (None, 2)                 8194      \n",
            "                                                                 \n",
            "=================================================================\n",
            "Total params: 134268738 (512.19 MB)\n",
            "Trainable params: 119554050 (456.06 MB)\n",
            "Non-trainable params: 14714688 (56.13 MB)\n",
            "_________________________________________________________________\n",
            "19/19 [==============================] - 0s 23ms/step - loss: 0.6937 - accuracy: 0.4650\n",
            "Test accuracy: 0.4650000035762787\n"
          ]
        }
      ]
    },
    {
      "cell_type": "markdown",
      "source": [
        "# CNN-LSTM"
      ],
      "metadata": {
        "id": "uvFQIZ33mu7u"
      }
    },
    {
      "cell_type": "code",
      "source": [
        "from tensorflow.keras.models import Sequential, Model\n",
        "from tensorflow.keras.layers import Conv2D, MaxPooling2D, Flatten, Dense, LSTM, Dropout, BatchNormalization, Reshape\n",
        "from tensorflow.keras.optimizers import Adam\n",
        "from tensorflow.keras.applications import VGG16\n",
        "from tensorflow.keras.callbacks import EarlyStopping\n",
        "from tensorflow.keras.utils import to_categorical\n",
        "import matplotlib.pyplot as plt\n",
        "\n",
        "def train_vgg16_cnn_lstm_model():\n",
        "    # Load pre-trained VGG16 model without top layers\n",
        "    base_model = VGG16(weights='imagenet', include_top=False, input_shape=(224, 224, 3))\n",
        "\n",
        "    # Freeze the base model layers\n",
        "    for layer in base_model.layers:\n",
        "        layer.trainable = False\n",
        "\n",
        "    # Add custom top layers for classification\n",
        "    vgg16_model = base_model.output\n",
        "    vgg16_model = Flatten()(vgg16_model)\n",
        "    vgg16_model = Dense(4096, activation='relu')(vgg16_model)\n",
        "    vgg16_model = Dense(4096, activation='relu')(vgg16_model)\n",
        "\n",
        "    # Add CNN-LSTM layers\n",
        "    cnn_lstm_model = Reshape((1, 4096))(vgg16_model)\n",
        "    cnn_lstm_model = LSTM(256, return_sequences=True)(cnn_lstm_model)\n",
        "    cnn_lstm_model = LSTM(256)(cnn_lstm_model)\n",
        "\n",
        "    # Add output layer\n",
        "    num_classes = 2  # 클래스 개수 설정\n",
        "    output = Dense(num_classes, activation='softmax')(cnn_lstm_model)\n",
        "\n",
        "    # Create the final model\n",
        "    model = Model(inputs=base_model.input, outputs=output)\n",
        "\n",
        "    # Compile model\n",
        "    optimizer = Adam(lr=study.best_params['lr'])\n",
        "    model.compile(optimizer=optimizer, loss='categorical_crossentropy', metrics=['accuracy'])\n",
        "\n",
        "    # Fine-tuning: Unfreeze some layers and train the entire model with new data\n",
        "    for layer in model.layers:\n",
        "        if 'block5' in layer.name:\n",
        "            # Unfreeze layers starting from 'block5'\n",
        "            layer.trainable = True\n",
        "\n",
        "    # Define early stopping callback\n",
        "    early_stopping = EarlyStopping(monitor='val_loss', patience=3, restore_best_weights=True)\n",
        "\n",
        "    # Train the model with early stopping\n",
        "    history = model.fit(X_train, y_train_one_hot, validation_data=(X_val, y_val_one_hot), batch_size=study.best_params['batch_size'], epochs=50, callbacks=[early_stopping])\n",
        "\n",
        "    # Plot training history\n",
        "    plt.plot(history.history['loss'], label='Training Loss')\n",
        "    plt.plot(history.history['val_loss'], label='Validation Loss')\n",
        "    plt.xlabel('Epoch')\n",
        "    plt.ylabel('Loss')\n",
        "    plt.legend()\n",
        "    plt.title('Training and Validation Loss')\n",
        "    plt.show()\n",
        "\n",
        "    # Evaluate the model\n",
        "    model.summary()\n",
        "    test_loss, test_acc = model.evaluate(X_test, y_test_one_hot)\n",
        "    print('Test accuracy:', test_acc)\n"
      ],
      "metadata": {
        "id": "G6Cei5K9cgft"
      },
      "execution_count": 38,
      "outputs": []
    },
    {
      "cell_type": "code",
      "source": [
        "train_vgg16_cnn_lstm_model()"
      ],
      "metadata": {
        "colab": {
          "base_uri": "https://localhost:8080/",
          "height": 1000
        },
        "id": "gf6q3umTkcMR",
        "outputId": "40a51190-2108-4185-8bbe-b5c6527d1b25"
      },
      "execution_count": 39,
      "outputs": [
        {
          "output_type": "stream",
          "name": "stderr",
          "text": [
            "WARNING:absl:`lr` is deprecated in Keras optimizer, please use `learning_rate` or use the legacy optimizer, e.g.,tf.keras.optimizers.legacy.Adam.\n"
          ]
        },
        {
          "output_type": "stream",
          "name": "stdout",
          "text": [
            "Epoch 1/50\n",
            "175/175 [==============================] - 9s 31ms/step - loss: 0.6984 - accuracy: 0.5007 - val_loss: 0.6932 - val_accuracy: 0.5017\n",
            "Epoch 2/50\n",
            "175/175 [==============================] - 4s 22ms/step - loss: 0.6944 - accuracy: 0.5043 - val_loss: 0.6952 - val_accuracy: 0.5017\n",
            "Epoch 3/50\n",
            "175/175 [==============================] - 4s 22ms/step - loss: 0.6945 - accuracy: 0.5114 - val_loss: 0.6934 - val_accuracy: 0.5017\n",
            "Epoch 4/50\n",
            "175/175 [==============================] - 4s 24ms/step - loss: 0.6937 - accuracy: 0.4993 - val_loss: 0.6937 - val_accuracy: 0.5017\n"
          ]
        },
        {
          "output_type": "display_data",
          "data": {
            "text/plain": [
              "<Figure size 640x480 with 1 Axes>"
            ],
            "image/png": "[encoded data removed]"
          },
          "metadata": {}
        },
        {
          "output_type": "stream",
          "name": "stdout",
          "text": [
            "Model: \"model_5\"\n",
            "_________________________________________________________________\n",
            " Layer (type)                Output Shape              Param #   \n",
            "=================================================================\n",
            " input_18 (InputLayer)       [(None, 224, 224, 3)]     0         \n",
            "                                                                 \n",
            " block1_conv1 (Conv2D)       (None, 224, 224, 64)      1792      \n",
            "                                                                 \n",
            " block1_conv2 (Conv2D)       (None, 224, 224, 64)      36928     \n",
            "                                                                 \n",
            " block1_pool (MaxPooling2D)  (None, 112, 112, 64)      0         \n",
            "                                                                 \n",
            " block2_conv1 (Conv2D)       (None, 112, 112, 128)     73856     \n",
            "                                                                 \n",
            " block2_conv2 (Conv2D)       (None, 112, 112, 128)     147584    \n",
            "                                                                 \n",
            " block2_pool (MaxPooling2D)  (None, 56, 56, 128)       0         \n",
            "                                                                 \n",
            " block3_conv1 (Conv2D)       (None, 56, 56, 256)       295168    \n",
            "                                                                 \n",
            " block3_conv2 (Conv2D)       (None, 56, 56, 256)       590080    \n",
            "                                                                 \n",
            " block3_conv3 (Conv2D)       (None, 56, 56, 256)       590080    \n",
            "                                                                 \n",
            " block3_pool (MaxPooling2D)  (None, 28, 28, 256)       0         \n",
            "                                                                 \n",
            " block4_conv1 (Conv2D)       (None, 28, 28, 512)       1180160   \n",
            "                                                                 \n",
            " block4_conv2 (Conv2D)       (None, 28, 28, 512)       2359808   \n",
            "                                                                 \n",
            " block4_conv3 (Conv2D)       (None, 28, 28, 512)       2359808   \n",
            "                                                                 \n",
            " block4_pool (MaxPooling2D)  (None, 14, 14, 512)       0         \n",
            "                                                                 \n",
            " block5_conv1 (Conv2D)       (None, 14, 14, 512)       2359808   \n",
            "                                                                 \n",
            " block5_conv2 (Conv2D)       (None, 14, 14, 512)       2359808   \n",
            "                                                                 \n",
            " block5_conv3 (Conv2D)       (None, 14, 14, 512)       2359808   \n",
            "                                                                 \n",
            " block5_pool (MaxPooling2D)  (None, 7, 7, 512)         0         \n",
            "                                                                 \n",
            " flatten_17 (Flatten)        (None, 25088)             0         \n",
            "                                                                 \n",
            " dense_49 (Dense)            (None, 4096)              102764544 \n",
            "                                                                 \n",
            " dense_50 (Dense)            (None, 4096)              16781312  \n",
            "                                                                 \n",
            " reshape_7 (Reshape)         (None, 1, 4096)           0         \n",
            "                                                                 \n",
            " lstm_14 (LSTM)              (None, 1, 256)            4457472   \n",
            "                                                                 \n",
            " lstm_15 (LSTM)              (None, 256)               525312    \n",
            "                                                                 \n",
            " dense_51 (Dense)            (None, 2)                 514       \n",
            "                                                                 \n",
            "=================================================================\n",
            "Total params: 139243842 (531.17 MB)\n",
            "Trainable params: 131608578 (502.05 MB)\n",
            "Non-trainable params: 7635264 (29.13 MB)\n",
            "_________________________________________________________________\n",
            "19/19 [==============================] - 0s 23ms/step - loss: 0.6942 - accuracy: 0.4617\n",
            "Test accuracy: 0.46166667342185974\n"
          ]
        }
      ]
    }
  ]
}
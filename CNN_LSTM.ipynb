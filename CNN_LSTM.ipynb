{
  "nbformat": 4,
  "nbformat_minor": 0,
  "metadata": {
    "colab": {
      "provenance": [],
      "machine_shape": "hm",
      "gpuType": "L4",
      "mount_file_id": "1QESJdkxF-j4grZqibOtWguBbEL9f3oM2",
      "authorship_tag": "ABX9TyP6QA3kOs4Ne+IXrMrSQPVu",
      "include_colab_link": true
    },
    "kernelspec": {
      "name": "python3",
      "display_name": "Python 3"
    },
    "language_info": {
      "name": "python"
    },
    "accelerator": "GPU"
  },
  "cells": [
    {
      "cell_type": "markdown",
      "metadata": {
        "id": "view-in-github",
        "colab_type": "text"
      },
      "source": [
        "<a href=\"https://colab.research.google.com/github/hun9008/ML_TeamProject_24SS/blob/main/CNN_LSTM.ipynb\" target=\"_parent\"><img src=\"https://colab.research.google.com/assets/colab-badge.svg\" alt=\"Open In Colab\"/></a>"
      ]
    },
    {
      "cell_type": "code",
      "source": [
        "from google.colab import drive\n",
        "drive.mount('/gdrive', force_remount=True)"
      ],
      "metadata": {
        "colab": {
          "base_uri": "https://localhost:8080/"
        },
        "id": "Do79NjoWnznw",
        "outputId": "acc0dd82-1455-4977-f337-72b3361e524e"
      },
      "execution_count": 30,
      "outputs": [
        {
          "output_type": "stream",
          "name": "stdout",
          "text": [
            "Mounted at /gdrive\n"
          ]
        }
      ]
    },
    {
      "cell_type": "code",
      "source": [
        "import pickle\n",
        "\n",
        "path = '/gdrive/My Drive/data/mature_train_labeled.pkl'\n",
        "\n",
        "with open(path, 'rb') as f:\n",
        "    mature = pickle.load(f)\n",
        "    print('mature : ', len(mature))"
      ],
      "metadata": {
        "colab": {
          "base_uri": "https://localhost:8080/"
        },
        "id": "BLwoDJ1pn3xe",
        "outputId": "7636fd98-b330-480d-94c0-622ba2e8989a"
      },
      "execution_count": 31,
      "outputs": [
        {
          "output_type": "stream",
          "name": "stdout",
          "text": [
            "mature :  2000\n"
          ]
        }
      ]
    },
    {
      "cell_type": "code",
      "source": [
        "import pickle\n",
        "\n",
        "path = '/gdrive/My Drive/data/incipient_train_labeled.pkl'\n",
        "\n",
        "with open(path, 'rb') as f:\n",
        "    incipient = pickle.load(f)\n",
        "    print('incipient : ', len(incipient))"
      ],
      "metadata": {
        "colab": {
          "base_uri": "https://localhost:8080/"
        },
        "id": "S9R81IdIpCHh",
        "outputId": "427aeda0-324c-4959-f20a-b7b2991ba258"
      },
      "execution_count": 32,
      "outputs": [
        {
          "output_type": "stream",
          "name": "stdout",
          "text": [
            "incipient :  2000\n"
          ]
        }
      ]
    },
    {
      "cell_type": "code",
      "source": [
        "import numpy as np\n",
        "from sklearn.model_selection import train_test_split\n",
        "\n",
        "mature_train_labeled_list = []\n",
        "for filename, data in mature.items():\n",
        "    zero_centering_value = data.get('zero_centering')\n",
        "    mature_train_labeled_list.append(np.array(zero_centering_value, dtype=np.float32))\n",
        "\n",
        "# 리스트를 NumPy 배열로 변환\n",
        "mature_train_labeled_value = np.array(mature_train_labeled_list)\n",
        "\n",
        "print(\"mature_train_labeled_value shape:\", mature_train_labeled_value.shape)"
      ],
      "metadata": {
        "colab": {
          "base_uri": "https://localhost:8080/"
        },
        "id": "HaW0GKWSqKQK",
        "outputId": "1123301e-d37d-4e9d-f8f6-401c744eb0b3"
      },
      "execution_count": 33,
      "outputs": [
        {
          "output_type": "stream",
          "name": "stdout",
          "text": [
            "mature_train_labeled_value shape: (2000, 224, 224, 3)\n"
          ]
        }
      ]
    },
    {
      "cell_type": "code",
      "source": [
        "import numpy as np\n",
        "from sklearn.model_selection import train_test_split\n",
        "\n",
        "incipient_train_labeled_list = []\n",
        "for file, data in incipient.items():\n",
        "    zero_centering_value = data.get('zero_centering')\n",
        "    incipient_train_labeled_list.append(np.array(zero_centering_value, dtype=np.float32))\n",
        "\n",
        "\n",
        "# 리스트를 NumPy 배열로 변환\n",
        "incipient_train_labeled_value = np.array(incipient_train_labeled_list)\n",
        "\n",
        "print(\"incipient_train_labeled_value shape:\", incipient_train_labeled_value.shape)"
      ],
      "metadata": {
        "colab": {
          "base_uri": "https://localhost:8080/"
        },
        "id": "qRmQFO6zvZbC",
        "outputId": "e2511fe3-35dd-417e-8584-2bd20c7f6eaf"
      },
      "execution_count": 34,
      "outputs": [
        {
          "output_type": "stream",
          "name": "stdout",
          "text": [
            "incipient_train_labeled_value shape: (2000, 224, 224, 3)\n"
          ]
        }
      ]
    },
    {
      "cell_type": "code",
      "source": [
        "X = np.concatenate((incipient_train_labeled_value, incipient_train_labeled_value), axis=0)\n",
        "y = np.concatenate((np.zeros(incipient_train_labeled_value.shape[0]), np.ones(incipient_train_labeled_value.shape[0])))\n",
        "\n",
        "X_train, X_temp, y_train, y_temp = train_test_split(X, y, test_size=0.3, random_state=42)\n",
        "X_val, X_test, y_val, y_test = train_test_split(X_temp, y_temp, test_size=0.5, random_state=42)"
      ],
      "metadata": {
        "id": "vDap0k2OvzBo"
      },
      "execution_count": 35,
      "outputs": []
    },
    {
      "cell_type": "code",
      "source": [
        "print(\"X_train shape:\", X_train.shape)\n",
        "print(\"X_val shape:\", X_val.shape)"
      ],
      "metadata": {
        "colab": {
          "base_uri": "https://localhost:8080/"
        },
        "id": "8cqs1aVK0oZ4",
        "outputId": "b87dbfdf-788b-484a-dd31-4e91c0993335"
      },
      "execution_count": 36,
      "outputs": [
        {
          "output_type": "stream",
          "name": "stdout",
          "text": [
            "X_train shape: (2800, 224, 224, 3)\n",
            "X_val shape: (600, 224, 224, 3)\n"
          ]
        }
      ]
    },
    {
      "cell_type": "code",
      "execution_count": 43,
      "metadata": {
        "id": "SMBkaJCGD_ZW",
        "colab": {
          "base_uri": "https://localhost:8080/"
        },
        "outputId": "089e2880-258d-48e5-e850-39ce3e2abfcf"
      },
      "outputs": [
        {
          "output_type": "stream",
          "name": "stdout",
          "text": [
            "Epoch 1/10\n",
            "88/88 [==============================] - 10s 63ms/step - loss: 0.6996 - accuracy: 0.4807 - val_loss: 0.6940 - val_accuracy: 0.5000\n",
            "Epoch 2/10\n",
            "88/88 [==============================] - 4s 46ms/step - loss: 0.6993 - accuracy: 0.4911 - val_loss: 0.6975 - val_accuracy: 0.4983\n",
            "Epoch 3/10\n",
            "88/88 [==============================] - 4s 46ms/step - loss: 0.6962 - accuracy: 0.5061 - val_loss: 0.6936 - val_accuracy: 0.4950\n",
            "Epoch 4/10\n",
            "88/88 [==============================] - 4s 46ms/step - loss: 0.6950 - accuracy: 0.4911 - val_loss: 0.6950 - val_accuracy: 0.5017\n",
            "Epoch 5/10\n",
            "88/88 [==============================] - 4s 46ms/step - loss: 0.6945 - accuracy: 0.5068 - val_loss: 0.6932 - val_accuracy: 0.5183\n",
            "Epoch 6/10\n",
            "88/88 [==============================] - 4s 46ms/step - loss: 0.6945 - accuracy: 0.4807 - val_loss: 0.6945 - val_accuracy: 0.5017\n",
            "Epoch 7/10\n",
            "88/88 [==============================] - 4s 46ms/step - loss: 0.6933 - accuracy: 0.5079 - val_loss: 0.6946 - val_accuracy: 0.4583\n",
            "Epoch 8/10\n",
            "88/88 [==============================] - 4s 46ms/step - loss: 0.6947 - accuracy: 0.5004 - val_loss: 0.6933 - val_accuracy: 0.5067\n",
            "Epoch 9/10\n",
            "88/88 [==============================] - 4s 46ms/step - loss: 0.6940 - accuracy: 0.4846 - val_loss: 0.6938 - val_accuracy: 0.4900\n",
            "Epoch 10/10\n",
            "88/88 [==============================] - 4s 46ms/step - loss: 0.6934 - accuracy: 0.4979 - val_loss: 0.6945 - val_accuracy: 0.4983\n"
          ]
        }
      ],
      "source": [
        "from tensorflow.keras.models import Sequential\n",
        "from tensorflow.keras.layers import Conv2D, MaxPooling2D, Flatten, Dense, LSTM, Dropout, BatchNormalization\n",
        "from tensorflow.keras.optimizers import Adam\n",
        "from tensorflow.keras.layers import Reshape, Input\n",
        "from tensorflow.keras.preprocessing.image import img_to_array\n",
        "from tensorflow.keras.preprocessing.image import ImageDataGenerator\n",
        "from tensorflow.keras.utils import to_categorical\n",
        "\n",
        "# 모델 설계\n",
        "input_shape = (224, 224, 3)  # 이미지 크기와 채널 수 지정\n",
        "input_layer = Input(shape=input_shape)\n",
        "model = Sequential()\n",
        "model.add(input_layer)\n",
        "\n",
        "# CNN 부분\n",
        "# 3개의 Conv2D 레이어와 MaxPooling2D, BatchNormalization 레이어를 차례로 쌓아 이미지의 특징을 추출\n",
        "model.add(Conv2D(32, (3, 3), activation='relu'))\n",
        "model.add(MaxPooling2D((2, 2)))\n",
        "model.add(BatchNormalization())\n",
        "\n",
        "# 필터 수를 점점 늘리면서 더 복잡한 특징을 추출\n",
        "model.add(Conv2D(64, (3, 3), activation='relu'))\n",
        "model.add(MaxPooling2D((2, 2)))\n",
        "model.add(BatchNormalization())\n",
        "model.add(Conv2D(128, (3, 3), activation='relu'))\n",
        "model.add(MaxPooling2D((2, 2)))\n",
        "model.add(BatchNormalization())\n",
        "\n",
        "model.add(Flatten())\n",
        "model.add(Dense(256, activation='relu'))\n",
        "model.add(Dropout(0.2))\n",
        "\n",
        "# Flatten 레이어 이후에 Reshape 레이어 추가\n",
        "model.add(Reshape((1, 256)))\n",
        "\n",
        "# LSTM 부분\n",
        "# 첫 번째 LSTM은 시퀀스 데이터로 취급하고, 두 번째 LSTM은 시퀀스를 압축하여 최종 출력을 생성\n",
        "model.add(LSTM(256, return_sequences=True))\n",
        "model.add(LSTM(256))\n",
        "\n",
        "# 출력 층\n",
        "model.add(Dense(1, activation='sigmoid'))\n",
        "\n",
        "# 모델 컴파일\n",
        "# 시그모이드 활성화 함수를 사용하여 이진 분류(백내장 유무)를 수행\n",
        "model.compile(optimizer=Adam(learning_rate=0.001), loss='binary_crossentropy', metrics=['accuracy'])\n",
        "\n",
        "# 모델 학습\n",
        "history = model.fit(X_train, y_train, batch_size=32, epochs=10, validation_data=(X_val, y_val))\n"
      ]
    },
    {
      "cell_type": "code",
      "source": [
        "model.summary()"
      ],
      "metadata": {
        "colab": {
          "base_uri": "https://localhost:8080/"
        },
        "id": "qjmbDxpdACge",
        "outputId": "9898d208-3255-4a00-c8f2-303740cab1c9"
      },
      "execution_count": 38,
      "outputs": [
        {
          "output_type": "stream",
          "name": "stdout",
          "text": [
            "Model: \"sequential_7\"\n",
            "_________________________________________________________________\n",
            " Layer (type)                Output Shape              Param #   \n",
            "=================================================================\n",
            " conv2d_21 (Conv2D)          (None, 222, 222, 32)      896       \n",
            "                                                                 \n",
            " max_pooling2d_21 (MaxPooli  (None, 111, 111, 32)      0         \n",
            " ng2D)                                                           \n",
            "                                                                 \n",
            " batch_normalization_21 (Ba  (None, 111, 111, 32)      128       \n",
            " tchNormalization)                                               \n",
            "                                                                 \n",
            " conv2d_22 (Conv2D)          (None, 109, 109, 64)      18496     \n",
            "                                                                 \n",
            " max_pooling2d_22 (MaxPooli  (None, 54, 54, 64)        0         \n",
            " ng2D)                                                           \n",
            "                                                                 \n",
            " batch_normalization_22 (Ba  (None, 54, 54, 64)        256       \n",
            " tchNormalization)                                               \n",
            "                                                                 \n",
            " conv2d_23 (Conv2D)          (None, 52, 52, 128)       73856     \n",
            "                                                                 \n",
            " max_pooling2d_23 (MaxPooli  (None, 26, 26, 128)       0         \n",
            " ng2D)                                                           \n",
            "                                                                 \n",
            " batch_normalization_23 (Ba  (None, 26, 26, 128)       512       \n",
            " tchNormalization)                                               \n",
            "                                                                 \n",
            " flatten_7 (Flatten)         (None, 86528)             0         \n",
            "                                                                 \n",
            " dense_13 (Dense)            (None, 256)               22151424  \n",
            "                                                                 \n",
            " dropout_7 (Dropout)         (None, 256)               0         \n",
            "                                                                 \n",
            " reshape_7 (Reshape)         (None, 1, 256)            0         \n",
            "                                                                 \n",
            " lstm_14 (LSTM)              (None, 1, 256)            525312    \n",
            "                                                                 \n",
            " lstm_15 (LSTM)              (None, 256)               525312    \n",
            "                                                                 \n",
            " dense_14 (Dense)            (None, 1)                 257       \n",
            "                                                                 \n",
            "=================================================================\n",
            "Total params: 23296449 (88.87 MB)\n",
            "Trainable params: 23296001 (88.87 MB)\n",
            "Non-trainable params: 448 (1.75 KB)\n",
            "_________________________________________________________________\n"
          ]
        }
      ]
    },
    {
      "cell_type": "markdown",
      "source": [
        "\n",
        "\n",
        "1.   softmax : 0.5 / 0.5\n",
        "2.   sigmoid : 0.51 / 0.498\n",
        "\n"
      ],
      "metadata": {
        "id": "2efKJx6KBm3M"
      }
    },
    {
      "cell_type": "code",
      "source": [
        "# 모델 평가\n",
        "_, train_acc = model.evaluate(X_train, y_train, verbose=0)\n",
        "_, val_acc = model.evaluate(X_val, y_val, verbose=0)\n",
        "\n",
        "print('Train Accuracy: %.3f' % train_acc)\n",
        "print('Validation Accuracy: %.3f' % val_acc)"
      ],
      "metadata": {
        "colab": {
          "base_uri": "https://localhost:8080/"
        },
        "id": "XhIhH0jL-d4E",
        "outputId": "95855864-7a3b-448a-abea-c368d9931f0f"
      },
      "execution_count": 44,
      "outputs": [
        {
          "output_type": "stream",
          "name": "stdout",
          "text": [
            "Train Accuracy: 0.510\n",
            "Validation Accuracy: 0.498\n"
          ]
        }
      ]
    }
  ]
}
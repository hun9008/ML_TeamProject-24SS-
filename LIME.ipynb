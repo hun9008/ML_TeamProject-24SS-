{
  "nbformat": 4,
  "nbformat_minor": 0,
  "metadata": {
    "colab": {
      "provenance": [],
      "authorship_tag": "ABX9TyMpHf23BO8QszmealT7Erkb",
      "include_colab_link": true
    },
    "kernelspec": {
      "name": "python3",
      "display_name": "Python 3"
    },
    "language_info": {
      "name": "python"
    }
  },
  "cells": [
    {
      "cell_type": "markdown",
      "metadata": {
        "id": "view-in-github",
        "colab_type": "text"
      },
      "source": [
        "<a href=\"https://colab.research.google.com/github/hun9008/ML_TeamProject_24SS/blob/main/LIME.ipynb\" target=\"_parent\"><img src=\"https://colab.research.google.com/assets/colab-badge.svg\" alt=\"Open In Colab\"/></a>"
      ]
    },
    {
      "cell_type": "code",
      "execution_count": null,
      "metadata": {
        "id": "WAgsWxd9cI14"
      },
      "outputs": [],
      "source": [
        "from lime import lime_image\n",
        "from skimage.segmentation import mark_boundaries\n",
        "\n",
        "# LIME 설명 인스턴스 생성\n",
        "explainer = lime_image.LimeImageExplainer()\n",
        "\n",
        "# 예측을 설명할 이미지 선택 (예: 테스트 셋 중 하나)\n",
        "image_idx = 0  # 예측을 설명할 이미지의 인덱스\n",
        "image = X_test[image_idx]\n",
        "\n",
        "# LIME 설명 생성\n",
        "explanation = explainer.explain_instance(image, model.predict, top_labels=1, hide_color=0, num_samples=1000)\n",
        "\n",
        "# 이미지와 설명을 시각화\n",
        "temp, mask = explanation.get_image_and_mask(explanation.top_labels[0], positive_only=False, num_features=5, hide_rest=False)\n",
        "plt.imshow(mark_boundaries(temp / 2 + 0.5, mask))\n",
        "plt.show()"
      ]
    },
    {
      "cell_type": "code",
      "source": [
        "import matplotlib.pyplot as plt\n",
        "from skimage.segmentation import mark_boundaries\n",
        "\n",
        "# 설명된 이미지와 설명에 대한 마스크 가져오기\n",
        "temp, mask = explanation.get_image_and_mask(explanation.top_labels[0], positive_only=False, num_features=5, hide_rest=False)\n",
        "\n",
        "# 원본 이미지와 설명된 이미지를 결합하여 시각화\n",
        "plt.imshow(mark_boundaries(temp / 2 + 0.5, mask))\n",
        "plt.axis('off')\n",
        "plt.show()\n"
      ],
      "metadata": {
        "id": "KXBZKkIpceFo"
      },
      "execution_count": null,
      "outputs": []
    }
  ]
}
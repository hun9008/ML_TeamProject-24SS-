{
  "nbformat": 4,
  "nbformat_minor": 0,
  "metadata": {
    "colab": {
      "provenance": [],
      "machine_shape": "hm",
      "gpuType": "L4",
      "include_colab_link": true
    },
    "kernelspec": {
      "name": "python3",
      "display_name": "Python 3"
    },
    "language_info": {
      "name": "python"
    },
    "accelerator": "GPU"
  },
  "cells": [
    {
      "cell_type": "markdown",
      "metadata": {
        "id": "view-in-github",
        "colab_type": "text"
      },
      "source": [
        "<a href=\"https://colab.research.google.com/github/hun9008/ML_TeamProject_24SS/blob/main/LIME.ipynb\" target=\"_parent\"><img src=\"https://colab.research.google.com/assets/colab-badge.svg\" alt=\"Open In Colab\"/></a>"
      ]
    },
    {
      "cell_type": "code",
      "execution_count": null,
      "metadata": {
        "colab": {
          "base_uri": "https://localhost:8080/"
        },
        "id": "-PiAO58CWJpQ",
        "outputId": "2bfe2b41-d074-4540-fcc3-6139f0222f99"
      },
      "outputs": [
        {
          "output_type": "stream",
          "name": "stdout",
          "text": [
            "Mounted at /content/drive\n"
          ]
        }
      ],
      "source": [
        "from google.colab import drive\n",
        "drive.mount('/content/drive')"
      ]
    },
    {
      "cell_type": "code",
      "source": [
        "import tensorflow as tf\n",
        "import os\n",
        "import pickle\n",
        "import pandas as pd\n",
        "import numpy as np\n",
        "from sklearn.model_selection import train_test_split\n",
        "from tensorflow.keras.applications import ResNet50\n",
        "from tensorflow.keras.layers import Dense, GlobalAveragePooling2D\n",
        "from tensorflow.keras.models import Model\n",
        "from tensorflow.keras.optimizers import Adam\n",
        "\n",
        "gpus = tf.config.experimental.list_physical_devices('GPU')\n",
        "if gpus:\n",
        "  try:\n",
        "    # Currently, memory growth needs to be the same across GPUs\n",
        "    for gpu in gpus:\n",
        "      tf.config.experimental.set_memory_growth(gpu, True)\n",
        "    logical_gpus = tf.config.experimental.list_logical_devices('GPU')\n",
        "    print(len(gpus), \"Physical GPUs,\", len(logical_gpus), \"Logical GPUs\")\n",
        "  except RuntimeError as e:\n",
        "    # Memory growth must be set before GPUs have been initialized\n",
        "    print(e)\n"
      ],
      "metadata": {
        "id": "VympD2V5qPEo",
        "outputId": "671562a9-2c21-423f-e8e1-284f12e87238",
        "colab": {
          "base_uri": "https://localhost:8080/"
        }
      },
      "execution_count": null,
      "outputs": [
        {
          "output_type": "stream",
          "name": "stdout",
          "text": [
            "1 Physical GPUs, 1 Logical GPUs\n"
          ]
        }
      ]
    },
    {
      "cell_type": "code",
      "source": [
        "cd /content/drive/MyDrive/ML_TeamProject/"
      ],
      "metadata": {
        "id": "nqJEWsoxIPIY",
        "outputId": "52f21423-afe7-4d28-a398-97988af4e681",
        "colab": {
          "base_uri": "https://localhost:8080/"
        }
      },
      "execution_count": null,
      "outputs": [
        {
          "output_type": "stream",
          "name": "stdout",
          "text": [
            "/content/drive/MyDrive/ML_TeamProject\n"
          ]
        }
      ]
    },
    {
      "cell_type": "code",
      "source": [
        "image_gray_jpg_path = \"/content/drive/My Drive/ML_TeamProject/images_gray_jpg\""
      ],
      "metadata": {
        "id": "DAOIhDH8mULV",
        "outputId": "2ed40725-536e-4da9-e184-a52b6f69d8f5",
        "colab": {
          "base_uri": "https://localhost:8080/"
        }
      },
      "execution_count": null,
      "outputs": [
        {
          "output_type": "stream",
          "name": "stdout",
          "text": [
            "images_png.zip\tincipient  mature  no  overripe\n"
          ]
        }
      ]
    },
    {
      "cell_type": "code",
      "source": [
        "image_path = image_gray_jpg_path"
      ],
      "metadata": {
        "id": "6TJjlaN2s5Vf"
      },
      "execution_count": null,
      "outputs": []
    },
    {
      "cell_type": "code",
      "source": [
        "os.chdir(os.path.join(image_path, 'overripe'))\n",
        "with open('zero_centering.pkl', 'rb') as f:\n",
        "     overripe = pickle.load(f)\n",
        "     print('overripe : ', len(overripe))\n",
        "os.chdir(os.path.join(image_path, 'no'))\n",
        "with open('zero_centering.pkl', 'rb') as f:\n",
        "     no = pickle.load(f)\n",
        "     print('no : ', len(no))\n",
        "\n",
        "os.chdir(os.path.join(image_path, 'mature'))\n",
        "with open('zero_centering.pkl', 'rb') as f:\n",
        "     mature = pickle.load(f)\n",
        "     print('mature : ', len(mature))\n",
        "\n",
        "os.chdir(os.path.join(image_path, 'incipient'))\n",
        "with open('zero_centering.pkl', 'rb') as f:\n",
        "     incipient = pickle.load(f)\n",
        "     print('incipient : ', len(incipient))"
      ],
      "metadata": {
        "id": "u7tf-ZD3mrbn",
        "outputId": "1834cce7-2303-41a6-a3bd-472396d80fef",
        "colab": {
          "base_uri": "https://localhost:8080/"
        }
      },
      "execution_count": null,
      "outputs": [
        {
          "output_type": "stream",
          "name": "stdout",
          "text": [
            "overripe :  2000\n",
            "no :  2000\n",
            "mature :  2000\n",
            "incipient :  2000\n"
          ]
        }
      ]
    },
    {
      "cell_type": "markdown",
      "source": [
        "Dictionary to numpy array"
      ],
      "metadata": {
        "id": "0l30IlYkmu_e"
      }
    },
    {
      "cell_type": "code",
      "source": [
        "# overripe의 모든 사진에 대해 반복\n",
        "overripe_data_list = []\n",
        "\n",
        "for filename, data in overripe.items():\n",
        "    zero_centering_value = data.get('zero_centering')\n",
        "    overripe_data_list.append(np.array(zero_centering_value))\n",
        "\n",
        "# 리스트를 NumPy 배열로 변환\n",
        "overripe_data = np.array(overripe_data_list)\n",
        "\n",
        "# 확인을 위해 배열의 크기 출력\n",
        "print(\"overripe_data shape:\", overripe_data.shape)\n",
        "no_data_list = []\n",
        "\n",
        "for filename, data in no.items():\n",
        "    zero_centering_value = data.get('zero_centering')\n",
        "    no_data_list.append(np.array(zero_centering_value))\n",
        "\n",
        "# 리스트를 NumPy 배열로 변환\n",
        "no_data = np.array(no_data_list)\n",
        "\n",
        "# 확인을 위해 배열의 크기 출력\n",
        "print(\"no_data shape:\", no_data.shape)\n",
        "\n",
        "mature_data_list = []\n",
        "\n",
        "for filename, data in mature.items():\n",
        "    zero_centering_value = data.get('zero_centering')\n",
        "    mature_data_list.append(np.array(zero_centering_value))\n",
        "\n",
        "# 리스트를 NumPy 배열로 변환\n",
        "mature_data = np.array(mature_data_list)\n",
        "\n",
        "# 확인을 위해 배열의 크기 출력\n",
        "print(\"mature_data shape:\", mature_data.shape)\n",
        "\n",
        "incipient_data_list = []\n",
        "\n",
        "for filename, data in incipient.items():\n",
        "    zero_centering_value = data.get('zero_centering')\n",
        "    incipient_data_list.append(np.array(zero_centering_value))\n",
        "\n",
        "# 리스트를 NumPy 배열로 변환\n",
        "incipient_data = np.array(incipient_data_list)\n",
        "\n",
        "# 확인을 위해 배열의 크기 출력\n",
        "print(\"incipient_data shape:\", incipient_data.shape)"
      ],
      "metadata": {
        "id": "yvzCJ2YVmtyJ",
        "outputId": "77b26dbb-a6de-4ca4-e4ae-eb9935583ede",
        "colab": {
          "base_uri": "https://localhost:8080/"
        }
      },
      "execution_count": null,
      "outputs": [
        {
          "output_type": "stream",
          "name": "stdout",
          "text": [
            "overripe_data shape: (2000, 224, 224, 3)\n",
            "no_data shape: (2000, 224, 224, 3)\n",
            "mature_data shape: (2000, 224, 224, 3)\n",
            "incipient_data shape: (2000, 224, 224, 3)\n"
          ]
        }
      ]
    },
    {
      "cell_type": "code",
      "source": [
        "from tensorflow.keras.utils import to_categorical\n",
        "# 데이터를 train/validation/test로 나누기\n",
        "X = np.concatenate((overripe_data, no_data, mature_data, incipient_data), axis=0)\n",
        "y = np.concatenate((np.zeros(overripe_data.shape[0]), np.ones(no_data.shape[0]),\n",
        "                    2*np.ones(mature_data.shape[0]), 3*np.ones(incipient_data.shape[0])))\n",
        "\n",
        "X_train, X_temp, y_train, y_temp = train_test_split(X, y, test_size=0.3, random_state=42)\n",
        "X_val, X_test, y_val, y_test = train_test_split(X_temp, y_temp, test_size=0.5, random_state=42)\n",
        "\n",
        "print(X_train.shape)\n",
        "print(X_val.shape)\n",
        "print(X_test.shape)\n",
        "\n",
        "y_train_one_hot = to_categorical(y_train)\n",
        "y_val_one_hot = to_categorical(y_val)\n",
        "y_test_one_hot = to_categorical(y_test)"
      ],
      "metadata": {
        "id": "4SIiht2wmzfr",
        "outputId": "4b91137b-578d-410a-844f-b73cbce587ee",
        "colab": {
          "base_uri": "https://localhost:8080/"
        }
      },
      "execution_count": null,
      "outputs": [
        {
          "output_type": "stream",
          "name": "stdout",
          "text": [
            "(5600, 224, 224, 3)\n",
            "(1200, 224, 224, 3)\n",
            "(1200, 224, 224, 3)\n"
          ]
        }
      ]
    },
    {
      "cell_type": "code",
      "source": [
        "del overripe, no, mature, incipient\n",
        "del overripe_data, no_data, mature_data, incipient_data\n",
        "del overripe_data_list, no_data_list, mature_data_list, incipient_data_list\n",
        "del X, y\n",
        "del y_train, y_temp, y_val, y_test"
      ],
      "metadata": {
        "id": "BWIOCEu-o3CW"
      },
      "execution_count": null,
      "outputs": []
    },
    {
      "cell_type": "code",
      "source": [
        "!pip install optuna"
      ],
      "metadata": {
        "id": "CApiq8v7sI3h",
        "outputId": "ebee644b-7fbd-4a9c-b696-9bd07df9ecb1",
        "colab": {
          "base_uri": "https://localhost:8080/"
        }
      },
      "execution_count": null,
      "outputs": [
        {
          "output_type": "stream",
          "name": "stdout",
          "text": [
            "Collecting optuna\n",
            "  Downloading optuna-3.6.1-py3-none-any.whl (380 kB)\n",
            "\u001b[2K     \u001b[90m━━━━━━━━━━━━━━━━━━━━━━━━━━━━━━━━━━━━━━━━\u001b[0m \u001b[32m380.1/380.1 kB\u001b[0m \u001b[31m7.7 MB/s\u001b[0m eta \u001b[36m0:00:00\u001b[0m\n",
            "\u001b[?25hCollecting alembic>=1.5.0 (from optuna)\n",
            "  Downloading alembic-1.13.1-py3-none-any.whl (233 kB)\n",
            "\u001b[2K     \u001b[90m━━━━━━━━━━━━━━━━━━━━━━━━━━━━━━━━━━━━━━━━\u001b[0m \u001b[32m233.4/233.4 kB\u001b[0m \u001b[31m12.5 MB/s\u001b[0m eta \u001b[36m0:00:00\u001b[0m\n",
            "\u001b[?25hCollecting colorlog (from optuna)\n",
            "  Downloading colorlog-6.8.2-py3-none-any.whl (11 kB)\n",
            "Requirement already satisfied: numpy in /usr/local/lib/python3.10/dist-packages (from optuna) (1.25.2)\n",
            "Requirement already satisfied: packaging>=20.0 in /usr/local/lib/python3.10/dist-packages (from optuna) (24.0)\n",
            "Requirement already satisfied: sqlalchemy>=1.3.0 in /usr/local/lib/python3.10/dist-packages (from optuna) (2.0.30)\n",
            "Requirement already satisfied: tqdm in /usr/local/lib/python3.10/dist-packages (from optuna) (4.66.4)\n",
            "Requirement already satisfied: PyYAML in /usr/local/lib/python3.10/dist-packages (from optuna) (6.0.1)\n",
            "Collecting Mako (from alembic>=1.5.0->optuna)\n",
            "  Downloading Mako-1.3.3-py3-none-any.whl (78 kB)\n",
            "\u001b[2K     \u001b[90m━━━━━━━━━━━━━━━━━━━━━━━━━━━━━━━━━━━━━━━━\u001b[0m \u001b[32m78.8/78.8 kB\u001b[0m \u001b[31m10.2 MB/s\u001b[0m eta \u001b[36m0:00:00\u001b[0m\n",
            "\u001b[?25hRequirement already satisfied: typing-extensions>=4 in /usr/local/lib/python3.10/dist-packages (from alembic>=1.5.0->optuna) (4.11.0)\n",
            "Requirement already satisfied: greenlet!=0.4.17 in /usr/local/lib/python3.10/dist-packages (from sqlalchemy>=1.3.0->optuna) (3.0.3)\n",
            "Requirement already satisfied: MarkupSafe>=0.9.2 in /usr/local/lib/python3.10/dist-packages (from Mako->alembic>=1.5.0->optuna) (2.1.5)\n",
            "Installing collected packages: Mako, colorlog, alembic, optuna\n",
            "Successfully installed Mako-1.3.3 alembic-1.13.1 colorlog-6.8.2 optuna-3.6.1\n"
          ]
        }
      ]
    },
    {
      "cell_type": "code",
      "source": [
        "import optuna\n",
        "from optuna.visualization import plot_optimization_history"
      ],
      "metadata": {
        "id": "SpPKIGNrsFoc"
      },
      "execution_count": null,
      "outputs": []
    },
    {
      "cell_type": "code",
      "source": [
        "\n",
        "def objective(trial, X_train, y_train, X_val, y_val):\n",
        "    # Define parameters to be tuned\n",
        "    # 여기서 lr, epochs, batch_size가 하이퍼파라미터튜닝 대상입니다.\n",
        "    lr = trial.suggest_loguniform('lr', 1e-5, 1e-3)  # Learning rate\n",
        "    epochs = 10\n",
        "    batch_size = trial.suggest_categorical('batch_size', [16, 32, 64])  # Batch size\n",
        "\n",
        "    # ResNet50 모델 생성\n",
        "    base_model = ResNet50(weights='imagenet', include_top=False)\n",
        "\n",
        "    x = base_model.output\n",
        "    x = GlobalAveragePooling2D()(x)\n",
        "    predictions = Dense(len(labels), activation='softmax')(x)\n",
        "\n",
        "    model = Model(inputs=base_model.input, outputs=predictions)\n",
        "\n",
        "    # 미세 조정 (Fine-tuning) 설정\n",
        "    for layer in base_model.layers:\n",
        "        layer.trainable = False\n",
        "\n",
        "    model.compile(optimizer=Adam(lr=0.001), loss='categorical_crossentropy', metrics=['accuracy'])\n",
        "\n",
        "    # Train the model\n",
        "    history = model.fit(X_train, y_train, validation_data=(X_val, y_val), epochs=epochs, batch_size=batch_size)\n",
        "\n",
        "    # Evaluate the model\n",
        "    val_loss = history.history['val_loss'][-1]\n",
        "    return val_loss"
      ],
      "metadata": {
        "id": "BKkIMfAbsPgY"
      },
      "execution_count": null,
      "outputs": []
    },
    {
      "cell_type": "code",
      "source": [
        "# Run Optuna optimization\n",
        "study = optuna.create_study(direction='minimize')\n",
        "study.optimize(lambda trial: objective(trial, X_train, y_train_one_hot, X_val, y_val_one_hot), n_trials=5)\n",
        "\n",
        "# Get the best parameters\n",
        "best_params = study.best_params\n",
        "print(\"Best parameters:\", best_params)"
      ],
      "metadata": {
        "id": "m2HX7BD2smhz",
        "outputId": "c91c6c61-d57d-428b-cbb6-05ae3c29f10d",
        "colab": {
          "base_uri": "https://localhost:8080/"
        }
      },
      "execution_count": null,
      "outputs": [
        {
          "output_type": "stream",
          "name": "stderr",
          "text": [
            "[I 2024-05-13 16:04:38,857] A new study created in memory with name: no-name-c12e7570-6efc-45b3-99f2-60f3b84c14bf\n",
            "<ipython-input-16-7d5ffbb05915>:4: FutureWarning: suggest_loguniform has been deprecated in v3.0.0. This feature will be removed in v6.0.0. See https://github.com/optuna/optuna/releases/tag/v3.0.0. Use suggest_float(..., log=True) instead.\n",
            "  lr = trial.suggest_loguniform('lr', 1e-5, 1e-3)  # Learning rate\n"
          ]
        },
        {
          "output_type": "stream",
          "name": "stdout",
          "text": [
            "Downloading data from https://storage.googleapis.com/tensorflow/keras-applications/resnet/resnet50_weights_tf_dim_ordering_tf_kernels_notop.h5\n",
            "94765736/94765736 [==============================] - 0s 0us/step\n"
          ]
        },
        {
          "output_type": "stream",
          "name": "stderr",
          "text": [
            "WARNING:absl:`lr` is deprecated in Keras optimizer, please use `learning_rate` or use the legacy optimizer, e.g.,tf.keras.optimizers.legacy.Adam.\n"
          ]
        },
        {
          "output_type": "stream",
          "name": "stdout",
          "text": [
            "Epoch 1/10\n",
            "350/350 [==============================] - 20s 38ms/step - loss: 1.3633 - accuracy: 0.3209 - val_loss: 1.3488 - val_accuracy: 0.3567\n",
            "Epoch 2/10\n",
            "350/350 [==============================] - 11s 31ms/step - loss: 1.2842 - accuracy: 0.3941 - val_loss: 1.2666 - val_accuracy: 0.3767\n",
            "Epoch 3/10\n",
            "350/350 [==============================] - 11s 31ms/step - loss: 1.2544 - accuracy: 0.4032 - val_loss: 1.2270 - val_accuracy: 0.4183\n",
            "Epoch 4/10\n",
            "350/350 [==============================] - 11s 32ms/step - loss: 1.2290 - accuracy: 0.4136 - val_loss: 1.2255 - val_accuracy: 0.4133\n",
            "Epoch 5/10\n",
            "350/350 [==============================] - 11s 31ms/step - loss: 1.2022 - accuracy: 0.4305 - val_loss: 1.1834 - val_accuracy: 0.4350\n",
            "Epoch 6/10\n",
            "350/350 [==============================] - 11s 31ms/step - loss: 1.1936 - accuracy: 0.4400 - val_loss: 1.1940 - val_accuracy: 0.4250\n",
            "Epoch 7/10\n",
            "350/350 [==============================] - 11s 31ms/step - loss: 1.1703 - accuracy: 0.4598 - val_loss: 1.1800 - val_accuracy: 0.4300\n",
            "Epoch 8/10\n",
            "350/350 [==============================] - 11s 31ms/step - loss: 1.1620 - accuracy: 0.4514 - val_loss: 1.1398 - val_accuracy: 0.4742\n",
            "Epoch 9/10\n",
            "350/350 [==============================] - 11s 31ms/step - loss: 1.1440 - accuracy: 0.4688 - val_loss: 1.1445 - val_accuracy: 0.4550\n",
            "Epoch 10/10\n",
            "350/350 [==============================] - 11s 32ms/step - loss: 1.1356 - accuracy: 0.4723 - val_loss: 1.1970 - val_accuracy: 0.4083\n"
          ]
        },
        {
          "output_type": "stream",
          "name": "stderr",
          "text": [
            "[I 2024-05-13 16:06:46,362] Trial 0 finished with value: 1.197036862373352 and parameters: {'lr': 0.0008840210975508395, 'batch_size': 16}. Best is trial 0 with value: 1.197036862373352.\n",
            "WARNING:absl:`lr` is deprecated in Keras optimizer, please use `learning_rate` or use the legacy optimizer, e.g.,tf.keras.optimizers.legacy.Adam.\n"
          ]
        },
        {
          "output_type": "stream",
          "name": "stdout",
          "text": [
            "Epoch 1/10\n",
            "88/88 [==============================] - 21s 181ms/step - loss: 1.3914 - accuracy: 0.2925 - val_loss: 1.3564 - val_accuracy: 0.2592\n",
            "Epoch 2/10\n",
            "88/88 [==============================] - 11s 129ms/step - loss: 1.3367 - accuracy: 0.3529 - val_loss: 1.3115 - val_accuracy: 0.3625\n",
            "Epoch 3/10\n",
            "88/88 [==============================] - 11s 129ms/step - loss: 1.3044 - accuracy: 0.3809 - val_loss: 1.2872 - val_accuracy: 0.3900\n",
            "Epoch 4/10\n",
            "88/88 [==============================] - 11s 129ms/step - loss: 1.2854 - accuracy: 0.3916 - val_loss: 1.2917 - val_accuracy: 0.3900\n",
            "Epoch 5/10\n",
            "88/88 [==============================] - 11s 128ms/step - loss: 1.2624 - accuracy: 0.4000 - val_loss: 1.2606 - val_accuracy: 0.4083\n",
            "Epoch 6/10\n",
            "88/88 [==============================] - 11s 128ms/step - loss: 1.2478 - accuracy: 0.4168 - val_loss: 1.2351 - val_accuracy: 0.3908\n",
            "Epoch 7/10\n",
            "88/88 [==============================] - 11s 128ms/step - loss: 1.2393 - accuracy: 0.4161 - val_loss: 1.2290 - val_accuracy: 0.4208\n",
            "Epoch 8/10\n",
            "88/88 [==============================] - 11s 128ms/step - loss: 1.2259 - accuracy: 0.4239 - val_loss: 1.2213 - val_accuracy: 0.4233\n",
            "Epoch 9/10\n",
            "88/88 [==============================] - 11s 127ms/step - loss: 1.2124 - accuracy: 0.4348 - val_loss: 1.2116 - val_accuracy: 0.4308\n",
            "Epoch 10/10\n",
            "88/88 [==============================] - 11s 128ms/step - loss: 1.2065 - accuracy: 0.4302 - val_loss: 1.1901 - val_accuracy: 0.4492\n"
          ]
        },
        {
          "output_type": "stream",
          "name": "stderr",
          "text": [
            "[I 2024-05-13 16:08:56,287] Trial 1 finished with value: 1.190119981765747 and parameters: {'lr': 0.0003375583691971872, 'batch_size': 64}. Best is trial 1 with value: 1.190119981765747.\n",
            "WARNING:absl:`lr` is deprecated in Keras optimizer, please use `learning_rate` or use the legacy optimizer, e.g.,tf.keras.optimizers.legacy.Adam.\n"
          ]
        },
        {
          "output_type": "stream",
          "name": "stdout",
          "text": [
            "Epoch 1/10\n",
            "175/175 [==============================] - 16s 74ms/step - loss: 1.3745 - accuracy: 0.3334 - val_loss: 1.3192 - val_accuracy: 0.3842\n",
            "Epoch 2/10\n",
            "175/175 [==============================] - 11s 63ms/step - loss: 1.3123 - accuracy: 0.3657 - val_loss: 1.2793 - val_accuracy: 0.4117\n",
            "Epoch 3/10\n",
            "175/175 [==============================] - 11s 62ms/step - loss: 1.2750 - accuracy: 0.4011 - val_loss: 1.2545 - val_accuracy: 0.4017\n",
            "Epoch 4/10\n",
            "175/175 [==============================] - 11s 63ms/step - loss: 1.2529 - accuracy: 0.4093 - val_loss: 1.2382 - val_accuracy: 0.3883\n",
            "Epoch 5/10\n",
            "175/175 [==============================] - 11s 63ms/step - loss: 1.2340 - accuracy: 0.4211 - val_loss: 1.2314 - val_accuracy: 0.3917\n",
            "Epoch 6/10\n",
            "175/175 [==============================] - 11s 63ms/step - loss: 1.2161 - accuracy: 0.4275 - val_loss: 1.2224 - val_accuracy: 0.4092\n",
            "Epoch 7/10\n",
            "175/175 [==============================] - 11s 62ms/step - loss: 1.2058 - accuracy: 0.4384 - val_loss: 1.1835 - val_accuracy: 0.4575\n",
            "Epoch 8/10\n",
            "175/175 [==============================] - 11s 62ms/step - loss: 1.1888 - accuracy: 0.4418 - val_loss: 1.1905 - val_accuracy: 0.4183\n",
            "Epoch 9/10\n",
            "175/175 [==============================] - 11s 62ms/step - loss: 1.1812 - accuracy: 0.4529 - val_loss: 1.1674 - val_accuracy: 0.4400\n",
            "Epoch 10/10\n",
            "175/175 [==============================] - 11s 63ms/step - loss: 1.1633 - accuracy: 0.4629 - val_loss: 1.1678 - val_accuracy: 0.4425\n"
          ]
        },
        {
          "output_type": "stream",
          "name": "stderr",
          "text": [
            "[I 2024-05-13 16:10:57,616] Trial 2 finished with value: 1.1677687168121338 and parameters: {'lr': 0.0007831265660152335, 'batch_size': 32}. Best is trial 2 with value: 1.1677687168121338.\n",
            "WARNING:absl:`lr` is deprecated in Keras optimizer, please use `learning_rate` or use the legacy optimizer, e.g.,tf.keras.optimizers.legacy.Adam.\n"
          ]
        },
        {
          "output_type": "stream",
          "name": "stdout",
          "text": [
            "Epoch 1/10\n",
            "175/175 [==============================] - 16s 73ms/step - loss: 1.3582 - accuracy: 0.3177 - val_loss: 1.3168 - val_accuracy: 0.3817\n",
            "Epoch 2/10\n",
            "175/175 [==============================] - 11s 63ms/step - loss: 1.3018 - accuracy: 0.3850 - val_loss: 1.2928 - val_accuracy: 0.3583\n",
            "Epoch 3/10\n",
            "175/175 [==============================] - 11s 63ms/step - loss: 1.2655 - accuracy: 0.4080 - val_loss: 1.3059 - val_accuracy: 0.3042\n",
            "Epoch 4/10\n",
            "175/175 [==============================] - 11s 63ms/step - loss: 1.2455 - accuracy: 0.4204 - val_loss: 1.2250 - val_accuracy: 0.4258\n",
            "Epoch 5/10\n",
            "175/175 [==============================] - 11s 62ms/step - loss: 1.2261 - accuracy: 0.4161 - val_loss: 1.2245 - val_accuracy: 0.4025\n",
            "Epoch 6/10\n",
            "175/175 [==============================] - 11s 63ms/step - loss: 1.2133 - accuracy: 0.4355 - val_loss: 1.1957 - val_accuracy: 0.4308\n",
            "Epoch 7/10\n",
            "175/175 [==============================] - 11s 63ms/step - loss: 1.2007 - accuracy: 0.4398 - val_loss: 1.2842 - val_accuracy: 0.4250\n",
            "Epoch 8/10\n",
            "175/175 [==============================] - 11s 63ms/step - loss: 1.1886 - accuracy: 0.4443 - val_loss: 1.1744 - val_accuracy: 0.4392\n",
            "Epoch 9/10\n",
            "175/175 [==============================] - 11s 63ms/step - loss: 1.1787 - accuracy: 0.4455 - val_loss: 1.1874 - val_accuracy: 0.4242\n",
            "Epoch 10/10\n",
            "175/175 [==============================] - 11s 63ms/step - loss: 1.1668 - accuracy: 0.4486 - val_loss: 1.1470 - val_accuracy: 0.4717\n"
          ]
        },
        {
          "output_type": "stream",
          "name": "stderr",
          "text": [
            "[I 2024-05-13 16:12:58,873] Trial 3 finished with value: 1.1470320224761963 and parameters: {'lr': 0.00011505750532476763, 'batch_size': 32}. Best is trial 3 with value: 1.1470320224761963.\n",
            "WARNING:absl:`lr` is deprecated in Keras optimizer, please use `learning_rate` or use the legacy optimizer, e.g.,tf.keras.optimizers.legacy.Adam.\n"
          ]
        },
        {
          "output_type": "stream",
          "name": "stdout",
          "text": [
            "Epoch 1/10\n",
            "175/175 [==============================] - 16s 74ms/step - loss: 1.3576 - accuracy: 0.3261 - val_loss: 1.3143 - val_accuracy: 0.3908\n",
            "Epoch 2/10\n",
            "175/175 [==============================] - 11s 63ms/step - loss: 1.3011 - accuracy: 0.3804 - val_loss: 1.2842 - val_accuracy: 0.3867\n",
            "Epoch 3/10\n",
            "175/175 [==============================] - 11s 63ms/step - loss: 1.2710 - accuracy: 0.3945 - val_loss: 1.2410 - val_accuracy: 0.4225\n",
            "Epoch 4/10\n",
            "175/175 [==============================] - 11s 63ms/step - loss: 1.2430 - accuracy: 0.4182 - val_loss: 1.2245 - val_accuracy: 0.3942\n",
            "Epoch 5/10\n",
            "175/175 [==============================] - 11s 63ms/step - loss: 1.2335 - accuracy: 0.4187 - val_loss: 1.2277 - val_accuracy: 0.4025\n",
            "Epoch 6/10\n",
            "175/175 [==============================] - 11s 63ms/step - loss: 1.2146 - accuracy: 0.4291 - val_loss: 1.2099 - val_accuracy: 0.4300\n",
            "Epoch 7/10\n",
            "175/175 [==============================] - 11s 63ms/step - loss: 1.1990 - accuracy: 0.4380 - val_loss: 1.1841 - val_accuracy: 0.4342\n",
            "Epoch 8/10\n",
            "175/175 [==============================] - 11s 63ms/step - loss: 1.1813 - accuracy: 0.4521 - val_loss: 1.2076 - val_accuracy: 0.4100\n",
            "Epoch 9/10\n",
            "175/175 [==============================] - 11s 63ms/step - loss: 1.1733 - accuracy: 0.4530 - val_loss: 1.1539 - val_accuracy: 0.4733\n",
            "Epoch 10/10\n",
            "175/175 [==============================] - 11s 63ms/step - loss: 1.1623 - accuracy: 0.4554 - val_loss: 1.1887 - val_accuracy: 0.4375\n"
          ]
        },
        {
          "output_type": "stream",
          "name": "stderr",
          "text": [
            "[I 2024-05-13 16:15:01,348] Trial 4 finished with value: 1.1886732578277588 and parameters: {'lr': 6.938559181409881e-05, 'batch_size': 32}. Best is trial 3 with value: 1.1470320224761963.\n"
          ]
        },
        {
          "output_type": "stream",
          "name": "stdout",
          "text": [
            "Best parameters: {'lr': 0.00011505750532476763, 'batch_size': 32}\n"
          ]
        }
      ]
    },
    {
      "cell_type": "markdown",
      "source": [],
      "metadata": {
        "id": "bhzU0ZU6o2r2"
      }
    },
    {
      "cell_type": "markdown",
      "source": [
        "## ResNet50 학습"
      ],
      "metadata": {
        "id": "INHHDnc_HVFK"
      }
    },
    {
      "cell_type": "code",
      "source": [
        "import os\n",
        "import numpy as np\n",
        "from sklearn.model_selection import train_test_split\n",
        "from tensorflow.keras.applications import ResNet50\n",
        "from tensorflow.keras.layers import Dense, GlobalAveragePooling2D\n",
        "from tensorflow.keras.models import Model\n",
        "from tensorflow.keras.optimizers import Adam\n",
        "from tensorflow.keras.callbacks import EarlyStopping\n",
        "from tensorflow.keras.utils import to_categorical\n",
        "\n",
        "\n",
        "# ResNet50 모델 생성\n",
        "base_model = ResNet50(weights='imagenet', include_top=False)\n",
        "\n",
        "x = base_model.output\n",
        "x = GlobalAveragePooling2D()(x)\n",
        "predictions = Dense(len(labels), activation='softmax')(x)\n",
        "\n",
        "model = Model(inputs=base_model.input, outputs=predictions)\n",
        "\n",
        "# 미세 조정 (Fine-tuning) 설정\n",
        "for layer in base_model.layers:\n",
        "    layer.trainable = False\n",
        "\n",
        "model.compile(optimizer=Adam(lr=study.best_params['lr']), loss='categorical_crossentropy', metrics=['accuracy'])\n",
        "\n",
        "# early stopping 설정\n",
        "early_stopping = EarlyStopping(monitor='val_loss', patience=3, restore_best_weights=True)\n",
        "\n",
        "# 모델 학습\n",
        "history = model.fit(\n",
        "    X_train,\n",
        "    y_train_one_hot,\n",
        "    epochs=50,\n",
        "    batch_size=32,\n",
        "    validation_data=(X_val, y_val_one_hot),\n",
        "    callbacks=[early_stopping]\n",
        ")\n",
        "\n",
        "# 시각화를 통한 정확도 및 손실도 확인\n",
        "import matplotlib.pyplot as plt\n",
        "\n",
        "plt.plot(history.history['accuracy'], label='accuracy')\n",
        "plt.plot(history.history['val_accuracy'], label='val_accuracy')\n",
        "plt.xlabel('Epoch')\n",
        "plt.ylabel('Accuracy')\n",
        "plt.legend()\n",
        "plt.show()\n",
        "\n",
        "plt.plot(history.history['loss'], label='loss')\n",
        "plt.plot(history.history['val_loss'], label='val_loss')\n",
        "plt.xlabel('Epoch')\n",
        "plt.ylabel('Loss')\n",
        "plt.legend()\n",
        "plt.show()\n",
        "\n",
        "# 모델 평가\n",
        "test_loss, test_acc = model.evaluate(X_test, y_test_one_hot)\n",
        "print('Test accuracy:', test_acc)\n"
      ],
      "metadata": {
        "id": "4q1PgjwmHSml"
      },
      "execution_count": null,
      "outputs": []
    },
    {
      "cell_type": "code",
      "source": [
        "!pip install lime"
      ],
      "metadata": {
        "id": "fbKPT9OfNYgi"
      },
      "execution_count": null,
      "outputs": []
    },
    {
      "cell_type": "code",
      "source": [
        "from PIL import Image\n",
        "import numpy as np\n",
        "from skimage.segmentation import mark_boundaries\n",
        "from lime import lime_image\n",
        "\n",
        "# LIME 설명 인스턴스 생성\n",
        "explainer = lime_image.LimeImageExplainer()\n",
        "\n",
        "# LIME이 필요한 이미지 하나 불러오기\n",
        "image = incipient_data[0]\n",
        "\n",
        "# LIME 설명 생성\n",
        "explanation = explainer.explain_instance(image, model.predict, top_labels=1, hide_color=0, num_samples=1000)\n",
        "\n",
        "# 설명된 이미지와 설명에 대한 마스크 가져오기\n",
        "temp, mask = explanation.get_image_and_mask(explanation.top_labels[0], positive_only=False, num_features=5, hide_rest=False)\n",
        "\n",
        "# 설명된 이미지와 마스크를 원본 이미지에 적용\n",
        "marked_image = mark_boundaries(temp / 2 + 0.5, mask)\n",
        "\n",
        "# 이미지 출력\n",
        "plt.imshow(marked_image)\n",
        "plt.axis('off')\n",
        "plt.show()\n"
      ],
      "metadata": {
        "id": "sxmldkXjNc-t"
      },
      "execution_count": null,
      "outputs": []
    }
  ]
}
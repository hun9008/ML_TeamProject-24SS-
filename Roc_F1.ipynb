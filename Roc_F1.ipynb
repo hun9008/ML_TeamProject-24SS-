{
  "cells": [
    {
      "cell_type": "markdown",
      "metadata": {
        "id": "view-in-github",
        "colab_type": "text"
      },
      "source": [
        "<a href=\"https://colab.research.google.com/github/hun9008/ML_TeamProject_24SS/blob/main/Roc_F1.ipynb\" target=\"_parent\"><img src=\"https://colab.research.google.com/assets/colab-badge.svg\" alt=\"Open In Colab\"/></a>"
      ]
    },
    {
      "cell_type": "code",
      "execution_count": 1,
      "metadata": {
        "colab": {
          "base_uri": "https://localhost:8080/"
        },
        "id": "MaQi2LTwPNco",
        "outputId": "b469d5f7-0192-49f3-c137-bc9bd9d2e1aa"
      },
      "outputs": [
        {
          "output_type": "stream",
          "name": "stdout",
          "text": [
            "Mounted at /content/drive\n"
          ]
        }
      ],
      "source": [
        "from google.colab import drive\n",
        "drive.mount('/content/drive')"
      ]
    },
    {
      "cell_type": "code",
      "execution_count": 2,
      "metadata": {
        "colab": {
          "base_uri": "https://localhost:8080/"
        },
        "id": "_O_T_aU6PdD1",
        "outputId": "483e7db4-ef3e-48d5-97a3-8a5794d03017"
      },
      "outputs": [
        {
          "output_type": "stream",
          "name": "stdout",
          "text": [
            "/content/drive/.shortcut-targets-by-id/1G6SgIRKCYt5sUkkaCAiAmdP0_hZA-rFs/data\n"
          ]
        }
      ],
      "source": [
        "cd /content/drive/MyDrive/data/"
      ]
    },
    {
      "cell_type": "code",
      "execution_count": 3,
      "metadata": {
        "colab": {
          "base_uri": "https://localhost:8080/"
        },
        "id": "_3zfoxPtPjlS",
        "outputId": "9df5f2b5-0ee6-4820-b653-dc868ee9f284"
      },
      "outputs": [
        {
          "output_type": "stream",
          "name": "stdout",
          "text": [
            "\u001b[0m\u001b[01;34mblurr_cut_png\u001b[0m/   \u001b[01;34mFinal_data\u001b[0m/  \u001b[01;34mimages_cut2_png\u001b[0m/  \u001b[01;34mimages_jpg\u001b[0m/  \u001b[01;34mincipient\u001b[0m/  \u001b[01;34mno\u001b[0m/\n",
            "\u001b[01;34mcut_resize_png\u001b[0m/  \u001b[01;34mfirst_data\u001b[0m/  \u001b[01;34mimages_gray_jpg\u001b[0m/  \u001b[01;34mimages_png\u001b[0m/  \u001b[01;34mmature\u001b[0m/     \u001b[01;34moverripe\u001b[0m/\n"
          ]
        }
      ],
      "source": [
        "ls"
      ]
    },
    {
      "cell_type": "code",
      "execution_count": 4,
      "metadata": {
        "colab": {
          "base_uri": "https://localhost:8080/"
        },
        "id": "6tMTJprqafPP",
        "outputId": "aa38a966-27f3-40b6-d757-4e54585d05bc"
      },
      "outputs": [
        {
          "output_type": "stream",
          "name": "stdout",
          "text": [
            "Collecting optuna\n",
            "  Downloading optuna-3.6.1-py3-none-any.whl (380 kB)\n",
            "\u001b[2K     \u001b[90m━━━━━━━━━━━━━━━━━━━━━━━━━━━━━━━━━━━━━━━━\u001b[0m \u001b[32m380.1/380.1 kB\u001b[0m \u001b[31m2.2 MB/s\u001b[0m eta \u001b[36m0:00:00\u001b[0m\n",
            "\u001b[?25hCollecting alembic>=1.5.0 (from optuna)\n",
            "  Downloading alembic-1.13.1-py3-none-any.whl (233 kB)\n",
            "\u001b[2K     \u001b[90m━━━━━━━━━━━━━━━━━━━━━━━━━━━━━━━━━━━━━━━━\u001b[0m \u001b[32m233.4/233.4 kB\u001b[0m \u001b[31m16.3 MB/s\u001b[0m eta \u001b[36m0:00:00\u001b[0m\n",
            "\u001b[?25hCollecting colorlog (from optuna)\n",
            "  Downloading colorlog-6.8.2-py3-none-any.whl (11 kB)\n",
            "Requirement already satisfied: numpy in /usr/local/lib/python3.10/dist-packages (from optuna) (1.25.2)\n",
            "Requirement already satisfied: packaging>=20.0 in /usr/local/lib/python3.10/dist-packages (from optuna) (24.0)\n",
            "Requirement already satisfied: sqlalchemy>=1.3.0 in /usr/local/lib/python3.10/dist-packages (from optuna) (2.0.30)\n",
            "Requirement already satisfied: tqdm in /usr/local/lib/python3.10/dist-packages (from optuna) (4.66.4)\n",
            "Requirement already satisfied: PyYAML in /usr/local/lib/python3.10/dist-packages (from optuna) (6.0.1)\n",
            "Collecting Mako (from alembic>=1.5.0->optuna)\n",
            "  Downloading Mako-1.3.5-py3-none-any.whl (78 kB)\n",
            "\u001b[2K     \u001b[90m━━━━━━━━━━━━━━━━━━━━━━━━━━━━━━━━━━━━━━━━\u001b[0m \u001b[32m78.6/78.6 kB\u001b[0m \u001b[31m10.5 MB/s\u001b[0m eta \u001b[36m0:00:00\u001b[0m\n",
            "\u001b[?25hRequirement already satisfied: typing-extensions>=4 in /usr/local/lib/python3.10/dist-packages (from alembic>=1.5.0->optuna) (4.11.0)\n",
            "Requirement already satisfied: greenlet!=0.4.17 in /usr/local/lib/python3.10/dist-packages (from sqlalchemy>=1.3.0->optuna) (3.0.3)\n",
            "Requirement already satisfied: MarkupSafe>=0.9.2 in /usr/local/lib/python3.10/dist-packages (from Mako->alembic>=1.5.0->optuna) (2.1.5)\n",
            "Installing collected packages: Mako, colorlog, alembic, optuna\n",
            "Successfully installed Mako-1.3.5 alembic-1.13.1 colorlog-6.8.2 optuna-3.6.1\n"
          ]
        }
      ],
      "source": [
        "pip install optuna"
      ]
    },
    {
      "cell_type": "code",
      "execution_count": 5,
      "metadata": {
        "colab": {
          "base_uri": "https://localhost:8080/"
        },
        "id": "jEDGN4ACa6Lb",
        "outputId": "d9a8cd00-1606-4444-fc72-cba970a1a69b"
      },
      "outputs": [
        {
          "output_type": "stream",
          "name": "stdout",
          "text": [
            "Collecting tensorflow-addons\n",
            "  Downloading tensorflow_addons-0.23.0-cp310-cp310-manylinux_2_17_x86_64.manylinux2014_x86_64.whl (611 kB)\n",
            "\u001b[2K     \u001b[90m━━━━━━━━━━━━━━━━━━━━━━━━━━━━━━━━━━━━━━━━\u001b[0m \u001b[32m611.8/611.8 kB\u001b[0m \u001b[31m4.0 MB/s\u001b[0m eta \u001b[36m0:00:00\u001b[0m\n",
            "\u001b[?25hRequirement already satisfied: packaging in /usr/local/lib/python3.10/dist-packages (from tensorflow-addons) (24.0)\n",
            "Collecting typeguard<3.0.0,>=2.7 (from tensorflow-addons)\n",
            "  Downloading typeguard-2.13.3-py3-none-any.whl (17 kB)\n",
            "Installing collected packages: typeguard, tensorflow-addons\n",
            "Successfully installed tensorflow-addons-0.23.0 typeguard-2.13.3\n"
          ]
        }
      ],
      "source": [
        "pip install tensorflow-addons"
      ]
    },
    {
      "cell_type": "code",
      "execution_count": 6,
      "metadata": {
        "colab": {
          "base_uri": "https://localhost:8080/"
        },
        "id": "BjiyV8lUbFwo",
        "outputId": "c2e6f155-9401-4ca5-b29f-529d504c9a02"
      },
      "outputs": [
        {
          "output_type": "stream",
          "name": "stdout",
          "text": [
            "Collecting vit-keras\n",
            "  Downloading vit_keras-0.1.2-py3-none-any.whl (24 kB)\n",
            "Requirement already satisfied: scipy in /usr/local/lib/python3.10/dist-packages (from vit-keras) (1.11.4)\n",
            "Collecting validators (from vit-keras)\n",
            "  Downloading validators-0.28.3-py3-none-any.whl (40 kB)\n",
            "\u001b[2K     \u001b[90m━━━━━━━━━━━━━━━━━━━━━━━━━━━━━━━━━━━━━━━━\u001b[0m \u001b[32m40.0/40.0 kB\u001b[0m \u001b[31m729.7 kB/s\u001b[0m eta \u001b[36m0:00:00\u001b[0m\n",
            "\u001b[?25hRequirement already satisfied: numpy<1.28.0,>=1.21.6 in /usr/local/lib/python3.10/dist-packages (from scipy->vit-keras) (1.25.2)\n",
            "Installing collected packages: validators, vit-keras\n",
            "Successfully installed validators-0.28.3 vit-keras-0.1.2\n"
          ]
        }
      ],
      "source": [
        "pip install vit-keras"
      ]
    },
    {
      "cell_type": "code",
      "execution_count": 7,
      "metadata": {
        "colab": {
          "base_uri": "https://localhost:8080/"
        },
        "id": "KE16NJ5TPlN_",
        "outputId": "450a4442-3ed1-42c9-e42f-0e7dd9d0388f"
      },
      "outputs": [
        {
          "output_type": "stream",
          "name": "stderr",
          "text": [
            "/usr/local/lib/python3.10/dist-packages/tensorflow_addons/utils/tfa_eol_msg.py:23: UserWarning: \n",
            "\n",
            "TensorFlow Addons (TFA) has ended development and introduction of new features.\n",
            "TFA has entered a minimal maintenance and release mode until a planned end of life in May 2024.\n",
            "Please modify downstream libraries to take dependencies from other repositories in our TensorFlow community (e.g. Keras, Keras-CV, and Keras-NLP). \n",
            "\n",
            "For more information see: https://github.com/tensorflow/addons/issues/2807 \n",
            "\n",
            "  warnings.warn(\n"
          ]
        },
        {
          "output_type": "stream",
          "name": "stdout",
          "text": [
            "1 Physical GPUs, 1 Logical GPUs\n"
          ]
        }
      ],
      "source": [
        "import tensorflow as tf\n",
        "import os\n",
        "import pickle\n",
        "import optuna\n",
        "import pandas as pd\n",
        "import numpy as np\n",
        "from tensorflow.keras.callbacks import EarlyStopping\n",
        "import matplotlib.pyplot as plt\n",
        "from optuna.visualization import plot_optimization_history\n",
        "from sklearn.model_selection import train_test_split\n",
        "from tensorflow.keras.applications import VGG16\n",
        "from tensorflow.keras.models import Sequential\n",
        "from tensorflow.keras.layers import Dense, Flatten, Conv2D, MaxPooling2D\n",
        "from tensorflow.keras.optimizers import Adam\n",
        "from tensorflow.keras.utils import to_categorical\n",
        "from sklearn.metrics import confusion_matrix, classification_report\n",
        "import tensorflow_addons as tfa\n",
        "from vit_keras import vit\n",
        "from vit_keras import visualize\n",
        "\n",
        "\n",
        "gpus = tf.config.experimental.list_physical_devices('GPU')\n",
        "if gpus:\n",
        "  try:\n",
        "    # Currently, memory growth needs to be the same across GPUs\n",
        "    for gpu in gpus:\n",
        "      tf.config.experimental.set_memory_growth(gpu, True)\n",
        "    logical_gpus = tf.config.experimental.list_logical_devices('GPU')\n",
        "    print(len(gpus), \"Physical GPUs,\", len(logical_gpus), \"Logical GPUs\")\n",
        "  except RuntimeError as e:\n",
        "    # Memory growth must be set before GPUs have been initialized\n",
        "    print(e)\n"
      ]
    },
    {
      "cell_type": "code",
      "execution_count": 8,
      "metadata": {
        "id": "34-qwn4kPr92"
      },
      "outputs": [],
      "source": [
        "images_final_data_path = '/content/drive/My Drive/data/Final_data/'"
      ]
    },
    {
      "cell_type": "code",
      "execution_count": 9,
      "metadata": {
        "id": "fJHViDgyXvON",
        "colab": {
          "base_uri": "https://localhost:8080/"
        },
        "outputId": "e64177b1-5480-4492-ac09-1764987b9f7e"
      },
      "outputs": [
        {
          "output_type": "stream",
          "name": "stdout",
          "text": [
            "grad_cam.jpg  incipient  mature  no  overripe\n"
          ]
        }
      ],
      "source": [
        "os.chdir(images_final_data_path)\n",
        "!ls"
      ]
    },
    {
      "cell_type": "code",
      "execution_count": 10,
      "metadata": {
        "id": "DVt1LWReYSTP"
      },
      "outputs": [],
      "source": [
        "image_path = images_final_data_path"
      ]
    },
    {
      "cell_type": "markdown",
      "metadata": {
        "id": "dNicedTHaWLX"
      },
      "source": [
        "Pickle load to variable"
      ]
    },
    {
      "cell_type": "code",
      "execution_count": 11,
      "metadata": {
        "colab": {
          "base_uri": "https://localhost:8080/"
        },
        "id": "Gxkl8HkPXz1y",
        "outputId": "b1c23b5c-5ff0-49c9-f11b-49a4dde2b48a"
      },
      "outputs": [
        {
          "output_type": "stream",
          "name": "stdout",
          "text": [
            "overripe :  2000\n",
            "no :  2000\n",
            "mature :  2000\n",
            "incipient :  2000\n"
          ]
        }
      ],
      "source": [
        "os.chdir(os.path.join(image_path, 'overripe'))\n",
        "with open('zero_centering.pkl', 'rb') as f:\n",
        "     overripe = pickle.load(f)\n",
        "     print('overripe : ', len(overripe))\n",
        "os.chdir(os.path.join(image_path, 'no'))\n",
        "with open('zero_centering.pkl', 'rb') as f:\n",
        "     no = pickle.load(f)\n",
        "     print('no : ', len(no))\n",
        "\n",
        "os.chdir(os.path.join(image_path, 'mature'))\n",
        "with open('zero_centering.pkl', 'rb') as f:\n",
        "     mature = pickle.load(f)\n",
        "     print('mature : ', len(mature))\n",
        "\n",
        "os.chdir(os.path.join(image_path, 'incipient'))\n",
        "with open('zero_centering.pkl', 'rb') as f:\n",
        "     incipient = pickle.load(f)\n",
        "     print('incipient : ', len(incipient))"
      ]
    },
    {
      "cell_type": "markdown",
      "metadata": {
        "id": "LIY8mkCtabv1"
      },
      "source": [
        "Dictionary to numpy array"
      ]
    },
    {
      "cell_type": "code",
      "execution_count": 12,
      "metadata": {
        "id": "yxMGqb3NYVh1",
        "colab": {
          "base_uri": "https://localhost:8080/"
        },
        "outputId": "32dd12d7-b5e7-4211-9552-0fad59deaa5a"
      },
      "outputs": [
        {
          "output_type": "stream",
          "name": "stdout",
          "text": [
            "overripe_data shape: (2000, 224, 224, 3)\n",
            "no_data shape: (2000, 224, 224, 3)\n",
            "mature_data shape: (2000, 224, 224, 3)\n",
            "incipient_data shape: (2000, 224, 224, 3)\n"
          ]
        }
      ],
      "source": [
        "# overripe의 모든 사진에 대해 반복\n",
        "overripe_data_list = []\n",
        "\n",
        "for filename, data in overripe.items():\n",
        "    zero_centering_value = data.get('zero_centering')\n",
        "    overripe_data_list.append(np.array(zero_centering_value))\n",
        "\n",
        "# 리스트를 NumPy 배열로 변환\n",
        "overripe_data = np.array(overripe_data_list)\n",
        "\n",
        "# 확인을 위해 배열의 크기 출력\n",
        "print(\"overripe_data shape:\", overripe_data.shape)\n",
        "no_data_list = []\n",
        "\n",
        "for filename, data in no.items():\n",
        "    zero_centering_value = data.get('zero_centering')\n",
        "    no_data_list.append(np.array(zero_centering_value))\n",
        "\n",
        "# 리스트를 NumPy 배열로 변환\n",
        "no_data = np.array(no_data_list)\n",
        "\n",
        "# 확인을 위해 배열의 크기 출력\n",
        "print(\"no_data shape:\", no_data.shape)\n",
        "\n",
        "mature_data_list = []\n",
        "\n",
        "for filename, data in mature.items():\n",
        "    zero_centering_value = data.get('zero_centering')\n",
        "    mature_data_list.append(np.array(zero_centering_value))\n",
        "\n",
        "# 리스트를 NumPy 배열로 변환\n",
        "mature_data = np.array(mature_data_list)\n",
        "\n",
        "# 확인을 위해 배열의 크기 출력\n",
        "print(\"mature_data shape:\", mature_data.shape)\n",
        "\n",
        "incipient_data_list = []\n",
        "\n",
        "for filename, data in incipient.items():\n",
        "    zero_centering_value = data.get('zero_centering')\n",
        "    incipient_data_list.append(np.array(zero_centering_value))\n",
        "\n",
        "# 리스트를 NumPy 배열로 변환\n",
        "incipient_data = np.array(incipient_data_list)\n",
        "\n",
        "# 확인을 위해 배열의 크기 출력\n",
        "print(\"incipient_data shape:\", incipient_data.shape)"
      ]
    },
    {
      "cell_type": "markdown",
      "metadata": {
        "id": "6QXUwoi-akaH"
      },
      "source": [
        "Train Val Test split (0.75:0.15:0.15)"
      ]
    },
    {
      "cell_type": "code",
      "execution_count": 13,
      "metadata": {
        "colab": {
          "base_uri": "https://localhost:8080/"
        },
        "id": "bsXIqEfraDw-",
        "outputId": "845049ba-6926-4ab9-9237-c2fa94cdda76"
      },
      "outputs": [
        {
          "output_type": "stream",
          "name": "stdout",
          "text": [
            "(5600, 224, 224, 3)\n",
            "(1200, 224, 224, 3)\n",
            "(1200, 224, 224, 3)\n"
          ]
        }
      ],
      "source": [
        "# 데이터를 train/validation/test로 나누기\n",
        "X = np.concatenate((overripe_data, no_data, mature_data, incipient_data), axis=0)\n",
        "y = np.concatenate((np.zeros(overripe_data.shape[0]), np.ones(no_data.shape[0]),\n",
        "                    2*np.ones(mature_data.shape[0]), 3*np.ones(incipient_data.shape[0])))\n",
        "\n",
        "X_train, X_temp, y_train, y_temp = train_test_split(X, y, test_size=0.3, random_state=42)\n",
        "X_val, X_test, y_val, y_test = train_test_split(X_temp, y_temp, test_size=0.5, random_state=42)\n",
        "\n",
        "print(X_train.shape)\n",
        "print(X_val.shape)\n",
        "print(X_test.shape)"
      ]
    },
    {
      "cell_type": "markdown",
      "metadata": {
        "id": "fC5k-MspbVG3"
      },
      "source": [
        "y one-hot"
      ]
    },
    {
      "cell_type": "code",
      "execution_count": 14,
      "metadata": {
        "id": "MPyh4QsebQm_"
      },
      "outputs": [],
      "source": [
        "y_train_one_hot = to_categorical(y_train)\n",
        "y_val_one_hot = to_categorical(y_val)\n",
        "y_test_one_hot = to_categorical(y_test)"
      ]
    },
    {
      "cell_type": "markdown",
      "metadata": {
        "id": "lhdB7e9DckDT"
      },
      "source": [
        "Training & Test"
      ]
    },
    {
      "cell_type": "code",
      "execution_count": 15,
      "metadata": {
        "id": "pMC5meL0UMjy",
        "colab": {
          "base_uri": "https://localhost:8080/"
        },
        "outputId": "7e945e3d-e0b3-4d55-c723-57c028b66f9e"
      },
      "outputs": [
        {
          "output_type": "stream",
          "name": "stdout",
          "text": [
            "Downloading data from https://github.com/faustomorales/vit-keras/releases/download/dl/ViT-B_32_imagenet21k+imagenet2012.npz\n",
            "353253686/353253686 [==============================] - 1s 0us/step\n"
          ]
        },
        {
          "output_type": "stream",
          "name": "stderr",
          "text": [
            "/usr/local/lib/python3.10/dist-packages/vit_keras/utils.py:81: UserWarning: Resizing position embeddings from 12, 12 to 7, 7\n",
            "  warnings.warn(\n"
          ]
        }
      ],
      "source": [
        "vit_model = vit.vit_b32(\n",
        "        image_size = 224,\n",
        "        activation = 'softmax',\n",
        "        pretrained = True,\n",
        "        include_top = False,\n",
        "        pretrained_top = False,\n",
        "        classes = 4)"
      ]
    },
    {
      "cell_type": "code",
      "execution_count": 16,
      "metadata": {
        "id": "jYFoqkEeXQ1o",
        "colab": {
          "base_uri": "https://localhost:8080/"
        },
        "outputId": "c88d2207-872c-48a6-ed41-770253c57564"
      },
      "outputs": [
        {
          "output_type": "stream",
          "name": "stdout",
          "text": [
            "(5600, 224, 224, 3)\n",
            "(1200, 224, 224, 3)\n",
            "(1200, 224, 224, 3)\n"
          ]
        }
      ],
      "source": [
        "print(X_train.shape)\n",
        "print(X_val.shape)\n",
        "print(X_test.shape)"
      ]
    },
    {
      "cell_type": "code",
      "execution_count": 17,
      "metadata": {
        "id": "1salmoP_XgH4",
        "colab": {
          "base_uri": "https://localhost:8080/"
        },
        "outputId": "4159b47e-2802-4037-806b-ee9e5b521b95"
      },
      "outputs": [
        {
          "output_type": "execute_result",
          "data": {
            "text/plain": [
              "False"
            ]
          },
          "metadata": {},
          "execution_count": 17
        }
      ],
      "source": [
        "X_train.all()"
      ]
    },
    {
      "cell_type": "code",
      "execution_count": 18,
      "metadata": {
        "id": "G6Cei5K9cgft",
        "colab": {
          "base_uri": "https://localhost:8080/"
        },
        "outputId": "03254ccb-48f6-47b4-cdc5-cd9ac186ebf6"
      },
      "outputs": [
        {
          "output_type": "stream",
          "name": "stdout",
          "text": [
            "Model: \"vision_transformer\"\n",
            "_________________________________________________________________\n",
            " Layer (type)                Output Shape              Param #   \n",
            "=================================================================\n",
            " vit-b32 (Functional)        (None, 768)               87455232  \n",
            "                                                                 \n",
            " flatten (Flatten)           (None, 768)               0         \n",
            "                                                                 \n",
            " batch_normalization (Batch  (None, 768)               3072      \n",
            " Normalization)                                                  \n",
            "                                                                 \n",
            " dense (Dense)               (None, 11)                8459      \n",
            "                                                                 \n",
            " batch_normalization_1 (Bat  (None, 11)                44        \n",
            " chNormalization)                                                \n",
            "                                                                 \n",
            " dense_1 (Dense)             (None, 4)                 48        \n",
            "                                                                 \n",
            "=================================================================\n",
            "Total params: 87466855 (333.66 MB)\n",
            "Trainable params: 87465297 (333.65 MB)\n",
            "Non-trainable params: 1558 (6.09 KB)\n",
            "_________________________________________________________________\n",
            "Epoch 1/50\n",
            "175/175 [==============================] - ETA: 0s - loss: 1.2228 - accuracy: 0.5920\n",
            "Epoch 1: val_accuracy improved from -inf to 0.72667, saving model to ./model.hdf5\n",
            "175/175 [==============================] - 56s 178ms/step - loss: 1.2228 - accuracy: 0.5920 - val_loss: 0.9911 - val_accuracy: 0.7267 - lr: 1.0000e-04\n",
            "Epoch 2/50\n",
            "175/175 [==============================] - ETA: 0s - loss: 0.9203 - accuracy: 0.7661\n",
            "Epoch 2: val_accuracy improved from 0.72667 to 0.77833, saving model to ./model.hdf5\n",
            "175/175 [==============================] - 24s 136ms/step - loss: 0.9203 - accuracy: 0.7661 - val_loss: 0.9059 - val_accuracy: 0.7783 - lr: 1.0000e-04\n",
            "Epoch 3/50\n",
            "175/175 [==============================] - ETA: 0s - loss: 0.8533 - accuracy: 0.8218\n",
            "Epoch 3: val_accuracy did not improve from 0.77833\n",
            "175/175 [==============================] - 20s 114ms/step - loss: 0.8533 - accuracy: 0.8218 - val_loss: 0.9176 - val_accuracy: 0.7700 - lr: 1.0000e-04\n",
            "Epoch 4/50\n",
            "175/175 [==============================] - ETA: 0s - loss: 0.8141 - accuracy: 0.8532\n",
            "Epoch 4: ReduceLROnPlateau reducing learning rate to 1.9999999494757503e-05.\n",
            "\n",
            "Epoch 4: val_accuracy did not improve from 0.77833\n",
            "175/175 [==============================] - 20s 114ms/step - loss: 0.8141 - accuracy: 0.8532 - val_loss: 0.9194 - val_accuracy: 0.7750 - lr: 1.0000e-04\n",
            "Epoch 5/50\n",
            "175/175 [==============================] - ETA: 0s - loss: 0.7721 - accuracy: 0.8868\n",
            "Epoch 5: val_accuracy improved from 0.77833 to 0.83250, saving model to ./model.hdf5\n",
            "175/175 [==============================] - 24s 135ms/step - loss: 0.7721 - accuracy: 0.8868 - val_loss: 0.8462 - val_accuracy: 0.8325 - lr: 2.0000e-05\n",
            "Epoch 6/50\n",
            "175/175 [==============================] - ETA: 0s - loss: 0.7513 - accuracy: 0.9002\n",
            "Epoch 6: val_accuracy did not improve from 0.83250\n",
            "175/175 [==============================] - 20s 114ms/step - loss: 0.7513 - accuracy: 0.9002 - val_loss: 0.8515 - val_accuracy: 0.8242 - lr: 2.0000e-05\n",
            "Epoch 7/50\n",
            "175/175 [==============================] - ETA: 0s - loss: 0.7386 - accuracy: 0.9154\n",
            "Epoch 7: val_accuracy improved from 0.83250 to 0.83750, saving model to ./model.hdf5\n",
            "175/175 [==============================] - 24s 137ms/step - loss: 0.7386 - accuracy: 0.9154 - val_loss: 0.8481 - val_accuracy: 0.8375 - lr: 2.0000e-05\n",
            "Epoch 8/50\n",
            "175/175 [==============================] - ETA: 0s - loss: 0.7287 - accuracy: 0.9241\n",
            "Epoch 8: val_accuracy did not improve from 0.83750\n",
            "175/175 [==============================] - 20s 114ms/step - loss: 0.7287 - accuracy: 0.9241 - val_loss: 0.8589 - val_accuracy: 0.8250 - lr: 2.0000e-05\n",
            "Epoch 9/50\n",
            "175/175 [==============================] - ETA: 0s - loss: 0.7139 - accuracy: 0.9329\n",
            "Epoch 9: ReduceLROnPlateau reducing learning rate to 3.999999898951501e-06.\n",
            "\n",
            "Epoch 9: val_accuracy did not improve from 0.83750\n",
            "175/175 [==============================] - 20s 114ms/step - loss: 0.7139 - accuracy: 0.9329 - val_loss: 0.8705 - val_accuracy: 0.8292 - lr: 2.0000e-05\n",
            "Epoch 10/50\n",
            "175/175 [==============================] - ETA: 0s - loss: 0.6952 - accuracy: 0.9489\n",
            "Epoch 10: val_accuracy did not improve from 0.83750\n",
            "175/175 [==============================] - 20s 113ms/step - loss: 0.6952 - accuracy: 0.9489 - val_loss: 0.8591 - val_accuracy: 0.8258 - lr: 4.0000e-06\n",
            "Epoch 11/50\n",
            "175/175 [==============================] - ETA: 0s - loss: 0.6868 - accuracy: 0.9582\n",
            "Epoch 11: ReduceLROnPlateau reducing learning rate to 1e-06.\n",
            "\n",
            "Epoch 11: val_accuracy did not improve from 0.83750\n",
            "175/175 [==============================] - 20s 114ms/step - loss: 0.6868 - accuracy: 0.9582 - val_loss: 0.8610 - val_accuracy: 0.8283 - lr: 4.0000e-06\n",
            "Epoch 12/50\n",
            "175/175 [==============================] - ETA: 0s - loss: 0.6874 - accuracy: 0.9559Restoring model weights from the end of the best epoch: 7.\n",
            "\n",
            "Epoch 12: val_accuracy did not improve from 0.83750\n",
            "175/175 [==============================] - 20s 115ms/step - loss: 0.6874 - accuracy: 0.9559 - val_loss: 0.8614 - val_accuracy: 0.8292 - lr: 1.0000e-06\n",
            "Epoch 12: early stopping\n"
          ]
        },
        {
          "output_type": "execute_result",
          "data": {
            "text/plain": [
              "<keras.src.callbacks.History at 0x78e29444a2f0>"
            ]
          },
          "metadata": {},
          "execution_count": 18
        }
      ],
      "source": [
        "#def train_vgg16_model():\n",
        "\n",
        "  #Freeze the base model layers\n",
        "  #for layer in base_model.layers:\n",
        "  #    layer.trainable = False\n",
        "\n",
        "# Add custom top layers for classification\n",
        "model = tf.keras.Sequential([\n",
        "        vit_model,\n",
        "        tf.keras.layers.Flatten(),\n",
        "        tf.keras.layers.BatchNormalization(),\n",
        "        tf.keras.layers.Dense(11, activation = tfa.activations.gelu),\n",
        "        tf.keras.layers.BatchNormalization(),\n",
        "        tf.keras.layers.Dense(4, 'softmax')\n",
        "    ],\n",
        "    name = 'vision_transformer')\n",
        "\n",
        "model.summary()\n",
        "\n",
        "  # Compile model\n",
        "  # optimizer = Adam(lr=5.520238899015578e-05)\n",
        "learning_rate = 1e-4\n",
        "\n",
        "optimizer = tfa.optimizers.RectifiedAdam(learning_rate = learning_rate)\n",
        "\n",
        "model.compile(optimizer = optimizer,\n",
        "                loss = tf.keras.losses.CategoricalCrossentropy(label_smoothing = 0.2),\n",
        "                metrics = ['accuracy'])\n",
        "batch_size = 16\n",
        "\n",
        "model.compile(optimizer = optimizer,\n",
        "                loss = tf.keras.losses.CategoricalCrossentropy(label_smoothing = 0.2),\n",
        "                metrics = ['accuracy'])\n",
        "\n",
        "batch_size = 16\n",
        "\n",
        "reduce_lr = tf.keras.callbacks.ReduceLROnPlateau(monitor = 'val_accuracy',\n",
        "                                                factor = 0.2,\n",
        "                                                patience = 2,\n",
        "                                                verbose = 1,\n",
        "                                                min_delta = 1e-4,\n",
        "                                                min_lr = 1e-6,\n",
        "                                                mode = 'max')\n",
        "\n",
        "earlystopping = tf.keras.callbacks.EarlyStopping(monitor = 'val_accuracy',\n",
        "                                                min_delta = 1e-4,\n",
        "                                                patience = 5,\n",
        "                                                mode = 'max',\n",
        "                                                restore_best_weights = True,\n",
        "                                                verbose = 1)\n",
        "\n",
        "checkpointer = tf.keras.callbacks.ModelCheckpoint(filepath = './model.hdf5',\n",
        "                                                  monitor = 'val_accuracy',\n",
        "                                                  verbose = 1,\n",
        "                                                  save_best_only = True,\n",
        "                                                  save_weights_only = True,\n",
        "                                                  mode = 'max')\n",
        "\n",
        "callbacks = [earlystopping, reduce_lr, checkpointer]\n",
        "\n",
        "model.fit(x = X_train,\n",
        "          y = y_train_one_hot,\n",
        "          # steps_per_epoch = batch_size,\n",
        "          validation_data = (X_val, y_val_one_hot),\n",
        "          # validation_steps = batch_size,\n",
        "          epochs = 50,\n",
        "          callbacks = callbacks)\n"
      ]
    },
    {
      "cell_type": "code",
      "source": [
        "y_pred_prob = model.predict(X_test)"
      ],
      "metadata": {
        "colab": {
          "base_uri": "https://localhost:8080/"
        },
        "id": "Ja8dabyS2A6N",
        "outputId": "5b85ee5d-2e83-4293-de0e-f0a9864daa92"
      },
      "execution_count": 19,
      "outputs": [
        {
          "output_type": "stream",
          "name": "stdout",
          "text": [
            "38/38 [==============================] - 5s 46ms/step\n"
          ]
        }
      ]
    },
    {
      "cell_type": "code",
      "source": [
        "print(y_pred_prob.shape)"
      ],
      "metadata": {
        "colab": {
          "base_uri": "https://localhost:8080/"
        },
        "id": "uc_vEYM22CNw",
        "outputId": "541f227a-8648-41c3-c421-b3c4eafbc9fd"
      },
      "execution_count": 20,
      "outputs": [
        {
          "output_type": "stream",
          "name": "stdout",
          "text": [
            "(1200, 4)\n"
          ]
        }
      ]
    },
    {
      "cell_type": "code",
      "execution_count": 21,
      "metadata": {
        "id": "SZbr4a9fcdg7",
        "colab": {
          "base_uri": "https://localhost:8080/"
        },
        "outputId": "c858965e-dd88-45c8-982c-541bf61aab47"
      },
      "outputs": [
        {
          "output_type": "stream",
          "name": "stdout",
          "text": [
            "38/38 [==============================] - 2s 46ms/step - loss: 0.8340 - accuracy: 0.8375\n",
            "Test accuracy: 0.8374999761581421\n"
          ]
        }
      ],
      "source": [
        "test_loss, test_acc = model.evaluate(X_test, y_test_one_hot)\n",
        "print('Test accuracy:', test_acc)"
      ]
    },
    {
      "cell_type": "code",
      "source": [
        "from sklearn.metrics import RocCurveDisplay\n",
        "import matplotlib.pyplot as plt\n",
        "from sklearn.metrics import roc_curve, auc\n",
        "\n",
        "# ROC 커브 계산 및 그리기\n",
        "fpr = {}\n",
        "tpr = {}\n",
        "roc_auc = {}\n",
        "class_name = [\"overripe\", \"no\", \"mature\", \"incipient\"]\n",
        "\n",
        "for i, name in enumerate(class_name):\n",
        "    fpr[i], tpr[i], _ = roc_curve(y_test_one_hot[:, i], y_pred_prob[:, i])\n",
        "    roc_auc[i] = auc(fpr[i], tpr[i])\n",
        "\n",
        "# micro-average ROC 커브\n",
        "fpr[\"dog_Cataract\"], tpr[\"dog_Cataract\"], _ = roc_curve(y_test_one_hot.ravel(), y_pred_prob.ravel())\n",
        "roc_auc[\"dog_Cataract\"] = auc(fpr[\"dog_Cataract\"], tpr[\"dog_Cataract\"])\n",
        "\n",
        "# ROC 커브 그리기\n",
        "plt.figure(figsize = (9, 7))\n",
        "colors = ['aqua', 'darkorange', 'cornflowerblue', 'darkgreen']\n",
        "for i, color in enumerate(colors):\n",
        "    plt.plot(fpr[i], tpr[i], color=color, lw=2, label='ROC curve of class {0} (area = {1:0.2f})'.format(class_name[i], roc_auc[i]))\n",
        "\n",
        "plt.plot(fpr[\"dog_Cataract\"], tpr[\"dog_Cataract\"], color='deeppink', linestyle=':', linewidth=2, label='micro-average ROC curve (area = {0:0.2f})'.format(roc_auc[\"dog_Cataract\"]))\n",
        "\n",
        "plt.plot([0, 1], [0, 1], color='navy', lw=2, linestyle='--')\n",
        "plt.xlim([0.0, 1.0])\n",
        "plt.ylim([0.0, 1.0])\n",
        "plt.xlabel('False Positive Rate')\n",
        "plt.ylabel('True Positive Rate')\n",
        "plt.title('Receiver Operating Characteristic for Dog_Cataract(4 class)')\n",
        "plt.legend(loc=\"lower right\")\n",
        "plt.show()"
      ],
      "metadata": {
        "colab": {
          "base_uri": "https://localhost:8080/",
          "height": 641
        },
        "id": "XQ-YX6_12FuI",
        "outputId": "181ac916-f43d-4ba9-dd0d-12b92d9aa0fc"
      },
      "execution_count": 22,
      "outputs": [
        {
          "output_type": "display_data",
          "data": {
            "text/plain": [
              "<Figure size 900x700 with 1 Axes>"
            ],
            "image/png": "[encoded data removed]"
          },
          "metadata": {}
        }
      ]
    },
    {
      "cell_type": "code",
      "source": [
        "#Precision-Recall F1 Score\n",
        "from sklearn.metrics import f1_score, precision_score, recall_score\n",
        "f1 = {}\n",
        "precision = {}\n",
        "recall = {}\n",
        "class_name = [\"overripe\", \"no\", \"mature\", \"incipient\"]\n",
        "for i, name in enumerate(class_name):\n",
        "    y_pred_binary = np.round(y_pred_prob[:, i])\n",
        "    f1[name] = f1_score(y_test_one_hot[:, i], y_pred_binary)\n",
        "    precision[name] = precision_score(y_test_one_hot[:, i], y_pred_binary)\n",
        "    recall[name] = recall_score(y_test_one_hot[:, i], y_pred_binary)\n",
        "\n",
        "y_pred_binary_all = np.round(y_pred_prob.ravel())\n",
        "f1[\"Dog_Cataract\"] = f1_score(y_test_one_hot.ravel(), y_pred_binary_all)\n",
        "precision[\"Dog_Cataract\"] = precision_score(y_test_one_hot.ravel(), y_pred_binary_all)\n",
        "recall[\"Dog_Cataract\"] = recall_score(y_test_one_hot.ravel(), y_pred_binary_all)"
      ],
      "metadata": {
        "id": "qUhYde_pG1PD"
      },
      "execution_count": 23,
      "outputs": []
    },
    {
      "cell_type": "code",
      "source": [
        "import numpy as np\n",
        "import matplotlib.pyplot as plt\n",
        "import seaborn as sns\n",
        "x = [\"overripe\", \"no\", \"mature\", \"incipient\", \"Dog_Cataract\"]\n",
        "y = [\"Precision\", \"Recall\", \"F1\"]\n",
        "\n",
        "f1_score_list = []\n",
        "precision_score_list = []\n",
        "recall_score_list = []\n",
        "for i in x:\n",
        "    precision_score_list.append(precision[i])\n",
        "    recall_score_list.append(recall[i])\n",
        "    f1_score_list.append(f1[i])\n",
        "score_list = np.array([precision_score_list, recall_score_list, f1_score_list])\n",
        "plt.figure(figsize = (16, 12))\n",
        "score_cm = plt.matshow(score_list, cmap=plt.cm.Blues, alpha=0.3)\n",
        "plt.xticks(range(len(x)), x)\n",
        "plt.yticks(range(len(y)), y)\n",
        "for i in range(len(y)):\n",
        "    for j in range(len(x)):\n",
        "        # 행렬의 각각의 수치를 각 칸의 중앙에 넣어준다\n",
        "        plt.text(x=j, y=i,\n",
        "                     s=\"{:.2f}\".format(score_list[i, j]),\n",
        "                     va='center',\n",
        "                     ha='center',\n",
        "                     )"
      ],
      "metadata": {
        "colab": {
          "base_uri": "https://localhost:8080/",
          "height": 455
        },
        "id": "9bU2peWXH0UK",
        "outputId": "e6c01718-0b7d-455b-e2d8-4588c1e8c48d"
      },
      "execution_count": 24,
      "outputs": [
        {
          "output_type": "display_data",
          "data": {
            "text/plain": [
              "<Figure size 1600x1200 with 0 Axes>"
            ]
          },
          "metadata": {}
        },
        {
          "output_type": "display_data",
          "data": {
            "text/plain": [
              "<Figure size 800x480 with 1 Axes>"
            ],
            "image/png": "[encoded data removed]"
          },
          "metadata": {}
        }
      ]
    }
  ],
  "metadata": {
    "accelerator": "GPU",
    "colab": {
      "gpuType": "A100",
      "machine_shape": "hm",
      "provenance": [],
      "toc_visible": true,
      "include_colab_link": true
    },
    "kernelspec": {
      "display_name": "Python 3",
      "name": "python3"
    },
    "language_info": {
      "name": "python"
    }
  },
  "nbformat": 4,
  "nbformat_minor": 0
}
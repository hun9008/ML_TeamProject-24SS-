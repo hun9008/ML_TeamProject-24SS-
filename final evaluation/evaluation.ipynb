{
  "nbformat": 4,
  "nbformat_minor": 0,
  "metadata": {
    "colab": {
      "provenance": []
    },
    "kernelspec": {
      "name": "python3",
      "display_name": "Python 3"
    },
    "language_info": {
      "name": "python"
    }
  },
  "cells": [
    {
      "cell_type": "markdown",
      "source": [
        "평가지표 산출 및 그래프"
      ],
      "metadata": {
        "id": "UOVro85XTfoq"
      }
    },
    {
      "cell_type": "code",
      "execution_count": null,
      "metadata": {
        "id": "7HU0r0vOSzpg"
      },
      "outputs": [],
      "source": [
        "from sklearn.metrics import accuracy_score, precision_score, recall_score, f1_score\n",
        "import numpy as np\n",
        "import matplotlib.pyplot as plt\n",
        "\n",
        "def evaluate_model(y_true, y_pred):\n",
        "    accuracy = accuracy_score(y_true, y_pred)\n",
        "    precision = precision_score(y_true, y_pred)\n",
        "    recall = recall_score(y_true, y_pred)\n",
        "    f1 = f1_score(y_true, y_pred)\n",
        "    return accuracy, precision, recall, f1\n",
        "\n",
        "def plot_evaluation_metrics(accuracy, precision, recall, f1):\n",
        "    labels = ['Accuracy', 'Precision', 'Recall', 'F1 Score']\n",
        "    values = [accuracy, precision, recall, f1]\n",
        "\n",
        "    plt.figure(figsize=(10, 6))\n",
        "    plt.bar(labels, values, color=['blue', 'orange', 'green', 'red'])\n",
        "    plt.title('Evaluation Metrics')\n",
        "    plt.xlabel('Metrics')\n",
        "    plt.ylabel('Score')\n",
        "    plt.ylim(0, 1)\n",
        "    plt.show()\n",
        "\n",
        "accuracy, precision, recall, f1 = evaluate_model(y_true, y_pred)\n",
        "plot_evaluation_metrics(accuracy, precision, recall, f1)"
      ]
    },
    {
      "cell_type": "markdown",
      "source": [
        "혼돈 행렬 분석"
      ],
      "metadata": {
        "id": "xuKLTRUBTpyd"
      }
    },
    {
      "cell_type": "code",
      "source": [
        "from sklearn.metrics import confusion_matrix\n",
        "import seaborn as sns\n",
        "\n",
        "def plot_confusion_matrix(y_true, y_pred, labels):\n",
        "    cm = confusion_matrix(y_true, y_pred)\n",
        "    plt.figure(figsize=(8, 6))\n",
        "    sns.heatmap(cm, annot=True, fmt=\"d\", cmap=\"Blues\", xticklabels=labels, yticklabels=labels)\n",
        "    plt.xlabel('Predicted labels')\n",
        "    plt.ylabel('True labels')\n",
        "    plt.title('Confusion Matrix')\n",
        "    plt.show()\n",
        "\n",
        "plot_confusion_matrix(y_true, y_pred, labels)"
      ],
      "metadata": {
        "id": "OO0lZ1tNU_2u"
      },
      "execution_count": null,
      "outputs": []
    }
  ]
}

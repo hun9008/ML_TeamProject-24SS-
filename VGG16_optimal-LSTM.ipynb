{
  "nbformat": 4,
  "nbformat_minor": 0,
  "metadata": {
    "colab": {
      "provenance": [],
      "machine_shape": "hm",
      "gpuType": "A100",
      "include_colab_link": true
    },
    "kernelspec": {
      "name": "python3",
      "display_name": "Python 3"
    },
    "language_info": {
      "name": "python"
    },
    "accelerator": "GPU"
  },
  "cells": [
    {
      "cell_type": "markdown",
      "metadata": {
        "id": "view-in-github",
        "colab_type": "text"
      },
      "source": [
        "<a href=\"https://colab.research.google.com/github/hun9008/ML_TeamProject_24SS/blob/main/VGG16_optimal-LSTM.ipynb\" target=\"_parent\"><img src=\"https://colab.research.google.com/assets/colab-badge.svg\" alt=\"Open In Colab\"/></a>"
      ]
    },
    {
      "cell_type": "code",
      "source": [
        "pip install optuna"
      ],
      "metadata": {
        "id": "i6So7_tYHkP5",
        "outputId": "230cc44c-3b0b-4c70-fcc1-4722adb963ea",
        "colab": {
          "base_uri": "https://localhost:8080/"
        }
      },
      "execution_count": 1,
      "outputs": [
        {
          "output_type": "stream",
          "name": "stdout",
          "text": [
            "Collecting optuna\n",
            "  Downloading optuna-3.6.1-py3-none-any.whl (380 kB)\n",
            "\u001b[2K     \u001b[90m━━━━━━━━━━━━━━━━━━━━━━━━━━━━━━━━━━━━━━━━\u001b[0m \u001b[32m380.1/380.1 kB\u001b[0m \u001b[31m5.2 MB/s\u001b[0m eta \u001b[36m0:00:00\u001b[0m\n",
            "\u001b[?25hCollecting alembic>=1.5.0 (from optuna)\n",
            "  Downloading alembic-1.13.1-py3-none-any.whl (233 kB)\n",
            "\u001b[2K     \u001b[90m━━━━━━━━━━━━━━━━━━━━━━━━━━━━━━━━━━━━━━━━\u001b[0m \u001b[32m233.4/233.4 kB\u001b[0m \u001b[31m7.5 MB/s\u001b[0m eta \u001b[36m0:00:00\u001b[0m\n",
            "\u001b[?25hCollecting colorlog (from optuna)\n",
            "  Downloading colorlog-6.8.2-py3-none-any.whl (11 kB)\n",
            "Requirement already satisfied: numpy in /usr/local/lib/python3.10/dist-packages (from optuna) (1.25.2)\n",
            "Requirement already satisfied: packaging>=20.0 in /usr/local/lib/python3.10/dist-packages (from optuna) (24.0)\n",
            "Requirement already satisfied: sqlalchemy>=1.3.0 in /usr/local/lib/python3.10/dist-packages (from optuna) (2.0.30)\n",
            "Requirement already satisfied: tqdm in /usr/local/lib/python3.10/dist-packages (from optuna) (4.66.4)\n",
            "Requirement already satisfied: PyYAML in /usr/local/lib/python3.10/dist-packages (from optuna) (6.0.1)\n",
            "Collecting Mako (from alembic>=1.5.0->optuna)\n",
            "  Downloading Mako-1.3.5-py3-none-any.whl (78 kB)\n",
            "\u001b[2K     \u001b[90m━━━━━━━━━━━━━━━━━━━━━━━━━━━━━━━━━━━━━━━━\u001b[0m \u001b[32m78.6/78.6 kB\u001b[0m \u001b[31m8.2 MB/s\u001b[0m eta \u001b[36m0:00:00\u001b[0m\n",
            "\u001b[?25hRequirement already satisfied: typing-extensions>=4 in /usr/local/lib/python3.10/dist-packages (from alembic>=1.5.0->optuna) (4.11.0)\n",
            "Requirement already satisfied: greenlet!=0.4.17 in /usr/local/lib/python3.10/dist-packages (from sqlalchemy>=1.3.0->optuna) (3.0.3)\n",
            "Requirement already satisfied: MarkupSafe>=0.9.2 in /usr/local/lib/python3.10/dist-packages (from Mako->alembic>=1.5.0->optuna) (2.1.5)\n",
            "Installing collected packages: Mako, colorlog, alembic, optuna\n",
            "Successfully installed Mako-1.3.5 alembic-1.13.1 colorlog-6.8.2 optuna-3.6.1\n"
          ]
        }
      ]
    },
    {
      "cell_type": "code",
      "source": [
        "import tensorflow as tf\n",
        "import os\n",
        "import pickle\n",
        "import optuna\n",
        "import pandas as pd\n",
        "import numpy as np\n",
        "from tensorflow.keras.callbacks import EarlyStopping\n",
        "import matplotlib.pyplot as plt\n",
        "from optuna.visualization import plot_optimization_history\n",
        "from sklearn.model_selection import train_test_split\n",
        "from tensorflow.keras.applications import VGG16\n",
        "from tensorflow.keras.models import Sequential\n",
        "from tensorflow.keras.models import Model\n",
        "from tensorflow.keras.layers import Conv2D, MaxPooling2D, Flatten, Dense, LSTM, Dropout, BatchNormalization, Reshape, Dropout\n",
        "from tensorflow.keras.optimizers import Adam\n",
        "from tensorflow.keras.utils import to_categorical"
      ],
      "metadata": {
        "id": "qPH0SO-qGzjY"
      },
      "execution_count": 2,
      "outputs": []
    },
    {
      "cell_type": "code",
      "execution_count": 3,
      "metadata": {
        "colab": {
          "base_uri": "https://localhost:8080/"
        },
        "id": "MaQi2LTwPNco",
        "outputId": "c5b0f95c-6ab5-47f4-b059-5d92540956a2"
      },
      "outputs": [
        {
          "output_type": "stream",
          "name": "stdout",
          "text": [
            "Mounted at /gdrive\n"
          ]
        }
      ],
      "source": [
        "from google.colab import drive\n",
        "drive.mount('/content/drive')"
      ]
    },
    {
      "cell_type": "code",
      "source": [
        "cd /content/drive/MyDrive"
      ],
      "metadata": {
        "colab": {
          "base_uri": "https://localhost:8080/"
        },
        "id": "_O_T_aU6PdD1",
        "outputId": "484e68ed-101d-45d3-eb4d-4443a42a150c"
      },
      "execution_count": 4,
      "outputs": [
        {
          "output_type": "stream",
          "name": "stdout",
          "text": [
            "mature :  2000\n"
          ]
        }
      ]
    },
    {
      "cell_type": "code",
      "source": [
        "import os\n",
        "os.getcwd()\n",
        "os.chdir('..')"
      ],
      "metadata": {
        "colab": {
          "base_uri": "https://localhost:8080/"
        },
        "id": "_3zfoxPtPjlS",
        "outputId": "c25cd7a3-0b97-4de0-bd38-6642b8c7fea9"
      },
      "execution_count": 5,
      "outputs": [
        {
          "output_type": "stream",
          "name": "stdout",
          "text": [
            "incipient :  2000\n"
          ]
        }
      ]
    },
    {
      "cell_type": "code",
      "source": [
        "os.listdir()"
      ],
      "metadata": {
        "colab": {
          "base_uri": "https://localhost:8080/"
        },
        "id": "KE16NJ5TPlN_",
        "outputId": "3dd39007-6201-475f-be61-36086945e4aa"
      },
      "execution_count": 6,
      "outputs": [
        {
          "output_type": "stream",
          "name": "stdout",
          "text": [
            "mature_train_labeled_value shape: (2000, 224, 224, 3)\n"
          ]
        }
      ]
    },
    {
      "cell_type": "code",
      "source": [
        "os.chdir('ML_TeamProject_24SS')"
      ],
      "metadata": {
        "id": "34-qwn4kPr92",
        "outputId": "2945eeab-8fe3-49e8-83ac-8e2e18d48e18",
        "colab": {
          "base_uri": "https://localhost:8080/"
        }
      },
      "execution_count": 7,
      "outputs": [
        {
          "output_type": "stream",
          "name": "stdout",
          "text": [
            "incipient_train_labeled_value shape: (2000, 224, 224, 3)\n"
          ]
        }
      ]
    },
    {
      "cell_type": "code",
      "source": [
        "import pickle\n",
        "#os.chdir('images_gray_jpg')\n",
        "\n",
        "os.chdir('overripe_train_labeled_2000')\n",
        "with open('zero_centering.pkl', 'rb') as f:\n",
        "     overripe = pickle.load(f)\n",
        "     print('overripe : ', len(overripe))\n",
        "os.chdir(\"..\")\n",
        "os.chdir('no_train_labeled_2000')\n",
        "with open('zero_centering.pkl', 'rb') as f:\n",
        "     no = pickle.load(f)\n",
        "     print('no : ', len(no))\n",
        "os.chdir(\"..\")\n",
        "os.chdir('mature_train_labeled_2000')\n",
        "with open('zero_centering.pkl', 'rb') as f:\n",
        "     mature = pickle.load(f)\n",
        "     print('mature : ', len(mature))\n",
        "os.chdir(\"..\")\n",
        "os.chdir('incipient_train_labeled_2000')\n",
        "with open('zero_centering.pkl', 'rb') as f:\n",
        "     incipient = pickle.load(f)\n",
        "     print('incipient : ', len(incipient))"
      ],
      "metadata": {
        "id": "fJHViDgyXvON"
      },
      "execution_count": 8,
      "outputs": []
    },
    {
      "cell_type": "code",
      "source": [
        "# overripe의 모든 사진에 대해 반복\n",
        "overripe_data_list = []\n",
        "\n",
        "for filename, data in overripe.items():\n",
        "    zero_centering_value = data.get('zero_centering')\n",
        "    overripe_data_list.append(np.array(zero_centering_value))\n",
        "\n",
        "# 리스트를 NumPy 배열로 변환\n",
        "overripe_data = np.array(overripe_data_list)\n",
        "\n",
        "# 확인을 위해 배열의 크기 출력\n",
        "print(\"overripe_data shape:\", overripe_data.shape)\n",
        "no_data_list = []\n",
        "\n",
        "for filename, data in no.items():\n",
        "    zero_centering_value = data.get('zero_centering')\n",
        "    no_data_list.append(np.array(zero_centering_value))\n",
        "\n",
        "# 리스트를 NumPy 배열로 변환\n",
        "no_data = np.array(no_data_list)\n",
        "\n",
        "# 확인을 위해 배열의 크기 출력\n",
        "print(\"no_data shape:\", no_data.shape)\n",
        "\n",
        "mature_data_list = []\n",
        "\n",
        "for filename, data in mature.items():\n",
        "    zero_centering_value = data.get('zero_centering')\n",
        "    mature_data_list.append(np.array(zero_centering_value))\n",
        "\n",
        "# 리스트를 NumPy 배열로 변환\n",
        "mature_data = np.array(mature_data_list)\n",
        "\n",
        "# 확인을 위해 배열의 크기 출력\n",
        "print(\"mature_data shape:\", mature_data.shape)\n",
        "\n",
        "incipient_data_list = []\n",
        "\n",
        "for filename, data in incipient.items():\n",
        "    zero_centering_value = data.get('zero_centering')\n",
        "    incipient_data_list.append(np.array(zero_centering_value))\n",
        "\n",
        "# 리스트를 NumPy 배열로 변환\n",
        "incipient_data = np.array(incipient_data_list)\n",
        "\n",
        "# 확인을 위해 배열의 크기 출력\n",
        "print(\"incipient_data shape:\", incipient_data.shape)"
      ],
      "metadata": {
        "id": "S416B45TYrTz"
      },
      "execution_count": null,
      "outputs": []
    },
    {
      "cell_type": "code",
      "source": [
        "# 데이터를 train/validation/test로 나누기\n",
        "from sklearn.model_selection import train_test_split\n",
        "X = np.concatenate((overripe_data, no_data, mature_data, incipient_data), axis=0)\n",
        "y = np.concatenate((np.zeros(overripe_data.shape[0]), np.ones(no_data.shape[0]),\n",
        "                    2*np.ones(mature_data.shape[0]), 3*np.ones(incipient_data.shape[0])))\n",
        "\n",
        "X_train, X_temp, y_train, y_temp = train_test_split(X, y, test_size=0.3, random_state=42)\n",
        "X_val, X_test, y_val, y_test = train_test_split(X_temp, y_temp, test_size=0.5, random_state=42)\n",
        "\n",
        "print(X_train.shape)\n",
        "print(X_val.shape)\n",
        "print(X_test.shape)"
      ],
      "metadata": {
        "id": "YElpNyQEYyOP"
      },
      "execution_count": null,
      "outputs": []
    },
    {
      "cell_type": "markdown",
      "source": [
        "y one-hot"
      ],
      "metadata": {
        "id": "fC5k-MspbVG3"
      }
    },
    {
      "cell_type": "code",
      "source": [
        "y_train_one_hot = to_categorical(y_train)\n",
        "y_val_one_hot = to_categorical(y_val)\n",
        "y_test_one_hot = to_categorical(y_test)"
      ],
      "metadata": {
        "id": "MPyh4QsebQm_"
      },
      "execution_count": 10,
      "outputs": []
    },
    {
      "cell_type": "markdown",
      "source": [
        "# Hyperparameter tuning"
      ],
      "metadata": {
        "id": "BaftsMKqbdz4"
      }
    },
    {
      "cell_type": "code",
      "source": [
        "# memory reduce\n",
        "del mature, incipient\n",
        "del mature_train_labeled_value, incipient_train_labeled_value\n",
        "del mature_train_labeled_list, incipient_train_labeled_list\n",
        "del X, y\n",
        "del y_train, y_temp, y_val, y_test"
      ],
      "metadata": {
        "id": "1LZA8OcqbdZm"
      },
      "execution_count": 11,
      "outputs": []
    },
    {
      "cell_type": "code",
      "source": [
        "\n",
        "def objective(trial, X_train, y_train, X_val, y_val):\n",
        "    # Define parameters to be tuned\n",
        "    # 여기서 lr, epochs, batch_size가 하이퍼파라미터튜닝 대상입니다.\n",
        "    lr = trial.suggest_loguniform('lr', 1e-5, 1e-3)  # Learning rate\n",
        "    epochs = 10\n",
        "    batch_size = trial.suggest_categorical('batch_size', [16, 32, 64])  # Batch size\n",
        "\n",
        "    # Load pre-trained VGG16 model without top layers\n",
        "    base_model = VGG16(weights='imagenet', include_top=False, input_shape=(224, 224, 3))\n",
        "\n",
        "    # Freeze the base model layers\n",
        "    for layer in base_model.layers:\n",
        "        layer.trainable = False\n",
        "\n",
        "    # Add custom top layers for classification\n",
        "    model = Sequential([\n",
        "        base_model,\n",
        "        Flatten(),\n",
        "        Dense(4096, activation='relu'),\n",
        "        Dense(4096, activation='relu'),\n",
        "        Dense(4, activation='softmax')  # Assuming 4 classes for classification\n",
        "    ])\n",
        "\n",
        "    # Compile model\n",
        "    optimizer = Adam(lr=lr)\n",
        "    model.compile(optimizer=optimizer, loss='categorical_crossentropy', metrics=['accuracy'])\n",
        "\n",
        "    # Train the model\n",
        "    history = model.fit(X_train, y_train, validation_data=(X_val, y_val), epochs=epochs, batch_size=batch_size)\n",
        "\n",
        "    # Evaluate the model\n",
        "    val_loss = history.history['val_loss'][-1]\n",
        "    return val_loss\n"
      ],
      "metadata": {
        "id": "PJTgPAoecA5T"
      },
      "execution_count": 12,
      "outputs": []
    },
    {
      "cell_type": "code",
      "source": [
        "# Run Optuna optimization\n",
        "study = optuna.create_study(direction='minimize')\n",
        "study.optimize(lambda trial: objective(trial, X_train, y_train_one_hot, X_val, y_val_one_hot), n_trials=5)\n",
        "\n",
        "# Get the best parameters\n",
        "best_params = study.best_params\n",
        "print(\"Best parameters:\", best_params)"
      ],
      "metadata": {
        "colab": {
          "base_uri": "https://localhost:8080/"
        },
        "id": "btCcMsLwcP4z",
        "outputId": "f0dcf04d-a796-4232-9986-a81e6e38940d"
      },
      "execution_count": 13,
      "outputs": [
        {
          "output_type": "stream",
          "name": "stderr",
          "text": [
            "[I 2024-05-18 14:36:22,017] A new study created in memory with name: no-name-4cc5563b-4804-4ac1-b577-bc2f06171943\n",
            "<ipython-input-12-42a19bcb1f70>:4: FutureWarning: suggest_loguniform has been deprecated in v3.0.0. This feature will be removed in v6.0.0. See https://github.com/optuna/optuna/releases/tag/v3.0.0. Use suggest_float(..., log=True) instead.\n",
            "  lr = trial.suggest_loguniform('lr', 1e-5, 1e-3)  # Learning rate\n"
          ]
        },
        {
          "output_type": "stream",
          "name": "stdout",
          "text": [
            "Downloading data from https://storage.googleapis.com/tensorflow/keras-applications/vgg16/vgg16_weights_tf_dim_ordering_tf_kernels_notop.h5\n",
            "58889256/58889256 [==============================] - 0s 0us/step\n"
          ]
        },
        {
          "output_type": "stream",
          "name": "stderr",
          "text": [
            "WARNING:absl:`lr` is deprecated in Keras optimizer, please use `learning_rate` or use the legacy optimizer, e.g.,tf.keras.optimizers.legacy.Adam.\n"
          ]
        },
        {
          "output_type": "stream",
          "name": "stdout",
          "text": [
            "Epoch 1/10\n",
            "175/175 [==============================] - 9s 29ms/step - loss: 1.7519 - accuracy: 0.4979 - val_loss: 0.7572 - val_accuracy: 0.5017\n",
            "Epoch 2/10\n",
            "175/175 [==============================] - 4s 21ms/step - loss: 0.7060 - accuracy: 0.4982 - val_loss: 0.6965 - val_accuracy: 0.5000\n",
            "Epoch 3/10\n",
            "175/175 [==============================] - 4s 21ms/step - loss: 0.6975 - accuracy: 0.5064 - val_loss: 0.6934 - val_accuracy: 0.5000\n",
            "Epoch 4/10\n",
            "175/175 [==============================] - 4s 21ms/step - loss: 0.6934 - accuracy: 0.4989 - val_loss: 0.6953 - val_accuracy: 0.4967\n",
            "Epoch 5/10\n",
            "175/175 [==============================] - 4s 21ms/step - loss: 0.6942 - accuracy: 0.5075 - val_loss: 0.6966 - val_accuracy: 0.5017\n",
            "Epoch 6/10\n",
            "175/175 [==============================] - 4s 21ms/step - loss: 0.6931 - accuracy: 0.5079 - val_loss: 0.6932 - val_accuracy: 0.5017\n",
            "Epoch 7/10\n",
            "175/175 [==============================] - 4s 21ms/step - loss: 0.6932 - accuracy: 0.5079 - val_loss: 0.6933 - val_accuracy: 0.5017\n",
            "Epoch 8/10\n",
            "175/175 [==============================] - 4s 21ms/step - loss: 0.6931 - accuracy: 0.5079 - val_loss: 0.6932 - val_accuracy: 0.5017\n",
            "Epoch 9/10\n",
            "175/175 [==============================] - 4s 21ms/step - loss: 0.6932 - accuracy: 0.5079 - val_loss: 0.6933 - val_accuracy: 0.5017\n",
            "Epoch 10/10\n",
            "175/175 [==============================] - 4s 21ms/step - loss: 0.6932 - accuracy: 0.5079 - val_loss: 0.6932 - val_accuracy: 0.5017\n"
          ]
        },
        {
          "output_type": "stream",
          "name": "stderr",
          "text": [
            "[I 2024-05-18 14:37:07,807] Trial 0 finished with value: 0.6932106614112854 and parameters: {'lr': 7.27875297232632e-05, 'batch_size': 16}. Best is trial 0 with value: 0.6932106614112854.\n",
            "WARNING:absl:`lr` is deprecated in Keras optimizer, please use `learning_rate` or use the legacy optimizer, e.g.,tf.keras.optimizers.legacy.Adam.\n"
          ]
        },
        {
          "output_type": "stream",
          "name": "stdout",
          "text": [
            "Epoch 1/10\n",
            "175/175 [==============================] - 6s 25ms/step - loss: 1.4457 - accuracy: 0.4929 - val_loss: 0.6963 - val_accuracy: 0.5033\n",
            "Epoch 2/10\n",
            "175/175 [==============================] - 4s 21ms/step - loss: 0.7004 - accuracy: 0.5046 - val_loss: 0.6934 - val_accuracy: 0.5000\n",
            "Epoch 3/10\n",
            "175/175 [==============================] - 4s 21ms/step - loss: 0.6937 - accuracy: 0.4946 - val_loss: 0.6932 - val_accuracy: 0.5017\n",
            "Epoch 4/10\n",
            "175/175 [==============================] - 4s 21ms/step - loss: 0.6933 - accuracy: 0.5079 - val_loss: 0.6932 - val_accuracy: 0.5017\n",
            "Epoch 5/10\n",
            "175/175 [==============================] - 4s 21ms/step - loss: 0.6932 - accuracy: 0.5079 - val_loss: 0.6933 - val_accuracy: 0.5017\n",
            "Epoch 6/10\n",
            "175/175 [==============================] - 4s 21ms/step - loss: 0.6940 - accuracy: 0.5089 - val_loss: 0.6932 - val_accuracy: 0.5017\n",
            "Epoch 7/10\n",
            "175/175 [==============================] - 4s 21ms/step - loss: 0.6932 - accuracy: 0.5079 - val_loss: 0.6932 - val_accuracy: 0.5017\n",
            "Epoch 8/10\n",
            "175/175 [==============================] - 4s 21ms/step - loss: 0.6932 - accuracy: 0.5079 - val_loss: 0.6932 - val_accuracy: 0.5017\n",
            "Epoch 9/10\n",
            "175/175 [==============================] - 4s 21ms/step - loss: 0.6931 - accuracy: 0.5079 - val_loss: 0.6932 - val_accuracy: 0.5017\n",
            "Epoch 10/10\n",
            "175/175 [==============================] - 4s 21ms/step - loss: 0.6931 - accuracy: 0.5079 - val_loss: 0.6933 - val_accuracy: 0.5017\n"
          ]
        },
        {
          "output_type": "stream",
          "name": "stderr",
          "text": [
            "[I 2024-05-18 14:37:48,671] Trial 1 finished with value: 0.693267822265625 and parameters: {'lr': 2.0492750182151313e-05, 'batch_size': 16}. Best is trial 0 with value: 0.6932106614112854.\n",
            "WARNING:absl:`lr` is deprecated in Keras optimizer, please use `learning_rate` or use the legacy optimizer, e.g.,tf.keras.optimizers.legacy.Adam.\n"
          ]
        },
        {
          "output_type": "stream",
          "name": "stdout",
          "text": [
            "Epoch 1/10\n",
            "175/175 [==============================] - 6s 25ms/step - loss: 1.5589 - accuracy: 0.4864 - val_loss: 0.6942 - val_accuracy: 0.5033\n",
            "Epoch 2/10\n",
            "175/175 [==============================] - 4s 21ms/step - loss: 0.7093 - accuracy: 0.5086 - val_loss: 0.7275 - val_accuracy: 0.5017\n",
            "Epoch 3/10\n",
            "175/175 [==============================] - 4s 21ms/step - loss: 0.6952 - accuracy: 0.4986 - val_loss: 0.6932 - val_accuracy: 0.4967\n",
            "Epoch 4/10\n",
            "175/175 [==============================] - 4s 21ms/step - loss: 0.6955 - accuracy: 0.4961 - val_loss: 0.6928 - val_accuracy: 0.5017\n",
            "Epoch 5/10\n",
            "175/175 [==============================] - 4s 21ms/step - loss: 0.6934 - accuracy: 0.5050 - val_loss: 0.6932 - val_accuracy: 0.5017\n",
            "Epoch 6/10\n",
            "175/175 [==============================] - 4s 21ms/step - loss: 0.6931 - accuracy: 0.5082 - val_loss: 0.6932 - val_accuracy: 0.5017\n",
            "Epoch 7/10\n",
            "175/175 [==============================] - 4s 21ms/step - loss: 0.6938 - accuracy: 0.5107 - val_loss: 0.6932 - val_accuracy: 0.5017\n",
            "Epoch 8/10\n",
            "175/175 [==============================] - 4s 21ms/step - loss: 0.6932 - accuracy: 0.5079 - val_loss: 0.6931 - val_accuracy: 0.5017\n",
            "Epoch 9/10\n",
            "175/175 [==============================] - 4s 21ms/step - loss: 0.6932 - accuracy: 0.5079 - val_loss: 0.6932 - val_accuracy: 0.5017\n",
            "Epoch 10/10\n",
            "175/175 [==============================] - 4s 21ms/step - loss: 0.6932 - accuracy: 0.4993 - val_loss: 0.6934 - val_accuracy: 0.5133\n"
          ]
        },
        {
          "output_type": "stream",
          "name": "stderr",
          "text": [
            "[I 2024-05-18 14:38:30,307] Trial 2 finished with value: 0.6933866143226624 and parameters: {'lr': 3.976827320667984e-05, 'batch_size': 16}. Best is trial 0 with value: 0.6932106614112854.\n",
            "WARNING:absl:`lr` is deprecated in Keras optimizer, please use `learning_rate` or use the legacy optimizer, e.g.,tf.keras.optimizers.legacy.Adam.\n"
          ]
        },
        {
          "output_type": "stream",
          "name": "stdout",
          "text": [
            "Epoch 1/10\n",
            "88/88 [==============================] - 8s 55ms/step - loss: 2.6592 - accuracy: 0.4771 - val_loss: 0.6955 - val_accuracy: 0.4967\n",
            "Epoch 2/10\n",
            "88/88 [==============================] - 3s 34ms/step - loss: 0.7023 - accuracy: 0.4982 - val_loss: 0.7074 - val_accuracy: 0.4983\n",
            "Epoch 3/10\n",
            "88/88 [==============================] - 3s 34ms/step - loss: 0.6998 - accuracy: 0.4950 - val_loss: 0.6991 - val_accuracy: 0.5017\n",
            "Epoch 4/10\n",
            "88/88 [==============================] - 3s 34ms/step - loss: 0.6999 - accuracy: 0.4936 - val_loss: 0.6955 - val_accuracy: 0.4983\n",
            "Epoch 5/10\n",
            "88/88 [==============================] - 3s 34ms/step - loss: 0.6954 - accuracy: 0.5004 - val_loss: 0.6938 - val_accuracy: 0.4950\n",
            "Epoch 6/10\n",
            "88/88 [==============================] - 3s 34ms/step - loss: 0.6933 - accuracy: 0.5079 - val_loss: 0.6933 - val_accuracy: 0.5017\n",
            "Epoch 7/10\n",
            "88/88 [==============================] - 3s 34ms/step - loss: 0.6935 - accuracy: 0.5064 - val_loss: 0.6940 - val_accuracy: 0.5000\n",
            "Epoch 8/10\n",
            "88/88 [==============================] - 3s 34ms/step - loss: 0.6931 - accuracy: 0.4971 - val_loss: 0.6959 - val_accuracy: 0.5000\n",
            "Epoch 9/10\n",
            "88/88 [==============================] - 3s 34ms/step - loss: 0.6930 - accuracy: 0.4982 - val_loss: 0.7004 - val_accuracy: 0.5000\n",
            "Epoch 10/10\n",
            "88/88 [==============================] - 3s 34ms/step - loss: 0.6929 - accuracy: 0.5082 - val_loss: 0.7011 - val_accuracy: 0.5000\n"
          ]
        },
        {
          "output_type": "stream",
          "name": "stderr",
          "text": [
            "[I 2024-05-18 14:39:07,481] Trial 3 finished with value: 0.7011489868164062 and parameters: {'lr': 0.0008483724243325843, 'batch_size': 32}. Best is trial 0 with value: 0.6932106614112854.\n",
            "WARNING:absl:`lr` is deprecated in Keras optimizer, please use `learning_rate` or use the legacy optimizer, e.g.,tf.keras.optimizers.legacy.Adam.\n"
          ]
        },
        {
          "output_type": "stream",
          "name": "stdout",
          "text": [
            "Epoch 1/10\n",
            "88/88 [==============================] - 5s 39ms/step - loss: 3.0015 - accuracy: 0.4950 - val_loss: 0.7153 - val_accuracy: 0.4983\n",
            "Epoch 2/10\n",
            "88/88 [==============================] - 3s 34ms/step - loss: 0.6991 - accuracy: 0.4971 - val_loss: 0.6939 - val_accuracy: 0.5017\n",
            "Epoch 3/10\n",
            "88/88 [==============================] - 3s 34ms/step - loss: 0.6960 - accuracy: 0.5004 - val_loss: 0.6959 - val_accuracy: 0.5067\n",
            "Epoch 4/10\n",
            "88/88 [==============================] - 3s 34ms/step - loss: 0.6957 - accuracy: 0.4821 - val_loss: 0.6934 - val_accuracy: 0.5017\n",
            "Epoch 5/10\n",
            "88/88 [==============================] - 3s 34ms/step - loss: 0.6938 - accuracy: 0.5086 - val_loss: 0.6932 - val_accuracy: 0.5017\n",
            "Epoch 6/10\n",
            "88/88 [==============================] - 3s 34ms/step - loss: 0.6932 - accuracy: 0.5082 - val_loss: 0.6933 - val_accuracy: 0.5017\n",
            "Epoch 7/10\n",
            "88/88 [==============================] - 3s 34ms/step - loss: 0.6932 - accuracy: 0.4979 - val_loss: 0.6933 - val_accuracy: 0.5000\n",
            "Epoch 8/10\n",
            "88/88 [==============================] - 3s 34ms/step - loss: 0.6930 - accuracy: 0.5086 - val_loss: 0.7131 - val_accuracy: 0.5017\n",
            "Epoch 9/10\n",
            "88/88 [==============================] - 3s 34ms/step - loss: 0.6941 - accuracy: 0.5079 - val_loss: 0.6932 - val_accuracy: 0.5017\n",
            "Epoch 10/10\n",
            "88/88 [==============================] - 3s 34ms/step - loss: 0.6931 - accuracy: 0.5079 - val_loss: 0.6933 - val_accuracy: 0.5017\n"
          ]
        },
        {
          "output_type": "stream",
          "name": "stderr",
          "text": [
            "[I 2024-05-18 14:39:41,942] Trial 4 finished with value: 0.6932550072669983 and parameters: {'lr': 0.00041449658386309897, 'batch_size': 32}. Best is trial 0 with value: 0.6932106614112854.\n"
          ]
        },
        {
          "output_type": "stream",
          "name": "stdout",
          "text": [
            "Best parameters: {'lr': 7.27875297232632e-05, 'batch_size': 16}\n"
          ]
        }
      ]
    },
    {
      "cell_type": "markdown",
      "source": [
        "Training & Test"
      ],
      "metadata": {
        "id": "lhdB7e9DckDT"
      }
    },
    {
      "cell_type": "code",
      "source": [
        "print(study.best_params['lr'])\n",
        "print(study.best_params['batch_size'])\n"
      ],
      "metadata": {
        "colab": {
          "base_uri": "https://localhost:8080/"
        },
        "id": "Po2tObbljZuG",
        "outputId": "79237c9f-9e23-41c5-a8f6-71e6534f5d86"
      },
      "execution_count": 14,
      "outputs": [
        {
          "output_type": "stream",
          "name": "stdout",
          "text": [
            "7.27875297232632e-05\n",
            "16\n"
          ]
        }
      ]
    },
    {
      "cell_type": "code",
      "source": [
        "def train_vgg16_model():\n",
        "  # Load pre-trained VGG16 model without top layers\n",
        "  base_model = VGG16(weights='imagenet', include_top=False, input_shape=(224, 224, 3))\n",
        "\n",
        "  # Freeze the base model layers\n",
        "  for layer in base_model.layers:\n",
        "      layer.trainable = False\n",
        "\n",
        "  # Add custom top layers for classification\n",
        "  model = Sequential([\n",
        "      base_model,\n",
        "      Flatten(),\n",
        "      Dense(512, activation='relu'),\n",
        "      Dropout(0.5),\n",
        "      Dense(4, activation='softmax')\n",
        "  ])\n",
        "\n",
        "  # Compile model\n",
        "  # optimizer = Adam(lr=5.520238899015578e-05)\n",
        "  optimizer = Adam(lr=study.best_params['lr'])\n",
        "  model.compile(optimizer=optimizer, loss='categorical_crossentropy', metrics=['accuracy'])\n",
        "\n",
        "  # Fine-tuning: Unfreeze some layers and train the entire model with new data\n",
        "  for layer in model.layers:\n",
        "      if 'block5' in layer.name:  # Unfreeze layers starting from 'block5'\n",
        "          layer.trainable = True\n",
        "\n",
        "  # Define early stopping callback\n",
        "  early_stopping = EarlyStopping(monitor='val_loss', patience=3, restore_best_weights=True)\n",
        "\n",
        "  # Train the model with early stopping\n",
        "  history = model.fit(X_train, y_train_one_hot, validation_data=(X_val, y_val_one_hot), batch_size=study.best_params['batch_size'], epochs=50, callbacks=[early_stopping])\n",
        "  # history = model.fit(X_train, y_train_one_hot, validation_data=(X_val, y_val_one_hot), batch_size=16, epochs=50, callbacks=[early_stopping])\n",
        "  # history = model.fit(X_train, y_train_one_hot, validation_data=(X_val, y_val_one_hot), batch_size=16, epochs=50)\n",
        "\n",
        "  # Plot training history\n",
        "  plt.plot(history.history['loss'], label='Training Loss')\n",
        "  plt.plot(history.history['val_loss'], label='Validation Loss')\n",
        "  plt.xlabel('Epoch')\n",
        "  plt.ylabel('Loss')\n",
        "  plt.legend()\n",
        "  plt.title('Training and Validation Loss')\n",
        "  plt.show()\n",
        "\n",
        "  # Evaluate the model\n",
        "  model.summary()\n",
        "  test_loss, test_acc = model.evaluate(X_test, y_test_one_hot)\n",
        "  print('Test accuracy:', test_acc)\n"
      ],
      "metadata": {
        "id": "KwVGjPhQSsCr"
      },
      "execution_count": 15,
      "outputs": []
    },
    {
      "cell_type": "code",
      "source": [
        "train_vgg16_model()"
      ],
      "metadata": {
        "id": "-G7NJPuJSsj9",
        "outputId": "95dd7b54-2d35-41ef-f256-89656b8f7039",
        "colab": {
          "base_uri": "https://localhost:8080/",
          "height": 1000
        }
      },
      "execution_count": 16,
      "outputs": [
        {
          "output_type": "stream",
          "name": "stderr",
          "text": [
            "WARNING:absl:`lr` is deprecated in Keras optimizer, please use `learning_rate` or use the legacy optimizer, e.g.,tf.keras.optimizers.legacy.Adam.\n"
          ]
        },
        {
          "output_type": "stream",
          "name": "stdout",
          "text": [
            "Epoch 1/50\n",
            "175/175 [==============================] - 5s 20ms/step - loss: 1.2541 - accuracy: 0.4811 - val_loss: 0.6940 - val_accuracy: 0.4983\n",
            "Epoch 2/50\n",
            "175/175 [==============================] - 3s 16ms/step - loss: 0.6966 - accuracy: 0.5021 - val_loss: 0.6932 - val_accuracy: 0.5017\n",
            "Epoch 3/50\n",
            "175/175 [==============================] - 3s 16ms/step - loss: 0.6940 - accuracy: 0.5079 - val_loss: 0.6935 - val_accuracy: 0.5017\n",
            "Epoch 4/50\n",
            "175/175 [==============================] - 3s 16ms/step - loss: 0.6932 - accuracy: 0.5079 - val_loss: 0.6932 - val_accuracy: 0.5017\n",
            "Epoch 5/50\n",
            "175/175 [==============================] - 3s 17ms/step - loss: 0.6931 - accuracy: 0.5079 - val_loss: 0.6934 - val_accuracy: 0.5017\n"
          ]
        },
        {
          "output_type": "display_data",
          "data": {
            "text/plain": [
              "<Figure size 640x480 with 1 Axes>"
            ],
            "image/png": "[encoded data removed]"
          },
          "metadata": {}
        },
        {
          "output_type": "stream",
          "name": "stdout",
          "text": [
            "Model: \"sequential_5\"\n",
            "_________________________________________________________________\n",
            " Layer (type)                Output Shape              Param #   \n",
            "=================================================================\n",
            " vgg16 (Functional)          (None, 7, 7, 512)         14714688  \n",
            "                                                                 \n",
            " flatten_5 (Flatten)         (None, 25088)             0         \n",
            "                                                                 \n",
            " dense_15 (Dense)            (None, 512)               12845568  \n",
            "                                                                 \n",
            " dropout (Dropout)           (None, 512)               0         \n",
            "                                                                 \n",
            " dense_16 (Dense)            (None, 2)                 1026      \n",
            "                                                                 \n",
            "=================================================================\n",
            "Total params: 27561282 (105.14 MB)\n",
            "Trainable params: 12846594 (49.01 MB)\n",
            "Non-trainable params: 14714688 (56.13 MB)\n",
            "_________________________________________________________________\n",
            "19/19 [==============================] - 0s 23ms/step - loss: 0.6937 - accuracy: 0.4617\n",
            "Test accuracy: 0.46166667342185974\n"
          ]
        }
      ]
    },
    {
      "cell_type": "markdown",
      "source": [
        "# VGG-LSTM"
      ],
      "metadata": {
        "id": "uvFQIZ33mu7u"
      }
    },
    {
      "cell_type": "code",
      "source": [
        "from tensorflow.keras.models import Sequential, Model\n",
        "from tensorflow.keras.layers import Conv2D, MaxPooling2D, Flatten, Dense, LSTM, Dropout, BatchNormalization, Reshape\n",
        "from tensorflow.keras.optimizers import Adam\n",
        "from tensorflow.keras.applications import VGG16\n",
        "from tensorflow.keras.callbacks import EarlyStopping\n",
        "from tensorflow.keras.utils import to_categorical\n",
        "from tensorflow.keras.regularizers import l2\n",
        "import matplotlib.pyplot as plt\n",
        "from tensorflow.keras.preprocessing.image import ImageDataGenerator\n",
        "\n",
        "def train_vgg16_cnn_lstm_model():\n",
        "    # Load pre-trained VGG16 model without top layers\n",
        "    base_model = VGG16(weights='imagenet', include_top=False, input_shape=(224, 224, 3))\n",
        "\n",
        "    # Freeze the base model layers\n",
        "    for layer in base_model.layers:\n",
        "        layer.trainable = False\n",
        "\n",
        "    # Add custom top layers for classification\n",
        "    vgg16_model = base_model.output\n",
        "    vgg16_model = Flatten()(vgg16_model)\n",
        "    vgg16_model = Dense(1024, activation='relu', kernel_regularizer=l2(0.01))(vgg16_model)\n",
        "    vgg16_model = Dropout(0.6)(vgg16_model)\n",
        "    vgg16_model = Dense(512, activation='relu', kernel_regularizer=l2(0.01))(vgg16_model)\n",
        "    vgg16_model = Dropout(0.6)(vgg16_model)\n",
        "\n",
        "    # Add CNN-LSTM layers\n",
        "    cnn_lstm_model = Reshape((1, 512))(vgg16_model)\n",
        "    cnn_lstm_model = LSTM(256, return_sequences=True, kernel_regularizer=l2(0.01))(cnn_lstm_model) #L2\n",
        "    cnn_lstm_model = Dropout(0.6)(cnn_lstm_model)\n",
        "    cnn_lstm_model = LSTM(256, kernel_regularizer=l2(0.01))(cnn_lstm_model)\n",
        "    cnn_lstm_model = Dropout(0.6)(cnn_lstm_model)\n",
        "\n",
        "    # Add output layer\n",
        "    num_classes = 4  # 클래스 개수 설정\n",
        "    output = Dense(num_classes, activation='softmax')(cnn_lstm_model)\n",
        "\n",
        "    # Create the final model\n",
        "    model = Model(inputs=base_model.input, outputs=output)\n",
        "\n",
        "    # Compile model\n",
        "    optimizer = Adam(lr=study.best_params['lr'])\n",
        "    model.compile(optimizer=optimizer, loss='categorical_crossentropy', metrics=['accuracy'])\n",
        "\n",
        "    # Fine-tuning: Unfreeze some layers and train the entire model with new data\n",
        "    for layer in model.layers:\n",
        "        if 'block4' in layer.name or 'block5' in layer.name:  # Unfreeze layers starting from 'block4'\n",
        "            layer.trainable = True\n",
        "\n",
        "    # Define early stopping callback\n",
        "    #early_stopping = EarlyStopping(monitor='val_loss', patience=5, restore_best_weights=True)\n",
        "\n",
        "    # Data augmentation\n",
        "    train_datagen = ImageDataGenerator(\n",
        "        rescale=1./255,\n",
        "        rotation_range=20,\n",
        "        width_shift_range=0.2,\n",
        "        height_shift_range=0.2,\n",
        "        shear_range=0.2,\n",
        "        zoom_range=0.2,\n",
        "        horizontal_flip=True,\n",
        "        fill_mode='nearest'\n",
        "    )\n",
        "\n",
        "    # Train the model with early stopping and data augmentation\n",
        "    batch_size = study.best_params['batch_size']\n",
        "    train_generator = train_datagen.flow(X_train, y_train_one_hot, batch_size=batch_size)\n",
        "    steps_per_epoch = len(X_train) // batch_size\n",
        "\n",
        "    history = model.fit(\n",
        "        train_generator,\n",
        "        steps_per_epoch=steps_per_epoch,\n",
        "        validation_data=(X_val, y_val_one_hot),\n",
        "        epochs=50\n",
        "    )\n",
        "\n",
        "    # Plot training history\n",
        "    plt.plot(history.history['loss'], label='Training Loss')\n",
        "    plt.plot(history.history['val_loss'], label='Validation Loss')\n",
        "    plt.xlabel('Epoch')\n",
        "    plt.ylabel('Loss')\n",
        "    plt.legend()\n",
        "    plt.title('Training and Validation Loss')\n",
        "    plt.show()\n",
        "\n",
        "    # Evaluate the model\n",
        "    model.summary()\n",
        "    val_loss, val_acc = model.evaluate(X_val, y_val_one_hot)\n",
        "    print('val accuracy:', val_acc)\n",
        "    test_loss, test_acc = model.evaluate(X_test, y_test_one_hot)\n",
        "    print('Test accuracy:', test_acc)"
      ],
      "metadata": {
        "id": "G6Cei5K9cgft"
      },
      "execution_count": 41,
      "outputs": []
    },
    {
      "cell_type": "code",
      "source": [
        "train_vgg16_cnn_lstm_model()"
      ],
      "metadata": {
        "colab": {
          "base_uri": "https://localhost:8080/",
          "height": 1000
        },
        "id": "gf6q3umTkcMR",
        "outputId": "df73f8ea-3ef2-4e5a-9efa-e87a499061fa"
      },
      "execution_count": 42,
      "outputs": [
        {
          "metadata": {
            "tags": null
          },
          "name": "stderr",
          "output_type": "stream",
          "text": [
            "WARNING:absl:`lr` is deprecated in Keras optimizer, please use `learning_rate` or use the legacy optimizer, e.g.,tf.keras.optimizers.legacy.Adam.\n"
          ]
        },
        {
          "output_type": "stream",
          "name": "stdout",
          "text": [
            "Epoch 1/50\n",
            "175/175 [==============================] - 34s 171ms/step - loss: 4.3363 - accuracy: 0.5107 - val_loss: 1.1387 - val_accuracy: 0.5017\n",
            "Epoch 2/50\n",
            "175/175 [==============================] - 29s 167ms/step - loss: 0.8866 - accuracy: 0.5046 - val_loss: 0.7593 - val_accuracy: 0.5017\n",
            "Epoch 3/50\n",
            "175/175 [==============================] - 29s 167ms/step - loss: 0.7259 - accuracy: 0.5079 - val_loss: 0.7072 - val_accuracy: 0.5017\n",
            "Epoch 4/50\n",
            "175/175 [==============================] - 29s 167ms/step - loss: 0.7010 - accuracy: 0.5007 - val_loss: 0.6974 - val_accuracy: 0.5017\n",
            "Epoch 5/50\n",
            "175/175 [==============================] - 29s 165ms/step - loss: 0.6957 - accuracy: 0.5064 - val_loss: 0.6944 - val_accuracy: 0.5017\n",
            "Epoch 6/50\n",
            "175/175 [==============================] - 29s 167ms/step - loss: 0.6942 - accuracy: 0.4979 - val_loss: 0.6937 - val_accuracy: 0.5017\n",
            "Epoch 7/50\n",
            "175/175 [==============================] - 29s 166ms/step - loss: 0.6937 - accuracy: 0.5014 - val_loss: 0.6935 - val_accuracy: 0.5017\n",
            "Epoch 8/50\n",
            "175/175 [==============================] - 29s 167ms/step - loss: 0.6934 - accuracy: 0.5032 - val_loss: 0.6933 - val_accuracy: 0.5017\n",
            "Epoch 9/50\n",
            "175/175 [==============================] - 29s 165ms/step - loss: 0.6936 - accuracy: 0.5104 - val_loss: 0.6932 - val_accuracy: 0.5017\n",
            "Epoch 10/50\n",
            "175/175 [==============================] - 29s 165ms/step - loss: 0.6933 - accuracy: 0.4961 - val_loss: 0.6932 - val_accuracy: 0.5017\n",
            "Epoch 11/50\n",
            "175/175 [==============================] - 29s 168ms/step - loss: 0.6931 - accuracy: 0.5086 - val_loss: 0.6932 - val_accuracy: 0.5017\n",
            "Epoch 12/50\n",
            "175/175 [==============================] - 29s 167ms/step - loss: 0.6935 - accuracy: 0.4986 - val_loss: 0.6932 - val_accuracy: 0.5017\n",
            "Epoch 13/50\n",
            "175/175 [==============================] - 29s 164ms/step - loss: 0.6937 - accuracy: 0.4989 - val_loss: 0.6934 - val_accuracy: 0.5017\n",
            "Epoch 14/50\n",
            "175/175 [==============================] - 29s 165ms/step - loss: 0.6932 - accuracy: 0.5007 - val_loss: 0.6932 - val_accuracy: 0.5017\n",
            "Epoch 15/50\n",
            "175/175 [==============================] - 29s 166ms/step - loss: 0.6931 - accuracy: 0.5054 - val_loss: 0.6932 - val_accuracy: 0.5017\n",
            "Epoch 16/50\n",
            "175/175 [==============================] - 29s 168ms/step - loss: 0.6936 - accuracy: 0.5014 - val_loss: 0.6933 - val_accuracy: 0.5017\n",
            "Epoch 17/50\n",
            "175/175 [==============================] - 29s 165ms/step - loss: 0.6933 - accuracy: 0.4979 - val_loss: 0.6933 - val_accuracy: 0.5017\n",
            "Epoch 18/50\n",
            "175/175 [==============================] - 29s 167ms/step - loss: 0.6932 - accuracy: 0.5086 - val_loss: 0.6936 - val_accuracy: 0.5017\n",
            "Epoch 19/50\n",
            "175/175 [==============================] - 29s 168ms/step - loss: 0.6935 - accuracy: 0.5039 - val_loss: 0.6932 - val_accuracy: 0.5017\n",
            "Epoch 20/50\n",
            "175/175 [==============================] - 29s 167ms/step - loss: 0.6941 - accuracy: 0.5043 - val_loss: 0.6932 - val_accuracy: 0.5017\n",
            "Epoch 21/50\n",
            "175/175 [==============================] - 29s 165ms/step - loss: 0.6937 - accuracy: 0.4964 - val_loss: 0.6932 - val_accuracy: 0.4983\n",
            "Epoch 22/50\n",
            "175/175 [==============================] - 29s 166ms/step - loss: 0.6935 - accuracy: 0.5100 - val_loss: 0.6932 - val_accuracy: 0.4983\n",
            "Epoch 23/50\n",
            "175/175 [==============================] - 29s 167ms/step - loss: 0.6932 - accuracy: 0.5046 - val_loss: 0.6934 - val_accuracy: 0.5017\n",
            "Epoch 24/50\n",
            "175/175 [==============================] - 29s 166ms/step - loss: 0.6934 - accuracy: 0.5086 - val_loss: 0.6935 - val_accuracy: 0.5017\n",
            "Epoch 25/50\n",
            "175/175 [==============================] - 29s 166ms/step - loss: 0.6938 - accuracy: 0.5021 - val_loss: 0.6932 - val_accuracy: 0.5017\n",
            "Epoch 26/50\n",
            "175/175 [==============================] - 29s 166ms/step - loss: 0.6938 - accuracy: 0.4918 - val_loss: 0.6932 - val_accuracy: 0.5017\n",
            "Epoch 27/50\n",
            "175/175 [==============================] - 29s 167ms/step - loss: 0.6933 - accuracy: 0.4961 - val_loss: 0.6933 - val_accuracy: 0.5017\n",
            "Epoch 28/50\n",
            "175/175 [==============================] - 29s 166ms/step - loss: 0.6934 - accuracy: 0.5075 - val_loss: 0.6934 - val_accuracy: 0.5017\n",
            "Epoch 29/50\n",
            "175/175 [==============================] - 29s 165ms/step - loss: 0.6935 - accuracy: 0.5025 - val_loss: 0.6932 - val_accuracy: 0.5017\n",
            "Epoch 30/50\n",
            "175/175 [==============================] - 29s 166ms/step - loss: 0.6934 - accuracy: 0.4936 - val_loss: 0.6932 - val_accuracy: 0.5017\n",
            "Epoch 31/50\n",
            "175/175 [==============================] - 29s 167ms/step - loss: 0.6939 - accuracy: 0.4946 - val_loss: 0.6932 - val_accuracy: 0.5017\n",
            "Epoch 32/50\n",
            "175/175 [==============================] - 29s 167ms/step - loss: 0.6937 - accuracy: 0.4904 - val_loss: 0.6933 - val_accuracy: 0.5017\n",
            "Epoch 33/50\n",
            "175/175 [==============================] - 29s 164ms/step - loss: 0.6934 - accuracy: 0.5043 - val_loss: 0.6933 - val_accuracy: 0.5017\n",
            "Epoch 34/50\n",
            "175/175 [==============================] - 29s 166ms/step - loss: 0.6934 - accuracy: 0.5018 - val_loss: 0.6933 - val_accuracy: 0.5017\n",
            "Epoch 35/50\n",
            "175/175 [==============================] - 29s 167ms/step - loss: 0.6937 - accuracy: 0.5100 - val_loss: 0.6934 - val_accuracy: 0.5017\n",
            "Epoch 36/50\n",
            "175/175 [==============================] - 29s 166ms/step - loss: 0.6934 - accuracy: 0.5114 - val_loss: 0.6934 - val_accuracy: 0.5017\n",
            "Epoch 37/50\n",
            "175/175 [==============================] - 29s 165ms/step - loss: 0.6934 - accuracy: 0.5029 - val_loss: 0.6933 - val_accuracy: 0.5017\n",
            "Epoch 38/50\n",
            "175/175 [==============================] - 29s 167ms/step - loss: 0.6934 - accuracy: 0.5014 - val_loss: 0.6934 - val_accuracy: 0.5017\n",
            "Epoch 39/50\n",
            "175/175 [==============================] - 29s 166ms/step - loss: 0.6934 - accuracy: 0.5014 - val_loss: 0.6936 - val_accuracy: 0.5017\n",
            "Epoch 40/50\n",
            "175/175 [==============================] - 29s 167ms/step - loss: 0.6935 - accuracy: 0.5014 - val_loss: 0.6933 - val_accuracy: 0.5017\n",
            "Epoch 41/50\n",
            "175/175 [==============================] - 29s 165ms/step - loss: 0.6932 - accuracy: 0.5154 - val_loss: 0.6937 - val_accuracy: 0.5017\n",
            "Epoch 42/50\n",
            "175/175 [==============================] - 29s 166ms/step - loss: 0.6934 - accuracy: 0.5054 - val_loss: 0.6937 - val_accuracy: 0.5017\n",
            "Epoch 43/50\n",
            "175/175 [==============================] - 29s 167ms/step - loss: 0.6937 - accuracy: 0.5011 - val_loss: 0.6936 - val_accuracy: 0.5017\n",
            "Epoch 44/50\n",
            "175/175 [==============================] - 29s 166ms/step - loss: 0.6934 - accuracy: 0.5082 - val_loss: 0.6936 - val_accuracy: 0.5017\n",
            "Epoch 45/50\n",
            "175/175 [==============================] - 29s 164ms/step - loss: 0.6937 - accuracy: 0.5068 - val_loss: 0.6936 - val_accuracy: 0.5017\n",
            "Epoch 46/50\n",
            "175/175 [==============================] - 29s 165ms/step - loss: 0.6938 - accuracy: 0.4993 - val_loss: 0.6937 - val_accuracy: 0.5017\n",
            "Epoch 47/50\n",
            "175/175 [==============================] - 29s 167ms/step - loss: 0.6934 - accuracy: 0.5129 - val_loss: 0.6936 - val_accuracy: 0.5017\n",
            "Epoch 48/50\n",
            "175/175 [==============================] - 29s 167ms/step - loss: 0.6939 - accuracy: 0.5036 - val_loss: 0.6935 - val_accuracy: 0.5017\n",
            "Epoch 49/50\n",
            "175/175 [==============================] - 29s 164ms/step - loss: 0.6936 - accuracy: 0.5068 - val_loss: 0.6936 - val_accuracy: 0.5017\n",
            "Epoch 50/50\n",
            "175/175 [==============================] - 29s 166ms/step - loss: 0.6938 - accuracy: 0.4946 - val_loss: 0.6934 - val_accuracy: 0.5017\n"
          ]
        },
        {
          "output_type": "display_data",
          "data": {
            "text/plain": [
              "<Figure size 640x480 with 1 Axes>"
            ],
            "image/png": "[encoded data removed]"
          },
          "metadata": {}
        },
        {
          "output_type": "stream",
          "name": "stdout",
          "text": [
            "Model: \"model_12\"\n",
            "_________________________________________________________________\n",
            " Layer (type)                Output Shape              Param #   \n",
            "=================================================================\n",
            " input_19 (InputLayer)       [(None, 224, 224, 3)]     0         \n",
            "                                                                 \n",
            " block1_conv1 (Conv2D)       (None, 224, 224, 64)      1792      \n",
            "                                                                 \n",
            " block1_conv2 (Conv2D)       (None, 224, 224, 64)      36928     \n",
            "                                                                 \n",
            " block1_pool (MaxPooling2D)  (None, 112, 112, 64)      0         \n",
            "                                                                 \n",
            " block2_conv1 (Conv2D)       (None, 112, 112, 128)     73856     \n",
            "                                                                 \n",
            " block2_conv2 (Conv2D)       (None, 112, 112, 128)     147584    \n",
            "                                                                 \n",
            " block2_pool (MaxPooling2D)  (None, 56, 56, 128)       0         \n",
            "                                                                 \n",
            " block3_conv1 (Conv2D)       (None, 56, 56, 256)       295168    \n",
            "                                                                 \n",
            " block3_conv2 (Conv2D)       (None, 56, 56, 256)       590080    \n",
            "                                                                 \n",
            " block3_conv3 (Conv2D)       (None, 56, 56, 256)       590080    \n",
            "                                                                 \n",
            " block3_pool (MaxPooling2D)  (None, 28, 28, 256)       0         \n",
            "                                                                 \n",
            " block4_conv1 (Conv2D)       (None, 28, 28, 512)       1180160   \n",
            "                                                                 \n",
            " block4_conv2 (Conv2D)       (None, 28, 28, 512)       2359808   \n",
            "                                                                 \n",
            " block4_conv3 (Conv2D)       (None, 28, 28, 512)       2359808   \n",
            "                                                                 \n",
            " block4_pool (MaxPooling2D)  (None, 14, 14, 512)       0         \n",
            "                                                                 \n",
            " block5_conv1 (Conv2D)       (None, 14, 14, 512)       2359808   \n",
            "                                                                 \n",
            " block5_conv2 (Conv2D)       (None, 14, 14, 512)       2359808   \n",
            "                                                                 \n",
            " block5_conv3 (Conv2D)       (None, 14, 14, 512)       2359808   \n",
            "                                                                 \n",
            " block5_pool (MaxPooling2D)  (None, 7, 7, 512)         0         \n",
            "                                                                 \n",
            " flatten_18 (Flatten)        (None, 25088)             0         \n",
            "                                                                 \n",
            " dense_53 (Dense)            (None, 1024)              25691136  \n",
            "                                                                 \n",
            " dropout_41 (Dropout)        (None, 1024)              0         \n",
            "                                                                 \n",
            " dense_54 (Dense)            (None, 512)               524800    \n",
            "                                                                 \n",
            " dropout_42 (Dropout)        (None, 512)               0         \n",
            "                                                                 \n",
            " reshape_12 (Reshape)        (None, 1, 512)            0         \n",
            "                                                                 \n",
            " lstm_24 (LSTM)              (None, 1, 256)            787456    \n",
            "                                                                 \n",
            " dropout_43 (Dropout)        (None, 1, 256)            0         \n",
            "                                                                 \n",
            " lstm_25 (LSTM)              (None, 256)               525312    \n",
            "                                                                 \n",
            " dropout_44 (Dropout)        (None, 256)               0         \n",
            "                                                                 \n",
            " dense_55 (Dense)            (None, 2)                 514       \n",
            "                                                                 \n",
            "=================================================================\n",
            "Total params: 42243906 (161.15 MB)\n",
            "Trainable params: 40508418 (154.53 MB)\n",
            "Non-trainable params: 1735488 (6.62 MB)\n",
            "_________________________________________________________________\n",
            "19/19 [==============================] - 0s 23ms/step - loss: 0.6934 - accuracy: 0.5017\n",
            "val accuracy: 0.5016666650772095\n",
            "19/19 [==============================] - 0s 23ms/step - loss: 0.6946 - accuracy: 0.4617\n",
            "Test accuracy: 0.46166667342185974\n"
          ]
        }
      ]
    }
  ]
}
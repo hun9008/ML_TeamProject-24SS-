{
  "nbformat": 4,
  "nbformat_minor": 0,
  "metadata": {
    "colab": {
      "provenance": [],
      "machine_shape": "hm",
      "gpuType": "A100",
      "authorship_tag": "ABX9TyNcfSzkct0ZJrgQop2Nfr+I",
      "include_colab_link": true
    },
    "kernelspec": {
      "name": "python3",
      "display_name": "Python 3"
    },
    "language_info": {
      "name": "python"
    },
    "accelerator": "GPU"
  },
  "cells": [
    {
      "cell_type": "markdown",
      "metadata": {
        "id": "view-in-github",
        "colab_type": "text"
      },
      "source": [
        "<a href=\"https://colab.research.google.com/github/hun9008/ML_TeamProject_24SS/blob/main/VGG16_optimal.ipynb\" target=\"_parent\"><img src=\"https://colab.research.google.com/assets/colab-badge.svg\" alt=\"Open In Colab\"/></a>"
      ]
    },
    {
      "cell_type": "code",
      "execution_count": 1,
      "metadata": {
        "colab": {
          "base_uri": "https://localhost:8080/"
        },
        "id": "MaQi2LTwPNco",
        "outputId": "e5af58c7-2e51-44a2-880f-e45abbf19bee"
      },
      "outputs": [
        {
          "output_type": "stream",
          "name": "stdout",
          "text": [
            "Drive already mounted at /content/drive; to attempt to forcibly remount, call drive.mount(\"/content/drive\", force_remount=True).\n"
          ]
        }
      ],
      "source": [
        "from google.colab import drive\n",
        "drive.mount('/content/drive')"
      ]
    },
    {
      "cell_type": "code",
      "source": [
        "cd /content/drive/MyDrive/ML_TeamProject/"
      ],
      "metadata": {
        "colab": {
          "base_uri": "https://localhost:8080/"
        },
        "id": "_O_T_aU6PdD1",
        "outputId": "72bc8575-d424-4d79-ea17-d3856703a768"
      },
      "execution_count": 2,
      "outputs": [
        {
          "output_type": "stream",
          "name": "stdout",
          "text": [
            "/content/drive/MyDrive/ML_TeamProject\n"
          ]
        }
      ]
    },
    {
      "cell_type": "code",
      "source": [
        "ls"
      ],
      "metadata": {
        "colab": {
          "base_uri": "https://localhost:8080/"
        },
        "id": "_3zfoxPtPjlS",
        "outputId": "e08a3bdf-8217-475d-d481-ffbd96dcf4b2"
      },
      "execution_count": 3,
      "outputs": [
        {
          "output_type": "stream",
          "name": "stdout",
          "text": [
            "\u001b[0m\u001b[01;34mdata\u001b[0m/             \u001b[01;34mimages_png\u001b[0m/                                        VGG.ipynb\n",
            "\u001b[01;34mimages_gray_jpg\u001b[0m/  \u001b[01;34mpreprocessed_images_40\u001b[0m/                            \u001b[01;34m무_train_labeled_2000\u001b[0m/\n",
            "\u001b[01;34mimages_gray_png\u001b[0m/  PreTest.ipynb\n",
            "\u001b[01;34mimages_jpg\u001b[0m/       vgg16_weights_tf_dim_ordering_tf_kernels_notop.h5\n"
          ]
        }
      ]
    },
    {
      "cell_type": "code",
      "source": [
        "import tensorflow as tf\n",
        "import os\n",
        "import pickle\n",
        "import optuna\n",
        "import pandas as pd\n",
        "import numpy as np\n",
        "from tensorflow.keras.callbacks import EarlyStopping\n",
        "import matplotlib.pyplot as plt\n",
        "from optuna.visualization import plot_optimization_history\n",
        "from sklearn.model_selection import train_test_split\n",
        "from tensorflow.keras.applications import VGG16\n",
        "from tensorflow.keras.models import Sequential\n",
        "from tensorflow.keras.layers import Dense, Flatten, Conv2D, MaxPooling2D\n",
        "from tensorflow.keras.optimizers import Adam\n",
        "from tensorflow.keras.utils import to_categorical\n",
        "\n",
        "gpus = tf.config.experimental.list_physical_devices('GPU')\n",
        "if gpus:\n",
        "  try:\n",
        "    # Currently, memory growth needs to be the same across GPUs\n",
        "    for gpu in gpus:\n",
        "      tf.config.experimental.set_memory_growth(gpu, True)\n",
        "    logical_gpus = tf.config.experimental.list_logical_devices('GPU')\n",
        "    print(len(gpus), \"Physical GPUs,\", len(logical_gpus), \"Logical GPUs\")\n",
        "  except RuntimeError as e:\n",
        "    # Memory growth must be set before GPUs have been initialized\n",
        "    print(e)\n"
      ],
      "metadata": {
        "colab": {
          "base_uri": "https://localhost:8080/"
        },
        "id": "KE16NJ5TPlN_",
        "outputId": "dbec89e0-25c6-4e23-9765-a9010d19c572"
      },
      "execution_count": 4,
      "outputs": [
        {
          "output_type": "stream",
          "name": "stdout",
          "text": [
            "1 Physical GPUs, 1 Logical GPUs\n"
          ]
        }
      ]
    },
    {
      "cell_type": "code",
      "source": [
        "image_jpg_path = \"/content/drive/My Drive/ML_TeamProject/images_jpg\"\n",
        "image_png_path = \"/content/drive/My Drive/ML_TeamProject/images_png\"\n",
        "image_gray_jpg_path = \"/content/drive/My Drive/ML_TeamProject/images_gray_jpg\"\n",
        "image_gray_png_path = \"/content/drive/My Drive/ML_TeamProject/images_gray_png\""
      ],
      "metadata": {
        "id": "34-qwn4kPr92"
      },
      "execution_count": 5,
      "outputs": []
    },
    {
      "cell_type": "code",
      "source": [
        "os.chdir(\"/content/drive/My Drive/ML_TeamProject/images_png\")\n",
        "!ls"
      ],
      "metadata": {
        "colab": {
          "base_uri": "https://localhost:8080/"
        },
        "id": "fJHViDgyXvON",
        "outputId": "c54147d3-cd44-48df-e261-926b215a4a5c"
      },
      "execution_count": 7,
      "outputs": [
        {
          "output_type": "stream",
          "name": "stdout",
          "text": [
            "images_png.zip\tincipient  mature  no  overripe\n"
          ]
        }
      ]
    },
    {
      "cell_type": "code",
      "source": [
        "# !unzip -q images_gray_jpg.zip"
      ],
      "metadata": {
        "id": "mviidsa8f6d_"
      },
      "execution_count": 8,
      "outputs": []
    },
    {
      "cell_type": "code",
      "source": [
        "!ls"
      ],
      "metadata": {
        "colab": {
          "base_uri": "https://localhost:8080/"
        },
        "id": "2-7FLrXEgifM",
        "outputId": "51f7626e-816f-4fd8-8d70-750dc036537e"
      },
      "execution_count": 9,
      "outputs": [
        {
          "output_type": "stream",
          "name": "stdout",
          "text": [
            "images_png.zip\tincipient  mature  no  overripe\n"
          ]
        }
      ]
    },
    {
      "cell_type": "code",
      "source": [
        "image_path = image_png_path"
      ],
      "metadata": {
        "id": "DVt1LWReYSTP"
      },
      "execution_count": 10,
      "outputs": []
    },
    {
      "cell_type": "code",
      "source": [
        "# os.rename('overripe_train_labeled_2000','overripe')\n",
        "# os.rename('no_train_labeled_2000','no')\n",
        "# os.rename('mature_train_labeled_2000','mature')\n",
        "# os.rename('incipient_train_labeled_2000','incipient')"
      ],
      "metadata": {
        "id": "0ieRIPFVa0O2"
      },
      "execution_count": null,
      "outputs": []
    },
    {
      "cell_type": "code",
      "source": [
        "!ls"
      ],
      "metadata": {
        "colab": {
          "base_uri": "https://localhost:8080/"
        },
        "id": "SnrQQu92guqG",
        "outputId": "a925d6cc-7f0e-4250-8dee-a10ab365d717"
      },
      "execution_count": 11,
      "outputs": [
        {
          "output_type": "stream",
          "name": "stdout",
          "text": [
            "images_png.zip\tincipient  mature  no  overripe\n"
          ]
        }
      ]
    },
    {
      "cell_type": "markdown",
      "source": [
        "Pickle load to variable"
      ],
      "metadata": {
        "id": "dNicedTHaWLX"
      }
    },
    {
      "cell_type": "code",
      "source": [
        "os.chdir(os.path.join(image_path, 'overripe'))\n",
        "with open('zero_centering.pkl', 'rb') as f:\n",
        "     overripe = pickle.load(f)\n",
        "     print('overripe : ', len(overripe))\n",
        "os.chdir(os.path.join(image_path, 'no'))\n",
        "with open('zero_centering.pkl', 'rb') as f:\n",
        "     no = pickle.load(f)\n",
        "     print('no : ', len(no))\n",
        "\n",
        "os.chdir(os.path.join(image_path, 'mature'))\n",
        "with open('zero_centering.pkl', 'rb') as f:\n",
        "     mature = pickle.load(f)\n",
        "     print('mature : ', len(mature))\n",
        "\n",
        "os.chdir(os.path.join(image_path, 'incipient'))\n",
        "with open('zero_centering.pkl', 'rb') as f:\n",
        "     incipient = pickle.load(f)\n",
        "     print('incipient : ', len(incipient))"
      ],
      "metadata": {
        "colab": {
          "base_uri": "https://localhost:8080/"
        },
        "id": "Gxkl8HkPXz1y",
        "outputId": "98daee06-85c8-4f70-d766-7e7b90311806"
      },
      "execution_count": 12,
      "outputs": [
        {
          "output_type": "stream",
          "name": "stdout",
          "text": [
            "overripe :  2000\n",
            "no :  2000\n",
            "mature :  2000\n",
            "incipient :  2000\n"
          ]
        }
      ]
    },
    {
      "cell_type": "markdown",
      "source": [
        "Dictionary to numpy array"
      ],
      "metadata": {
        "id": "LIY8mkCtabv1"
      }
    },
    {
      "cell_type": "code",
      "source": [
        "# overripe의 모든 사진에 대해 반복\n",
        "overripe_data_list = []\n",
        "\n",
        "for filename, data in overripe.items():\n",
        "    zero_centering_value = data.get('zero_centering')\n",
        "    overripe_data_list.append(np.array(zero_centering_value))\n",
        "\n",
        "# 리스트를 NumPy 배열로 변환\n",
        "overripe_data = np.array(overripe_data_list)\n",
        "\n",
        "# 확인을 위해 배열의 크기 출력\n",
        "print(\"overripe_data shape:\", overripe_data.shape)\n",
        "no_data_list = []\n",
        "\n",
        "for filename, data in no.items():\n",
        "    zero_centering_value = data.get('zero_centering')\n",
        "    no_data_list.append(np.array(zero_centering_value))\n",
        "\n",
        "# 리스트를 NumPy 배열로 변환\n",
        "no_data = np.array(no_data_list)\n",
        "\n",
        "# 확인을 위해 배열의 크기 출력\n",
        "print(\"no_data shape:\", no_data.shape)\n",
        "\n",
        "mature_data_list = []\n",
        "\n",
        "for filename, data in mature.items():\n",
        "    zero_centering_value = data.get('zero_centering')\n",
        "    mature_data_list.append(np.array(zero_centering_value))\n",
        "\n",
        "# 리스트를 NumPy 배열로 변환\n",
        "mature_data = np.array(mature_data_list)\n",
        "\n",
        "# 확인을 위해 배열의 크기 출력\n",
        "print(\"mature_data shape:\", mature_data.shape)\n",
        "\n",
        "incipient_data_list = []\n",
        "\n",
        "for filename, data in incipient.items():\n",
        "    zero_centering_value = data.get('zero_centering')\n",
        "    incipient_data_list.append(np.array(zero_centering_value))\n",
        "\n",
        "# 리스트를 NumPy 배열로 변환\n",
        "incipient_data = np.array(incipient_data_list)\n",
        "\n",
        "# 확인을 위해 배열의 크기 출력\n",
        "print(\"incipient_data shape:\", incipient_data.shape)"
      ],
      "metadata": {
        "colab": {
          "base_uri": "https://localhost:8080/"
        },
        "id": "yxMGqb3NYVh1",
        "outputId": "141af574-72b4-4d04-a274-bcd495279e8e"
      },
      "execution_count": 13,
      "outputs": [
        {
          "output_type": "stream",
          "name": "stdout",
          "text": [
            "overripe_data shape: (2000, 224, 224, 3)\n",
            "no_data shape: (2000, 224, 224, 3)\n",
            "mature_data shape: (2000, 224, 224, 3)\n",
            "incipient_data shape: (2000, 224, 224, 3)\n"
          ]
        }
      ]
    },
    {
      "cell_type": "markdown",
      "source": [
        "Train Val Test split (0.75:0.15:0.15)"
      ],
      "metadata": {
        "id": "6QXUwoi-akaH"
      }
    },
    {
      "cell_type": "code",
      "source": [
        "# 데이터를 train/validation/test로 나누기\n",
        "X = np.concatenate((overripe_data, no_data, mature_data, incipient_data), axis=0)\n",
        "y = np.concatenate((np.zeros(overripe_data.shape[0]), np.ones(no_data.shape[0]),\n",
        "                    2*np.ones(mature_data.shape[0]), 3*np.ones(incipient_data.shape[0])))\n",
        "\n",
        "X_train, X_temp, y_train, y_temp = train_test_split(X, y, test_size=0.3, random_state=42)\n",
        "X_val, X_test, y_val, y_test = train_test_split(X_temp, y_temp, test_size=0.5, random_state=42)\n",
        "\n",
        "print(X_train.shape)\n",
        "print(X_val.shape)\n",
        "print(X_test.shape)"
      ],
      "metadata": {
        "colab": {
          "base_uri": "https://localhost:8080/"
        },
        "id": "bsXIqEfraDw-",
        "outputId": "fb51b5fe-7d60-4c2d-8f66-0f9a372f379f"
      },
      "execution_count": 14,
      "outputs": [
        {
          "output_type": "stream",
          "name": "stdout",
          "text": [
            "(5600, 224, 224, 3)\n",
            "(1200, 224, 224, 3)\n",
            "(1200, 224, 224, 3)\n"
          ]
        }
      ]
    },
    {
      "cell_type": "markdown",
      "source": [
        "y one-hot"
      ],
      "metadata": {
        "id": "fC5k-MspbVG3"
      }
    },
    {
      "cell_type": "code",
      "source": [
        "y_train_one_hot = to_categorical(y_train)\n",
        "y_val_one_hot = to_categorical(y_val)\n",
        "y_test_one_hot = to_categorical(y_test)"
      ],
      "metadata": {
        "id": "MPyh4QsebQm_"
      },
      "execution_count": 15,
      "outputs": []
    },
    {
      "cell_type": "markdown",
      "source": [
        "# Hyperparameter tuning"
      ],
      "metadata": {
        "id": "BaftsMKqbdz4"
      }
    },
    {
      "cell_type": "code",
      "source": [
        "# memory reduce\n",
        "del overripe, no, mature, incipient\n",
        "del overripe_data, no_data, mature_data, incipient_data\n",
        "del overripe_data_list, no_data_list, mature_data_list, incipient_data_list\n",
        "del X, y\n",
        "del y_train, y_temp, y_val, y_test"
      ],
      "metadata": {
        "id": "1LZA8OcqbdZm"
      },
      "execution_count": 16,
      "outputs": []
    },
    {
      "cell_type": "code",
      "source": [
        "\n",
        "def objective(trial, X_train, y_train, X_val, y_val):\n",
        "    # Define parameters to be tuned\n",
        "    # 여기서 lr, epochs, batch_size가 하이퍼파라미터튜닝 대상입니다.\n",
        "    lr = trial.suggest_loguniform('lr', 1e-5, 1e-3)  # Learning rate\n",
        "    epochs = 10\n",
        "    batch_size = trial.suggest_categorical('batch_size', [16, 32, 64])  # Batch size\n",
        "\n",
        "    # Load pre-trained VGG16 model without top layers\n",
        "    base_model = VGG16(weights='imagenet', include_top=False, input_shape=(224, 224, 3))\n",
        "\n",
        "    # Freeze the base model layers\n",
        "    for layer in base_model.layers:\n",
        "        layer.trainable = False\n",
        "\n",
        "    # Add custom top layers for classification\n",
        "    model = Sequential([\n",
        "        base_model,\n",
        "        Flatten(),\n",
        "        Dense(4096, activation='relu'),\n",
        "        Dense(4096, activation='relu'),\n",
        "        Dense(4, activation='softmax')  # Assuming 4 classes for classification\n",
        "    ])\n",
        "\n",
        "    # Compile model\n",
        "    optimizer = Adam(lr=lr)\n",
        "    model.compile(optimizer=optimizer, loss='categorical_crossentropy', metrics=['accuracy'])\n",
        "\n",
        "    # Train the model\n",
        "    history = model.fit(X_train, y_train, validation_data=(X_val, y_val), epochs=epochs, batch_size=batch_size)\n",
        "\n",
        "    # Evaluate the model\n",
        "    val_loss = history.history['val_loss'][-1]\n",
        "    return val_loss\n"
      ],
      "metadata": {
        "id": "PJTgPAoecA5T"
      },
      "execution_count": 17,
      "outputs": []
    },
    {
      "cell_type": "code",
      "source": [
        "# Run Optuna optimization\n",
        "study = optuna.create_study(direction='minimize')\n",
        "study.optimize(lambda trial: objective(trial, X_train, y_train_one_hot, X_val, y_val_one_hot), n_trials=5)\n",
        "\n",
        "# Get the best parameters\n",
        "best_params = study.best_params\n",
        "print(\"Best parameters:\", best_params)"
      ],
      "metadata": {
        "colab": {
          "base_uri": "https://localhost:8080/"
        },
        "id": "btCcMsLwcP4z",
        "outputId": "0dba4ee3-07dd-4ebf-969e-cfbb4a2464ef"
      },
      "execution_count": 18,
      "outputs": [
        {
          "output_type": "stream",
          "name": "stderr",
          "text": [
            "[I 2024-05-09 14:22:15,931] A new study created in memory with name: no-name-ead5e2da-894b-4a2f-acb9-ad57be670ccf\n",
            "<ipython-input-17-b90f7572b410>:3: FutureWarning: suggest_loguniform has been deprecated in v3.0.0. This feature will be removed in v6.0.0. See https://github.com/optuna/optuna/releases/tag/v3.0.0. Use suggest_float(..., log=True) instead.\n",
            "  lr = trial.suggest_loguniform('lr', 1e-5, 1e-3)  # Learning rate\n",
            "WARNING:absl:`lr` is deprecated in Keras optimizer, please use `learning_rate` or use the legacy optimizer, e.g.,tf.keras.optimizers.legacy.Adam.\n"
          ]
        },
        {
          "output_type": "stream",
          "name": "stdout",
          "text": [
            "Epoch 1/10\n",
            "350/350 [==============================] - 12s 26ms/step - loss: 1.3506 - accuracy: 0.5505 - val_loss: 0.8426 - val_accuracy: 0.5508\n",
            "Epoch 2/10\n",
            "350/350 [==============================] - 7s 21ms/step - loss: 0.7393 - accuracy: 0.6441 - val_loss: 0.7984 - val_accuracy: 0.6025\n",
            "Epoch 3/10\n",
            "350/350 [==============================] - 7s 21ms/step - loss: 0.6581 - accuracy: 0.6955 - val_loss: 0.7525 - val_accuracy: 0.6325\n",
            "Epoch 4/10\n",
            "350/350 [==============================] - 7s 21ms/step - loss: 0.5707 - accuracy: 0.7420 - val_loss: 0.7567 - val_accuracy: 0.6117\n",
            "Epoch 5/10\n",
            "350/350 [==============================] - 7s 21ms/step - loss: 0.5277 - accuracy: 0.7616 - val_loss: 0.7609 - val_accuracy: 0.6767\n",
            "Epoch 6/10\n",
            "350/350 [==============================] - 7s 21ms/step - loss: 0.4230 - accuracy: 0.8238 - val_loss: 0.7868 - val_accuracy: 0.6625\n",
            "Epoch 7/10\n",
            "350/350 [==============================] - 7s 21ms/step - loss: 0.3495 - accuracy: 0.8646 - val_loss: 0.8633 - val_accuracy: 0.6592\n",
            "Epoch 8/10\n",
            "350/350 [==============================] - 8s 22ms/step - loss: 0.2941 - accuracy: 0.8891 - val_loss: 0.9218 - val_accuracy: 0.6642\n",
            "Epoch 9/10\n",
            "350/350 [==============================] - 8s 22ms/step - loss: 0.2295 - accuracy: 0.9146 - val_loss: 0.9557 - val_accuracy: 0.6767\n",
            "Epoch 10/10\n",
            "350/350 [==============================] - 8s 22ms/step - loss: 0.1989 - accuracy: 0.9245 - val_loss: 1.1013 - val_accuracy: 0.6633\n"
          ]
        },
        {
          "output_type": "stream",
          "name": "stderr",
          "text": [
            "[I 2024-05-09 14:23:41,022] Trial 0 finished with value: 1.1013264656066895 and parameters: {'lr': 1.983695321134833e-05, 'batch_size': 16}. Best is trial 0 with value: 1.1013264656066895.\n",
            "WARNING:absl:`lr` is deprecated in Keras optimizer, please use `learning_rate` or use the legacy optimizer, e.g.,tf.keras.optimizers.legacy.Adam.\n"
          ]
        },
        {
          "output_type": "stream",
          "name": "stdout",
          "text": [
            "Epoch 1/10\n",
            "350/350 [==============================] - 11s 26ms/step - loss: 1.3086 - accuracy: 0.5550 - val_loss: 0.8601 - val_accuracy: 0.5317\n",
            "Epoch 2/10\n",
            "350/350 [==============================] - 7s 21ms/step - loss: 0.7328 - accuracy: 0.6455 - val_loss: 0.8008 - val_accuracy: 0.5950\n",
            "Epoch 3/10\n",
            "350/350 [==============================] - 7s 21ms/step - loss: 0.6237 - accuracy: 0.7139 - val_loss: 0.8267 - val_accuracy: 0.6308\n",
            "Epoch 4/10\n",
            "350/350 [==============================] - 7s 21ms/step - loss: 0.5562 - accuracy: 0.7538 - val_loss: 0.7644 - val_accuracy: 0.6425\n",
            "Epoch 5/10\n",
            "350/350 [==============================] - 7s 21ms/step - loss: 0.5212 - accuracy: 0.7780 - val_loss: 0.8344 - val_accuracy: 0.6458\n",
            "Epoch 6/10\n",
            "350/350 [==============================] - 7s 21ms/step - loss: 0.4250 - accuracy: 0.8241 - val_loss: 0.8197 - val_accuracy: 0.6483\n",
            "Epoch 7/10\n",
            "350/350 [==============================] - 7s 21ms/step - loss: 0.3555 - accuracy: 0.8529 - val_loss: 0.9485 - val_accuracy: 0.6517\n",
            "Epoch 8/10\n",
            "350/350 [==============================] - 7s 21ms/step - loss: 0.2998 - accuracy: 0.8845 - val_loss: 1.0191 - val_accuracy: 0.6558\n",
            "Epoch 9/10\n",
            "350/350 [==============================] - 7s 20ms/step - loss: 0.2575 - accuracy: 0.8984 - val_loss: 1.0936 - val_accuracy: 0.6508\n",
            "Epoch 10/10\n",
            "350/350 [==============================] - 7s 21ms/step - loss: 0.2180 - accuracy: 0.9209 - val_loss: 1.0757 - val_accuracy: 0.6475\n"
          ]
        },
        {
          "output_type": "stream",
          "name": "stderr",
          "text": [
            "[I 2024-05-09 14:25:02,797] Trial 1 finished with value: 1.0756701231002808 and parameters: {'lr': 4.5747263801791895e-05, 'batch_size': 16}. Best is trial 1 with value: 1.0756701231002808.\n",
            "WARNING:absl:`lr` is deprecated in Keras optimizer, please use `learning_rate` or use the legacy optimizer, e.g.,tf.keras.optimizers.legacy.Adam.\n"
          ]
        },
        {
          "output_type": "stream",
          "name": "stdout",
          "text": [
            "Epoch 1/10\n",
            "88/88 [==============================] - 13s 106ms/step - loss: 2.7052 - accuracy: 0.5323 - val_loss: 0.7803 - val_accuracy: 0.6058\n",
            "Epoch 2/10\n",
            "88/88 [==============================] - 5s 58ms/step - loss: 0.7108 - accuracy: 0.6696 - val_loss: 0.7707 - val_accuracy: 0.6258\n",
            "Epoch 3/10\n",
            "88/88 [==============================] - 5s 58ms/step - loss: 0.5916 - accuracy: 0.7354 - val_loss: 0.7201 - val_accuracy: 0.6533\n",
            "Epoch 4/10\n",
            "88/88 [==============================] - 5s 58ms/step - loss: 0.4883 - accuracy: 0.7916 - val_loss: 0.8334 - val_accuracy: 0.6550\n",
            "Epoch 5/10\n",
            "88/88 [==============================] - 5s 58ms/step - loss: 0.3887 - accuracy: 0.8416 - val_loss: 0.9495 - val_accuracy: 0.6125\n",
            "Epoch 6/10\n",
            "88/88 [==============================] - 5s 58ms/step - loss: 0.3720 - accuracy: 0.8396 - val_loss: 0.9933 - val_accuracy: 0.6417\n",
            "Epoch 7/10\n",
            "88/88 [==============================] - 5s 59ms/step - loss: 0.2479 - accuracy: 0.9048 - val_loss: 0.9379 - val_accuracy: 0.6500\n",
            "Epoch 8/10\n",
            "88/88 [==============================] - 5s 58ms/step - loss: 0.2034 - accuracy: 0.9286 - val_loss: 1.4962 - val_accuracy: 0.6042\n",
            "Epoch 9/10\n",
            "88/88 [==============================] - 5s 58ms/step - loss: 0.1368 - accuracy: 0.9498 - val_loss: 1.1867 - val_accuracy: 0.6658\n",
            "Epoch 10/10\n",
            "88/88 [==============================] - 5s 58ms/step - loss: 0.0689 - accuracy: 0.9768 - val_loss: 1.4020 - val_accuracy: 0.6700\n"
          ]
        },
        {
          "output_type": "stream",
          "name": "stderr",
          "text": [
            "[I 2024-05-09 14:26:05,931] Trial 2 finished with value: 1.402034044265747 and parameters: {'lr': 8.473990502287052e-05, 'batch_size': 64}. Best is trial 1 with value: 1.0756701231002808.\n",
            "WARNING:absl:`lr` is deprecated in Keras optimizer, please use `learning_rate` or use the legacy optimizer, e.g.,tf.keras.optimizers.legacy.Adam.\n"
          ]
        },
        {
          "output_type": "stream",
          "name": "stdout",
          "text": [
            "Epoch 1/10\n",
            "350/350 [==============================] - 10s 24ms/step - loss: 1.4459 - accuracy: 0.5354 - val_loss: 0.8690 - val_accuracy: 0.5675\n",
            "Epoch 2/10\n",
            "350/350 [==============================] - 7s 21ms/step - loss: 0.7545 - accuracy: 0.6271 - val_loss: 0.7839 - val_accuracy: 0.6167\n",
            "Epoch 3/10\n",
            "350/350 [==============================] - 7s 21ms/step - loss: 0.6466 - accuracy: 0.6952 - val_loss: 0.8335 - val_accuracy: 0.6208\n",
            "Epoch 4/10\n",
            "350/350 [==============================] - 7s 21ms/step - loss: 0.5525 - accuracy: 0.7564 - val_loss: 0.8808 - val_accuracy: 0.5950\n",
            "Epoch 5/10\n",
            "350/350 [==============================] - 7s 21ms/step - loss: 0.5117 - accuracy: 0.7784 - val_loss: 0.7478 - val_accuracy: 0.6558\n",
            "Epoch 6/10\n",
            "350/350 [==============================] - 7s 21ms/step - loss: 0.4420 - accuracy: 0.8100 - val_loss: 0.8556 - val_accuracy: 0.6433\n",
            "Epoch 7/10\n",
            "350/350 [==============================] - 7s 20ms/step - loss: 0.3339 - accuracy: 0.8687 - val_loss: 1.1943 - val_accuracy: 0.6150\n",
            "Epoch 8/10\n",
            "350/350 [==============================] - 7s 21ms/step - loss: 0.2954 - accuracy: 0.8825 - val_loss: 1.0780 - val_accuracy: 0.6450\n",
            "Epoch 9/10\n",
            "350/350 [==============================] - 7s 21ms/step - loss: 0.2638 - accuracy: 0.8989 - val_loss: 1.2320 - val_accuracy: 0.6658\n",
            "Epoch 10/10\n",
            "350/350 [==============================] - 7s 20ms/step - loss: 0.2571 - accuracy: 0.9055 - val_loss: 1.1750 - val_accuracy: 0.6517\n"
          ]
        },
        {
          "output_type": "stream",
          "name": "stderr",
          "text": [
            "[I 2024-05-09 14:27:25,511] Trial 3 finished with value: 1.1750277280807495 and parameters: {'lr': 0.0008015993811729398, 'batch_size': 16}. Best is trial 1 with value: 1.0756701231002808.\n",
            "WARNING:absl:`lr` is deprecated in Keras optimizer, please use `learning_rate` or use the legacy optimizer, e.g.,tf.keras.optimizers.legacy.Adam.\n"
          ]
        },
        {
          "output_type": "stream",
          "name": "stdout",
          "text": [
            "Epoch 1/10\n",
            "175/175 [==============================] - 8s 40ms/step - loss: 1.9418 - accuracy: 0.5521 - val_loss: 0.8044 - val_accuracy: 0.5833\n",
            "Epoch 2/10\n",
            "175/175 [==============================] - 6s 33ms/step - loss: 0.7282 - accuracy: 0.6568 - val_loss: 0.7432 - val_accuracy: 0.6367\n",
            "Epoch 3/10\n",
            "175/175 [==============================] - 6s 33ms/step - loss: 0.5952 - accuracy: 0.7302 - val_loss: 0.7524 - val_accuracy: 0.6475\n",
            "Epoch 4/10\n",
            "175/175 [==============================] - 6s 33ms/step - loss: 0.5427 - accuracy: 0.7670 - val_loss: 0.7375 - val_accuracy: 0.6725\n",
            "Epoch 5/10\n",
            "175/175 [==============================] - 6s 33ms/step - loss: 0.4002 - accuracy: 0.8300 - val_loss: 0.7861 - val_accuracy: 0.6650\n",
            "Epoch 6/10\n",
            "175/175 [==============================] - 6s 33ms/step - loss: 0.3459 - accuracy: 0.8634 - val_loss: 1.0440 - val_accuracy: 0.6183\n",
            "Epoch 7/10\n",
            "175/175 [==============================] - 6s 33ms/step - loss: 0.2962 - accuracy: 0.8814 - val_loss: 0.9742 - val_accuracy: 0.6617\n",
            "Epoch 8/10\n",
            "175/175 [==============================] - 6s 33ms/step - loss: 0.2065 - accuracy: 0.9202 - val_loss: 1.0850 - val_accuracy: 0.6700\n",
            "Epoch 9/10\n",
            "175/175 [==============================] - 6s 33ms/step - loss: 0.1686 - accuracy: 0.9359 - val_loss: 1.1306 - val_accuracy: 0.6717\n",
            "Epoch 10/10\n",
            "175/175 [==============================] - 6s 33ms/step - loss: 0.1342 - accuracy: 0.9488 - val_loss: 1.3252 - val_accuracy: 0.6733\n"
          ]
        },
        {
          "output_type": "stream",
          "name": "stderr",
          "text": [
            "[I 2024-05-09 14:28:32,449] Trial 4 finished with value: 1.3251692056655884 and parameters: {'lr': 1.0971489140922831e-05, 'batch_size': 32}. Best is trial 1 with value: 1.0756701231002808.\n"
          ]
        },
        {
          "output_type": "stream",
          "name": "stdout",
          "text": [
            "Best parameters: {'lr': 4.5747263801791895e-05, 'batch_size': 16}\n"
          ]
        }
      ]
    },
    {
      "cell_type": "markdown",
      "source": [
        "Training & Test"
      ],
      "metadata": {
        "id": "lhdB7e9DckDT"
      }
    },
    {
      "cell_type": "code",
      "source": [
        "print(study.best_params['lr'])\n",
        "print(study.best_params['batch_size'])\n"
      ],
      "metadata": {
        "colab": {
          "base_uri": "https://localhost:8080/"
        },
        "id": "Po2tObbljZuG",
        "outputId": "bdbe57f2-bde0-4df4-b1f2-dd8345155cf9"
      },
      "execution_count": 19,
      "outputs": [
        {
          "output_type": "stream",
          "name": "stdout",
          "text": [
            "4.5747263801791895e-05\n",
            "16\n"
          ]
        }
      ]
    },
    {
      "cell_type": "code",
      "source": [
        "def train_vgg16_model():\n",
        "  # Load pre-trained VGG16 model without top layers\n",
        "  base_model = VGG16(weights='imagenet', include_top=False, input_shape=(224, 224, 3))\n",
        "\n",
        "  # Freeze the base model layers\n",
        "  for layer in base_model.layers:\n",
        "      layer.trainable = False\n",
        "\n",
        "  # Add custom top layers for classification\n",
        "  model = Sequential([\n",
        "      base_model,\n",
        "      Flatten(),\n",
        "      Dense(4096, activation='relu'),\n",
        "      Dense(4096, activation='relu'),\n",
        "      Dense(4, activation='softmax')\n",
        "  ])\n",
        "\n",
        "  # Compile model\n",
        "  # optimizer = Adam(lr=5.520238899015578e-05)\n",
        "  optimizer = Adam(lr=study.best_params['lr'])\n",
        "  model.compile(optimizer=optimizer, loss='categorical_crossentropy', metrics=['accuracy'])\n",
        "\n",
        "  # Fine-tuning: Unfreeze some layers and train the entire model with new data\n",
        "  for layer in model.layers:\n",
        "      if 'block5' in layer.name:  # Unfreeze layers starting from 'block5'\n",
        "          layer.trainable = True\n",
        "\n",
        "  # Define early stopping callback\n",
        "  early_stopping = EarlyStopping(monitor='val_loss', patience=3, restore_best_weights=True)\n",
        "\n",
        "  # Train the model with early stopping\n",
        "  history = model.fit(X_train, y_train_one_hot, validation_data=(X_val, y_val_one_hot), batch_size=study.best_params['batch_size'], epochs=50, callbacks=[early_stopping])\n",
        "  # history = model.fit(X_train, y_train_one_hot, validation_data=(X_val, y_val_one_hot), batch_size=16, epochs=50, callbacks=[early_stopping])\n",
        "  # history = model.fit(X_train, y_train_one_hot, validation_data=(X_val, y_val_one_hot), batch_size=16, epochs=50)\n",
        "\n",
        "  # Plot training history\n",
        "  plt.plot(history.history['loss'], label='Training Loss')\n",
        "  plt.plot(history.history['val_loss'], label='Validation Loss')\n",
        "  plt.xlabel('Epoch')\n",
        "  plt.ylabel('Loss')\n",
        "  plt.legend()\n",
        "  plt.title('Training and Validation Loss')\n",
        "  plt.show()\n",
        "\n",
        "  # Evaluate the model\n",
        "  model.summary()\n",
        "  test_loss, test_acc = model.evaluate(X_test, y_test_one_hot)\n",
        "  print('Test accuracy:', test_acc)"
      ],
      "metadata": {
        "id": "G6Cei5K9cgft"
      },
      "execution_count": 20,
      "outputs": []
    },
    {
      "cell_type": "markdown",
      "source": [
        "# JPG"
      ],
      "metadata": {
        "id": "3fccoogvsCif"
      }
    },
    {
      "cell_type": "code",
      "source": [
        "train_vgg16_model()"
      ],
      "metadata": {
        "colab": {
          "base_uri": "https://localhost:8080/",
          "height": 1000
        },
        "id": "j7l7eUXRsEZx",
        "outputId": "6cf76132-2b83-429e-cab5-3bb53b44c01e"
      },
      "execution_count": 18,
      "outputs": [
        {
          "output_type": "stream",
          "name": "stderr",
          "text": [
            "WARNING:absl:`lr` is deprecated in Keras optimizer, please use `learning_rate` or use the legacy optimizer, e.g.,tf.keras.optimizers.legacy.Adam.\n"
          ]
        },
        {
          "output_type": "stream",
          "name": "stdout",
          "text": [
            "Epoch 1/50\n",
            "350/350 [==============================] - 10s 26ms/step - loss: 1.5059 - accuracy: 0.5362 - val_loss: 0.8181 - val_accuracy: 0.5908\n",
            "Epoch 2/50\n",
            "350/350 [==============================] - 7s 21ms/step - loss: 0.7284 - accuracy: 0.6557 - val_loss: 1.0342 - val_accuracy: 0.5142\n",
            "Epoch 3/50\n",
            "350/350 [==============================] - 8s 22ms/step - loss: 0.6627 - accuracy: 0.6834 - val_loss: 0.7870 - val_accuracy: 0.6158\n",
            "Epoch 4/50\n",
            "350/350 [==============================] - 7s 21ms/step - loss: 0.5683 - accuracy: 0.7418 - val_loss: 0.7330 - val_accuracy: 0.6633\n",
            "Epoch 5/50\n",
            "350/350 [==============================] - 7s 21ms/step - loss: 0.5014 - accuracy: 0.7880 - val_loss: 0.8195 - val_accuracy: 0.6483\n",
            "Epoch 6/50\n",
            "350/350 [==============================] - 7s 21ms/step - loss: 0.4390 - accuracy: 0.8134 - val_loss: 0.8351 - val_accuracy: 0.6625\n",
            "Epoch 7/50\n",
            "350/350 [==============================] - 8s 22ms/step - loss: 0.3568 - accuracy: 0.8532 - val_loss: 0.9598 - val_accuracy: 0.6400\n"
          ]
        },
        {
          "output_type": "display_data",
          "data": {
            "text/plain": [
              "<Figure size 640x480 with 1 Axes>"
            ],
            "image/png": "[encoded data removed]"
          },
          "metadata": {}
        },
        {
          "output_type": "stream",
          "name": "stdout",
          "text": [
            "Model: \"sequential_5\"\n",
            "_________________________________________________________________\n",
            " Layer (type)                Output Shape              Param #   \n",
            "=================================================================\n",
            " vgg16 (Functional)          (None, 7, 7, 512)         14714688  \n",
            "                                                                 \n",
            " flatten_5 (Flatten)         (None, 25088)             0         \n",
            "                                                                 \n",
            " dense_15 (Dense)            (None, 4096)              102764544 \n",
            "                                                                 \n",
            " dense_16 (Dense)            (None, 4096)              16781312  \n",
            "                                                                 \n",
            " dense_17 (Dense)            (None, 4)                 16388     \n",
            "                                                                 \n",
            "=================================================================\n",
            "Total params: 134276932 (512.23 MB)\n",
            "Trainable params: 119562244 (456.09 MB)\n",
            "Non-trainable params: 14714688 (56.13 MB)\n",
            "_________________________________________________________________\n",
            "38/38 [==============================] - 1s 24ms/step - loss: 0.7649 - accuracy: 0.6642\n",
            "Test accuracy: 0.6641666889190674\n"
          ]
        }
      ]
    },
    {
      "cell_type": "markdown",
      "source": [
        "# PNG"
      ],
      "metadata": {
        "id": "ClL8VF_YvJ08"
      }
    },
    {
      "cell_type": "code",
      "source": [
        "train_vgg16_model()"
      ],
      "metadata": {
        "colab": {
          "base_uri": "https://localhost:8080/",
          "height": 1000
        },
        "id": "8IxTq_t-vLSK",
        "outputId": "f944ad46-069f-4563-d2b4-f0244ad921e2"
      },
      "execution_count": 21,
      "outputs": [
        {
          "output_type": "stream",
          "name": "stderr",
          "text": [
            "WARNING:absl:`lr` is deprecated in Keras optimizer, please use `learning_rate` or use the legacy optimizer, e.g.,tf.keras.optimizers.legacy.Adam.\n"
          ]
        },
        {
          "output_type": "stream",
          "name": "stdout",
          "text": [
            "Epoch 1/50\n",
            "350/350 [==============================] - 10s 26ms/step - loss: 1.3144 - accuracy: 0.5412 - val_loss: 0.7908 - val_accuracy: 0.5817\n",
            "Epoch 2/50\n",
            "350/350 [==============================] - 7s 21ms/step - loss: 0.7577 - accuracy: 0.6325 - val_loss: 0.8625 - val_accuracy: 0.6142\n",
            "Epoch 3/50\n",
            "350/350 [==============================] - 7s 21ms/step - loss: 0.6429 - accuracy: 0.7077 - val_loss: 0.7800 - val_accuracy: 0.6350\n",
            "Epoch 4/50\n",
            "350/350 [==============================] - 8s 22ms/step - loss: 0.5467 - accuracy: 0.7557 - val_loss: 0.7986 - val_accuracy: 0.6292\n",
            "Epoch 5/50\n",
            "350/350 [==============================] - 8s 22ms/step - loss: 0.4818 - accuracy: 0.7984 - val_loss: 0.7796 - val_accuracy: 0.6608\n",
            "Epoch 6/50\n",
            "350/350 [==============================] - 8s 21ms/step - loss: 0.3994 - accuracy: 0.8434 - val_loss: 0.9117 - val_accuracy: 0.6642\n",
            "Epoch 7/50\n",
            "350/350 [==============================] - 7s 21ms/step - loss: 0.3490 - accuracy: 0.8645 - val_loss: 0.8881 - val_accuracy: 0.6700\n",
            "Epoch 8/50\n",
            "350/350 [==============================] - 8s 22ms/step - loss: 0.2958 - accuracy: 0.8820 - val_loss: 0.9571 - val_accuracy: 0.6542\n"
          ]
        },
        {
          "output_type": "display_data",
          "data": {
            "text/plain": [
              "<Figure size 640x480 with 1 Axes>"
            ],
            "image/png": "[encoded data removed]"
          },
          "metadata": {}
        },
        {
          "output_type": "stream",
          "name": "stdout",
          "text": [
            "Model: \"sequential_5\"\n",
            "_________________________________________________________________\n",
            " Layer (type)                Output Shape              Param #   \n",
            "=================================================================\n",
            " vgg16 (Functional)          (None, 7, 7, 512)         14714688  \n",
            "                                                                 \n",
            " flatten_5 (Flatten)         (None, 25088)             0         \n",
            "                                                                 \n",
            " dense_15 (Dense)            (None, 4096)              102764544 \n",
            "                                                                 \n",
            " dense_16 (Dense)            (None, 4096)              16781312  \n",
            "                                                                 \n",
            " dense_17 (Dense)            (None, 4)                 16388     \n",
            "                                                                 \n",
            "=================================================================\n",
            "Total params: 134276932 (512.23 MB)\n",
            "Trainable params: 119562244 (456.09 MB)\n",
            "Non-trainable params: 14714688 (56.13 MB)\n",
            "_________________________________________________________________\n",
            "38/38 [==============================] - 1s 25ms/step - loss: 0.7727 - accuracy: 0.6617\n",
            "Test accuracy: 0.6616666913032532\n"
          ]
        }
      ]
    },
    {
      "cell_type": "markdown",
      "source": [
        "# Gray JPG"
      ],
      "metadata": {
        "id": "uvFQIZ33mu7u"
      }
    },
    {
      "cell_type": "code",
      "source": [
        "train_vgg16_model()"
      ],
      "metadata": {
        "colab": {
          "base_uri": "https://localhost:8080/",
          "height": 1000
        },
        "id": "gf6q3umTkcMR",
        "outputId": "862d1578-cdeb-4cb0-ae04-19eeddc9e022"
      },
      "execution_count": 14,
      "outputs": [
        {
          "output_type": "stream",
          "name": "stderr",
          "text": [
            "WARNING:absl:`lr` is deprecated in Keras optimizer, please use `learning_rate` or use the legacy optimizer, e.g.,tf.keras.optimizers.legacy.Adam.\n"
          ]
        },
        {
          "output_type": "stream",
          "name": "stdout",
          "text": [
            "Epoch 1/50\n",
            "350/350 [==============================] - 13s 27ms/step - loss: 1.4476 - accuracy: 0.5337 - val_loss: 0.8039 - val_accuracy: 0.5983\n",
            "Epoch 2/50\n",
            "350/350 [==============================] - 8s 22ms/step - loss: 0.7467 - accuracy: 0.6464 - val_loss: 0.7575 - val_accuracy: 0.6258\n",
            "Epoch 3/50\n",
            "350/350 [==============================] - 7s 21ms/step - loss: 0.6370 - accuracy: 0.7048 - val_loss: 0.8170 - val_accuracy: 0.6250\n",
            "Epoch 4/50\n",
            "350/350 [==============================] - 7s 21ms/step - loss: 0.5544 - accuracy: 0.7563 - val_loss: 0.7567 - val_accuracy: 0.6683\n",
            "Epoch 5/50\n",
            "350/350 [==============================] - 7s 21ms/step - loss: 0.4992 - accuracy: 0.7911 - val_loss: 0.8078 - val_accuracy: 0.6542\n",
            "Epoch 6/50\n",
            "350/350 [==============================] - 7s 21ms/step - loss: 0.4398 - accuracy: 0.8184 - val_loss: 0.8200 - val_accuracy: 0.6625\n",
            "Epoch 7/50\n",
            "350/350 [==============================] - 8s 22ms/step - loss: 0.3577 - accuracy: 0.8593 - val_loss: 0.8459 - val_accuracy: 0.6792\n"
          ]
        },
        {
          "output_type": "display_data",
          "data": {
            "text/plain": [
              "<Figure size 640x480 with 1 Axes>"
            ],
            "image/png": "[encoded data removed]"
          },
          "metadata": {}
        },
        {
          "output_type": "stream",
          "name": "stdout",
          "text": [
            "Model: \"sequential\"\n",
            "_________________________________________________________________\n",
            " Layer (type)                Output Shape              Param #   \n",
            "=================================================================\n",
            " vgg16 (Functional)          (None, 7, 7, 512)         14714688  \n",
            "                                                                 \n",
            " flatten (Flatten)           (None, 25088)             0         \n",
            "                                                                 \n",
            " dense (Dense)               (None, 4096)              102764544 \n",
            "                                                                 \n",
            " dense_1 (Dense)             (None, 4096)              16781312  \n",
            "                                                                 \n",
            " dense_2 (Dense)             (None, 4)                 16388     \n",
            "                                                                 \n",
            "=================================================================\n",
            "Total params: 134276932 (512.23 MB)\n",
            "Trainable params: 119562244 (456.09 MB)\n",
            "Non-trainable params: 14714688 (56.13 MB)\n",
            "_________________________________________________________________\n",
            "38/38 [==============================] - 3s 23ms/step - loss: 0.7832 - accuracy: 0.6767\n",
            "Test accuracy: 0.6766666769981384\n"
          ]
        }
      ]
    },
    {
      "cell_type": "markdown",
      "source": [
        "# Gray PNG"
      ],
      "metadata": {
        "id": "D7nQXAN-lv2k"
      }
    },
    {
      "cell_type": "code",
      "source": [
        "train_vgg16_model()"
      ],
      "metadata": {
        "colab": {
          "base_uri": "https://localhost:8080/",
          "height": 1000
        },
        "id": "deaqYd5wlkAy",
        "outputId": "17b4978b-0eac-4d29-8c5d-fbdec46153f3"
      },
      "execution_count": 16,
      "outputs": [
        {
          "output_type": "stream",
          "name": "stderr",
          "text": [
            "WARNING:absl:`lr` is deprecated in Keras optimizer, please use `learning_rate` or use the legacy optimizer, e.g.,tf.keras.optimizers.legacy.Adam.\n"
          ]
        },
        {
          "output_type": "stream",
          "name": "stdout",
          "text": [
            "Epoch 1/50\n",
            "350/350 [==============================] - 13s 27ms/step - loss: 1.3113 - accuracy: 0.5441 - val_loss: 0.8340 - val_accuracy: 0.5725\n",
            "Epoch 2/50\n",
            "350/350 [==============================] - 7s 21ms/step - loss: 0.7291 - accuracy: 0.6480 - val_loss: 0.8635 - val_accuracy: 0.5967\n",
            "Epoch 3/50\n",
            "350/350 [==============================] - 7s 21ms/step - loss: 0.6501 - accuracy: 0.7061 - val_loss: 0.7651 - val_accuracy: 0.6467\n",
            "Epoch 4/50\n",
            "350/350 [==============================] - 7s 21ms/step - loss: 0.5569 - accuracy: 0.7545 - val_loss: 0.7240 - val_accuracy: 0.6600\n",
            "Epoch 5/50\n",
            "350/350 [==============================] - 7s 21ms/step - loss: 0.5153 - accuracy: 0.7761 - val_loss: 0.7838 - val_accuracy: 0.6575\n",
            "Epoch 6/50\n",
            "350/350 [==============================] - 7s 21ms/step - loss: 0.4314 - accuracy: 0.8198 - val_loss: 0.8523 - val_accuracy: 0.6483\n",
            "Epoch 7/50\n",
            "350/350 [==============================] - 7s 21ms/step - loss: 0.3548 - accuracy: 0.8582 - val_loss: 0.8684 - val_accuracy: 0.6633\n",
            "Epoch 8/50\n",
            "350/350 [==============================] - 7s 20ms/step - loss: 0.3329 - accuracy: 0.8680 - val_loss: 0.9400 - val_accuracy: 0.6792\n",
            "Epoch 9/50\n",
            "350/350 [==============================] - 8s 21ms/step - loss: 0.2650 - accuracy: 0.8993 - val_loss: 1.0846 - val_accuracy: 0.6633\n"
          ]
        },
        {
          "output_type": "display_data",
          "data": {
            "text/plain": [
              "<Figure size 640x480 with 1 Axes>"
            ],
            "image/png": "[encoded data removed]"
          },
          "metadata": {}
        },
        {
          "output_type": "stream",
          "name": "stdout",
          "text": [
            "Model: \"sequential\"\n",
            "_________________________________________________________________\n",
            " Layer (type)                Output Shape              Param #   \n",
            "=================================================================\n",
            " vgg16 (Functional)          (None, 7, 7, 512)         14714688  \n",
            "                                                                 \n",
            " flatten (Flatten)           (None, 25088)             0         \n",
            "                                                                 \n",
            " dense (Dense)               (None, 4096)              102764544 \n",
            "                                                                 \n",
            " dense_1 (Dense)             (None, 4096)              16781312  \n",
            "                                                                 \n",
            " dense_2 (Dense)             (None, 4)                 16388     \n",
            "                                                                 \n",
            "=================================================================\n",
            "Total params: 134276932 (512.23 MB)\n",
            "Trainable params: 119562244 (456.09 MB)\n",
            "Non-trainable params: 14714688 (56.13 MB)\n",
            "_________________________________________________________________\n",
            "38/38 [==============================] - 3s 23ms/step - loss: 0.7293 - accuracy: 0.6667\n",
            "Test accuracy: 0.6666666865348816\n"
          ]
        }
      ]
    },
    {
      "cell_type": "code",
      "source": [
        "images_jpg_score = 0.6641666889190674"
      ],
      "metadata": {
        "id": "oI_tcVwAenfw"
      },
      "execution_count": 28,
      "outputs": []
    },
    {
      "cell_type": "code",
      "source": [
        "images_png_score = 0.6616666913032532"
      ],
      "metadata": {
        "id": "ATI12XZ8fJqH"
      },
      "execution_count": 29,
      "outputs": []
    },
    {
      "cell_type": "code",
      "source": [
        "images_gray_jpg_score = 0.6766666769981384"
      ],
      "metadata": {
        "id": "ZM9HJi08fuxv"
      },
      "execution_count": null,
      "outputs": []
    },
    {
      "cell_type": "code",
      "source": [
        "images_gray_png_score = 0.6666666865348816"
      ],
      "metadata": {
        "id": "H0cbmGMQnD4C"
      },
      "execution_count": null,
      "outputs": []
    }
  ]
}
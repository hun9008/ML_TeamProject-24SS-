{
 "cells": [
  {
   "cell_type": "code",
   "execution_count": 35,
   "metadata": {},
   "outputs": [],
   "source": [
    "import cv2\n",
    "import numpy as np\n",
    "\n",
    "# 이미지 로드\n",
    "image = cv2.imread('crop_D0_0abd573d-60a5-11ec-8402-0a7404972c70.png', cv2.IMREAD_GRAYSCALE)\n",
    "\n",
    "# 이진화\n",
    "_, binary = cv2.threshold(image, 50, 255, cv2.THRESH_BINARY)\n",
    "\n",
    "# 컨투어 찾기\n",
    "contours, _ = cv2.findContours(binary, cv2.RETR_EXTERNAL, cv2.CHAIN_APPROX_SIMPLE)\n",
    "\n",
    "# 눈알 영역만 추출\n",
    "for contour in contours:\n",
    "    x, y, w, h = cv2.boundingRect(contour)\n",
    "    eye = image[y:y+h, x:x+w]\n",
    "\n",
    "# 결과 출력\n",
    "cv2.imshow('Eye', eye)\n",
    "cv2.waitKey(0)\n",
    "cv2.destroyAllWindows()"
   ]
  },
  {
   "cell_type": "code",
   "execution_count": 24,
   "metadata": {},
   "outputs": [
    {
     "data": {
      "text/plain": [
       "-1"
      ]
     },
     "execution_count": 24,
     "metadata": {},
     "output_type": "execute_result"
    }
   ],
   "source": [
    "#사진에서 안구영역만 추출해서 저장\n",
    "# 안구 영역만 추출해서 저장\n",
    "height, width = image.shape\n",
    "\n",
    "# 안구 영역만 추출해서 저장\n",
    "x1 = max(0, int(x-max_radius))\n",
    "y1 = 0\n",
    "x2 = min(width, int(x+max_radius))\n",
    "y2 = min(height, int(y+max_radius))\n",
    "\n",
    "crop_image = image[y1:y2, x1:x2]\n",
    "\n",
    "cv2.imwrite('crop_eye.png', crop_image)\n",
    "\n",
    "# 안구 이미지 출력\n",
    "cv2.imshow('crop_eye', crop_image)\n",
    "cv2.waitKey(0)"
   ]
  },
  {
   "cell_type": "code",
   "execution_count": null,
   "metadata": {},
   "outputs": [],
   "source": []
  }
 ],
 "metadata": {
  "kernelspec": {
   "display_name": "base",
   "language": "python",
   "name": "python3"
  },
  "language_info": {
   "codemirror_mode": {
    "name": "ipython",
    "version": 3
   },
   "file_extension": ".py",
   "mimetype": "text/x-python",
   "name": "python",
   "nbconvert_exporter": "python",
   "pygments_lexer": "ipython3",
   "version": "3.9.13"
  }
 },
 "nbformat": 4,
 "nbformat_minor": 2
}
